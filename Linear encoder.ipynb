{
 "cells": [
  {
   "cell_type": "markdown",
   "id": "ee4749d9",
   "metadata": {},
   "source": [
    "# Линейный Энкодер-Декодер"
   ]
  },
  {
   "cell_type": "code",
   "execution_count": 5,
   "id": "cfbcd60c",
   "metadata": {},
   "outputs": [],
   "source": [
    "import matplotlib.pyplot as plt\n",
    "import numpy as np\n",
    "import pandas as pd\n",
    "from tqdm import tqdm\n",
    "plt.style.use('seaborn')\n",
    "\n",
    "import torch\n",
    "import torch.nn as nn\n",
    "from torch.utils.tensorboard import SummaryWriter\n",
    "from pathlib import Path\n",
    "from skimage import transform\n",
    "from sklearn.model_selection import train_test_split\n",
    "from sklearn.metrics import roc_auc_score, f1_score\n",
    "from functions import *\n",
    "from functions import good_cols, SignalDataset\n",
    "%matplotlib inline"
   ]
  },
  {
   "cell_type": "code",
   "execution_count": null,
   "id": "ba4fbde3",
   "metadata": {},
   "outputs": [],
   "source": []
  },
  {
   "cell_type": "code",
   "execution_count": 3,
   "id": "620ea0fd",
   "metadata": {},
   "outputs": [
    {
     "name": "stderr",
     "output_type": "stream",
     "text": [
      "100%|████████████████████████████████████████████████████████████████████████████████████| 9/9 [00:18<00:00,  2.01s/it]\n"
     ]
    }
   ],
   "source": [
    "all_df = get_df()"
   ]
  },
  {
   "cell_type": "markdown",
   "id": "5d1af43f",
   "metadata": {},
   "source": [
    "### Выбираем длину"
   ]
  },
  {
   "cell_type": "code",
   "execution_count": 7,
   "id": "ac836c2a",
   "metadata": {},
   "outputs": [
    {
     "data": {
      "text/plain": [
       "(83, 32)"
      ]
     },
     "execution_count": 7,
     "metadata": {},
     "output_type": "execute_result"
    }
   ],
   "source": [
    "TARGET_LEN = 10000\n",
    "activities = sep_by_len(all_df, TARGET_LEN)\n",
    "activities.shape"
   ]
  },
  {
   "cell_type": "code",
   "execution_count": 16,
   "id": "24169283",
   "metadata": {},
   "outputs": [
    {
     "name": "stderr",
     "output_type": "stream",
     "text": [
      "100%|██████████████████████████████████████████████████████████████████████████████████| 83/83 [00:01<00:00, 67.30it/s]\n"
     ]
    },
    {
     "data": {
      "text/html": [
       "<div>\n",
       "<style scoped>\n",
       "    .dataframe tbody tr th:only-of-type {\n",
       "        vertical-align: middle;\n",
       "    }\n",
       "\n",
       "    .dataframe tbody tr th {\n",
       "        vertical-align: top;\n",
       "    }\n",
       "\n",
       "    .dataframe thead th {\n",
       "        text-align: right;\n",
       "    }\n",
       "</style>\n",
       "<table border=\"1\" class=\"dataframe\">\n",
       "  <thead>\n",
       "    <tr style=\"text-align: right;\">\n",
       "      <th></th>\n",
       "      <th>activityID</th>\n",
       "      <th>heart rate</th>\n",
       "      <th>temperature hand</th>\n",
       "      <th>3Da_x scale_16 hand</th>\n",
       "      <th>3Da_y scale_16 hand</th>\n",
       "      <th>3Da_z scale_16 hand</th>\n",
       "      <th>3Dg_x hand</th>\n",
       "      <th>3Dg_y hand</th>\n",
       "      <th>3Dg_z hand</th>\n",
       "      <th>3Dm_x hand</th>\n",
       "      <th>...</th>\n",
       "      <th>temperature ankle</th>\n",
       "      <th>3Da_x scale_16 ankle</th>\n",
       "      <th>3Da_y scale_16 ankle</th>\n",
       "      <th>3Da_z scale_16 ankle</th>\n",
       "      <th>3Dg_x ankle</th>\n",
       "      <th>3Dg_y ankle</th>\n",
       "      <th>3Dg_z ankle</th>\n",
       "      <th>3Dm_x ankle</th>\n",
       "      <th>3Dm_y ankle</th>\n",
       "      <th>3Dm_z ankle</th>\n",
       "    </tr>\n",
       "  </thead>\n",
       "  <tbody>\n",
       "    <tr>\n",
       "      <th>315</th>\n",
       "      <td>1</td>\n",
       "      <td>[77.0, 77.0, 77.0, 77.0, 77.0, 77.0, 77.0, 77....</td>\n",
       "      <td>[32.5625, 32.5625, 32.5625, 32.5625, 32.5625, ...</td>\n",
       "      <td>[0.31857, 0.298701, 0.323119, 0.110102, 0.0501...</td>\n",
       "      <td>[-1.86642, -1.97525, -1.9789, -1.98348, -2.102...</td>\n",
       "      <td>[10.7122, 11.2511, 10.8666, 10.1706, 9.55432, ...</td>\n",
       "      <td>[-0.023271, -0.192594, -0.299251, -0.435078, -...</td>\n",
       "      <td>[0.047595, 0.0970895, 0.0955403, 0.108558, 0.1...</td>\n",
       "      <td>[0.0298807, 0.0225823, 0.0345088, 0.0774418, 0...</td>\n",
       "      <td>[39.39, 39.7658, 39.7474, 39.8733, 39.7429, 40...</td>\n",
       "      <td>...</td>\n",
       "      <td>[33.125, 33.125, 33.125, 33.125, 33.125, 33.12...</td>\n",
       "      <td>[2.022, 2.12968, 1.95226, 1.83138, 1.94385, 1....</td>\n",
       "      <td>[-9.65754, -9.69493, -9.73461, -9.69336, -9.65...</td>\n",
       "      <td>[-0.0512793, -0.204301, 0.141432, -0.168781, -...</td>\n",
       "      <td>[-0.0467202, -0.0243975, -0.0885604, -0.041138...</td>\n",
       "      <td>[-0.0333793, -0.00166175, -0.0106538, -0.02182...</td>\n",
       "      <td>[-0.0094598, -0.00831586, -0.000691673, 0.0237...</td>\n",
       "      <td>[-19.548, -20.5659, -19.8038, -19.8065, -20.19...</td>\n",
       "      <td>[19.325, 19.6358, 19.2082, 19.3371, 19.3555, 1...</td>\n",
       "      <td>[-12.0151, -11.1681, -12.2995, -12.2997, -12.5...</td>\n",
       "    </tr>\n",
       "  </tbody>\n",
       "</table>\n",
       "<p>1 rows × 32 columns</p>\n",
       "</div>"
      ],
      "text/plain": [
       "    activityID                                         heart rate  \\\n",
       "315          1  [77.0, 77.0, 77.0, 77.0, 77.0, 77.0, 77.0, 77....   \n",
       "\n",
       "                                      temperature hand  \\\n",
       "315  [32.5625, 32.5625, 32.5625, 32.5625, 32.5625, ...   \n",
       "\n",
       "                                   3Da_x scale_16 hand  \\\n",
       "315  [0.31857, 0.298701, 0.323119, 0.110102, 0.0501...   \n",
       "\n",
       "                                   3Da_y scale_16 hand  \\\n",
       "315  [-1.86642, -1.97525, -1.9789, -1.98348, -2.102...   \n",
       "\n",
       "                                   3Da_z scale_16 hand  \\\n",
       "315  [10.7122, 11.2511, 10.8666, 10.1706, 9.55432, ...   \n",
       "\n",
       "                                            3Dg_x hand  \\\n",
       "315  [-0.023271, -0.192594, -0.299251, -0.435078, -...   \n",
       "\n",
       "                                            3Dg_y hand  \\\n",
       "315  [0.047595, 0.0970895, 0.0955403, 0.108558, 0.1...   \n",
       "\n",
       "                                            3Dg_z hand  \\\n",
       "315  [0.0298807, 0.0225823, 0.0345088, 0.0774418, 0...   \n",
       "\n",
       "                                            3Dm_x hand  ...  \\\n",
       "315  [39.39, 39.7658, 39.7474, 39.8733, 39.7429, 40...  ...   \n",
       "\n",
       "                                     temperature ankle  \\\n",
       "315  [33.125, 33.125, 33.125, 33.125, 33.125, 33.12...   \n",
       "\n",
       "                                  3Da_x scale_16 ankle  \\\n",
       "315  [2.022, 2.12968, 1.95226, 1.83138, 1.94385, 1....   \n",
       "\n",
       "                                  3Da_y scale_16 ankle  \\\n",
       "315  [-9.65754, -9.69493, -9.73461, -9.69336, -9.65...   \n",
       "\n",
       "                                  3Da_z scale_16 ankle  \\\n",
       "315  [-0.0512793, -0.204301, 0.141432, -0.168781, -...   \n",
       "\n",
       "                                           3Dg_x ankle  \\\n",
       "315  [-0.0467202, -0.0243975, -0.0885604, -0.041138...   \n",
       "\n",
       "                                           3Dg_y ankle  \\\n",
       "315  [-0.0333793, -0.00166175, -0.0106538, -0.02182...   \n",
       "\n",
       "                                           3Dg_z ankle  \\\n",
       "315  [-0.0094598, -0.00831586, -0.000691673, 0.0237...   \n",
       "\n",
       "                                           3Dm_x ankle  \\\n",
       "315  [-19.548, -20.5659, -19.8038, -19.8065, -20.19...   \n",
       "\n",
       "                                           3Dm_y ankle  \\\n",
       "315  [19.325, 19.6358, 19.2082, 19.3371, 19.3555, 1...   \n",
       "\n",
       "                                           3Dm_z ankle  \n",
       "315  [-12.0151, -11.1681, -12.2995, -12.2997, -12.5...  \n",
       "\n",
       "[1 rows x 32 columns]"
      ]
     },
     "execution_count": 16,
     "metadata": {},
     "output_type": "execute_result"
    }
   ],
   "source": [
    "CUT_LEN = 500\n",
    "cut_df = cut_act(activities, CUT_LEN, count=10, random_start=True)\n",
    "cut_df.sample()"
   ]
  },
  {
   "cell_type": "markdown",
   "id": "59450165",
   "metadata": {},
   "source": [
    "### Получаем признаки"
   ]
  },
  {
   "cell_type": "code",
   "execution_count": 17,
   "id": "413c6e45",
   "metadata": {},
   "outputs": [
    {
     "data": {
      "text/plain": [
       "((830, 31), (830,))"
      ]
     },
     "execution_count": 17,
     "metadata": {},
     "output_type": "execute_result"
    }
   ],
   "source": [
    "X = cut_df.iloc[:, 1:].values\n",
    "\n",
    "Y = cut_df.iloc[:, 0] # целевая переменная\n",
    "X.shape, Y.shape"
   ]
  },
  {
   "cell_type": "code",
   "execution_count": 18,
   "id": "2fd00ff0",
   "metadata": {},
   "outputs": [
    {
     "data": {
      "text/plain": [
       "array([ 0,  1,  2,  3,  4,  5,  6,  7,  8,  9, 10, 11])"
      ]
     },
     "execution_count": 18,
     "metadata": {},
     "output_type": "execute_result"
    }
   ],
   "source": [
    "y_targ = y_encode(Y)\n",
    "np.unique(y_targ)"
   ]
  },
  {
   "cell_type": "markdown",
   "id": "3c433648",
   "metadata": {},
   "source": [
    "### Нормализация"
   ]
  },
  {
   "cell_type": "code",
   "execution_count": 42,
   "id": "f922ec39",
   "metadata": {},
   "outputs": [
    {
     "data": {
      "text/plain": [
       "(-44.73216715473328, 85.04181339423285, -2.732036490188942e-15)"
      ]
     },
     "execution_count": 42,
     "metadata": {},
     "output_type": "execute_result"
    }
   ],
   "source": [
    "X_norm = normalize_dif_len(X)\n",
    "X_norm.shape"
   ]
  },
  {
   "cell_type": "markdown",
   "id": "f0073ac0",
   "metadata": {},
   "source": [
    "### Приводим к одной длине"
   ]
  },
  {
   "cell_type": "code",
   "execution_count": 33,
   "id": "46c402ea",
   "metadata": {},
   "outputs": [
    {
     "data": {
      "text/plain": [
       "(830, 500, 31)"
      ]
     },
     "execution_count": 33,
     "metadata": {},
     "output_type": "execute_result"
    }
   ],
   "source": [
    "X_eq = np.transpose(np.array(X_norm,dtype=np.float64), axes = [1,0,2])\n",
    "X_eq.shape"
   ]
  },
  {
   "cell_type": "code",
   "execution_count": 34,
   "id": "2ec92ffa",
   "metadata": {},
   "outputs": [
    {
     "data": {
      "text/plain": [
       "(830, 15500)"
      ]
     },
     "execution_count": 34,
     "metadata": {},
     "output_type": "execute_result"
    }
   ],
   "source": [
    "X_flat = get_flatten(X_eq)\n",
    "X_flat.shape"
   ]
  },
  {
   "cell_type": "code",
   "execution_count": 36,
   "id": "c00d0205",
   "metadata": {},
   "outputs": [
    {
     "data": {
      "text/plain": [
       "(torch.Size([664, 15500]),\n",
       " torch.Size([664]),\n",
       " array([ 0,  1,  2,  3,  4,  5,  6,  7,  8,  9, 10, 11], dtype=int64),\n",
       " array([ 0,  1,  2,  3,  4,  5,  6,  7,  8,  9, 10, 11], dtype=int64))"
      ]
     },
     "execution_count": 36,
     "metadata": {},
     "output_type": "execute_result"
    }
   ],
   "source": [
    "X_train_tensor, X_val_tensor, y_train_tensor, y_val_tensor = \\\n",
    "    train_test_split(torch.FloatTensor(X_flat), torch.LongTensor(y_targ), random_state=42, test_size = 0.2)\n",
    "X_train_tensor.shape, y_train_tensor.shape, np.unique(y_train_tensor), np.unique(y_val_tensor)"
   ]
  },
  {
   "cell_type": "code",
   "execution_count": 37,
   "id": "4ccb4022",
   "metadata": {},
   "outputs": [
    {
     "data": {
      "text/plain": [
       "664"
      ]
     },
     "execution_count": 37,
     "metadata": {},
     "output_type": "execute_result"
    }
   ],
   "source": [
    "BATCH_SIZE = 64\n",
    "\n",
    "trainset = SignalDataset(X_train_tensor, y_train_tensor)\n",
    "trainloader = torch.utils.data.DataLoader(trainset, batch_size=BATCH_SIZE,\n",
    "                                          shuffle=True, num_workers=0)\n",
    "\n",
    "testset = SignalDataset(X_val_tensor, y_val_tensor)\n",
    "testloader = torch.utils.data.DataLoader(testset, batch_size=BATCH_SIZE,\n",
    "                                         shuffle=False, num_workers=0)\n",
    "len(trainset)"
   ]
  },
  {
   "cell_type": "markdown",
   "id": "bd7fb0d7",
   "metadata": {},
   "source": [
    "## Подготовка модели"
   ]
  },
  {
   "cell_type": "code",
   "execution_count": 38,
   "id": "51075487",
   "metadata": {},
   "outputs": [
    {
     "data": {
      "text/plain": [
       "(tensor(-44.7322), tensor(85.0418))"
      ]
     },
     "execution_count": 38,
     "metadata": {},
     "output_type": "execute_result"
    }
   ],
   "source": [
    "torch.min(X_train_tensor), torch.max(X_train_tensor)"
   ]
  },
  {
   "cell_type": "code",
   "execution_count": 53,
   "id": "a0d1188c",
   "metadata": {},
   "outputs": [],
   "source": [
    "activation = nn.LeakyReLU\n",
    "\n",
    "class Autoencoder(nn.Module):\n",
    "    def __init__(self, input_size):\n",
    "        super(Autoencoder, self).__init__()\n",
    "        \n",
    "        self.encoder = nn.Sequential(\n",
    "            nn.Linear(input_size, 1024),\n",
    "            activation(),\n",
    "            nn.Linear(1024, 128),\n",
    "            activation(),\n",
    "            nn.Linear(128, 64),\n",
    "            activation(),\n",
    "            nn.Linear(64, 16),\n",
    "        )\n",
    "        \n",
    "        self.decoder = nn.Sequential(\n",
    "            nn.Linear(16, 64),\n",
    "            activation(),\n",
    "            nn.Linear(64, 128),\n",
    "            activation(),\n",
    "            nn.Linear(128, 1024),\n",
    "            activation(),\n",
    "            nn.Linear(1024, input_size),\n",
    "            \n",
    "        )\n",
    "    \n",
    "    def forward(self, x):\n",
    "        enc = self.encoder(x)\n",
    "        dec = self.decoder(enc)\n",
    "        return dec\n",
    "\n",
    "net = Autoencoder(X_train_tensor.shape[1])"
   ]
  },
  {
   "cell_type": "markdown",
   "id": "d7644e9a",
   "metadata": {},
   "source": [
    "## Обучение"
   ]
  },
  {
   "cell_type": "code",
   "execution_count": null,
   "id": "1716c089",
   "metadata": {},
   "outputs": [
    {
     "name": "stderr",
     "output_type": "stream",
     "text": [
      "[75/100] current loss: 0.005572364519698074:  75%|███████████████████████████         | 75/100 [03:08<01:02,  2.51s/it]"
     ]
    }
   ],
   "source": [
    "NUM_EPOCHS = 100\n",
    "\n",
    "loss_fn = torch.nn.MSELoss()\n",
    "losses = []\n",
    "val_losses = []\n",
    "\n",
    "learning_rate = 3e-3\n",
    "optimizer = torch.optim.AdamW(net.parameters(), lr=learning_rate)\n",
    "ebar = tqdm(range(NUM_EPOCHS))\n",
    "\n",
    "for epoch_num in ebar:\n",
    "    running_loss = 0.0\n",
    "    iter_num = 0\n",
    "#     pbar = tqdm(enumerate(trainloader), total = len(trainloader))\n",
    "    pbar = enumerate(trainloader)\n",
    "    for iter_num, (X_batch, y_batch) in pbar:\n",
    "        iter_num +=1\n",
    "        \n",
    "        recon = net(X_batch)\n",
    "        \n",
    "        loss = loss_fn(recon, X_batch)\n",
    "        running_loss += loss.item()\n",
    "                     \n",
    "        optimizer.zero_grad()\n",
    "        loss.backward()\n",
    "        optimizer.step()\n",
    "        \n",
    "    line = '[{}/{}] current loss: {}'.format(epoch_num+1, NUM_EPOCHS, running_loss/len(trainset))\n",
    "    ebar.set_description(line)\n",
    "    \n",
    "    losses.append(running_loss/len(trainset))\n",
    "        \n",
    "    with torch.no_grad():\n",
    "        recon = net(X_val_tensor)\n",
    "        score = loss_fn(recon, X_val_tensor)\n",
    "#         line = '[{}/{}] current valid score: {}'.format(epoch_num+1, NUM_EPOCHS, f1_score(y_val_tensor, y, average='macro'))\n",
    "#         print(line)\n",
    "        val_losses.append(score)"
   ]
  },
  {
   "cell_type": "code",
   "execution_count": null,
   "id": "e012f71d",
   "metadata": {},
   "outputs": [],
   "source": [
    "fig, axs = plt.subplots(1,2,figsize=(30,8))\n",
    "axs[0].plot(np.arange(NUM_EPOCHS), losses)\n",
    "axs[1].plot(np.arange(NUM_EPOCHS), val_losses, color='red')\n",
    "plt.show()"
   ]
  },
  {
   "cell_type": "markdown",
   "id": "a5963f46",
   "metadata": {},
   "source": [
    "### Оценка точности"
   ]
  },
  {
   "cell_type": "code",
   "execution_count": 272,
   "id": "61ef744b",
   "metadata": {},
   "outputs": [
    {
     "name": "stdout",
     "output_type": "stream",
     "text": [
      "1 0.6666666666666666\n",
      "2 0.6666666666666666\n",
      "3 0.4117647058823529\n",
      "4 0.5\n",
      "5 0.0\n",
      "6 0.6153846153846154\n",
      "7 0.8\n",
      "16 0.21052631578947367\n",
      "17 0.42857142857142855\n"
     ]
    }
   ],
   "source": [
    "for i in range(len(np.unique(y_val_tensor))):\n",
    "    idx = np.argwhere(y_val_tensor==i)[0]\n",
    "    y_pred = torch.sigmoid(net(X_val_tensor[idx]))\n",
    "    y = torch.argmax(y_pred, axis=1)\n",
    "    print(np.unique(Y)[i], len(y[y==i])/len(idx))"
   ]
  },
  {
   "cell_type": "code",
   "execution_count": 273,
   "id": "7a0a2552",
   "metadata": {},
   "outputs": [
    {
     "name": "stdout",
     "output_type": "stream",
     "text": [
      "0.8568955266917083\n",
      "0.4850930284350785\n"
     ]
    }
   ],
   "source": [
    "with torch.no_grad():\n",
    "    y_pred = torch.softmax(net(X_val_tensor), 1)\n",
    "    y = torch.argmax(y_pred, axis=1)\n",
    "#     print(net(X_val_tensor).shape)\n",
    "    print(roc_auc_score(y_val_tensor, y_pred, multi_class='ovo'))\n",
    "    print(f1_score(y_val_tensor, y, average='macro'))"
   ]
  }
 ],
 "metadata": {
  "kernelspec": {
   "display_name": "Python 3",
   "language": "python",
   "name": "python3"
  },
  "language_info": {
   "codemirror_mode": {
    "name": "ipython",
    "version": 3
   },
   "file_extension": ".py",
   "mimetype": "text/x-python",
   "name": "python",
   "nbconvert_exporter": "python",
   "pygments_lexer": "ipython3",
   "version": "3.8.3"
  }
 },
 "nbformat": 4,
 "nbformat_minor": 5
}
