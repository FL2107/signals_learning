{
 "cells": [
  {
   "cell_type": "markdown",
   "id": "b116b71b",
   "metadata": {},
   "source": [
    "# Пробуем простую полносвязную сеть"
   ]
  },
  {
   "cell_type": "code",
   "execution_count": 1,
   "id": "ee147735",
   "metadata": {},
   "outputs": [
    {
     "name": "stderr",
     "output_type": "stream",
     "text": [
      "C:\\Users\\kitro\\anaconda3\\lib\\site-packages\\setuptools\\distutils_patch.py:25: UserWarning: Distutils was imported before Setuptools. This usage is discouraged and may exhibit undesirable behaviors or errors. Please use Setuptools' objects directly or at least import Setuptools first.\n",
      "  warnings.warn(\n"
     ]
    }
   ],
   "source": [
    "import matplotlib.pyplot as plt\n",
    "import numpy as np\n",
    "import pandas as pd\n",
    "from tqdm import tqdm\n",
    "plt.style.use('seaborn')\n",
    "\n",
    "import torch\n",
    "import torch.nn as nn\n",
    "from torch.utils.data import Dataset, DataLoader, TensorDataset\n",
    "from torch.utils.tensorboard import SummaryWriter\n",
    "from pathlib import Path\n",
    "from skimage import transform\n",
    "from sklearn.model_selection import train_test_split\n",
    "from sklearn.metrics import roc_auc_score, f1_score\n",
    "from read_data import *\n",
    "from read_data import good_cols\n",
    "%matplotlib inline"
   ]
  },
  {
   "cell_type": "code",
   "execution_count": 2,
   "id": "45e0dc7c",
   "metadata": {},
   "outputs": [
    {
     "name": "stderr",
     "output_type": "stream",
     "text": [
      "100%|████████████████████████████████████████████████████████████████████████████████████| 9/9 [00:33<00:00,  3.73s/it]\n"
     ]
    },
    {
     "data": {
      "text/html": [
       "<div>\n",
       "<style scoped>\n",
       "    .dataframe tbody tr th:only-of-type {\n",
       "        vertical-align: middle;\n",
       "    }\n",
       "\n",
       "    .dataframe tbody tr th {\n",
       "        vertical-align: top;\n",
       "    }\n",
       "\n",
       "    .dataframe thead th {\n",
       "        text-align: right;\n",
       "    }\n",
       "</style>\n",
       "<table border=\"1\" class=\"dataframe\">\n",
       "  <thead>\n",
       "    <tr style=\"text-align: right;\">\n",
       "      <th></th>\n",
       "      <th>activityID</th>\n",
       "      <th>heart rate</th>\n",
       "      <th>temperature hand</th>\n",
       "      <th>3Da_x scale_16 hand</th>\n",
       "      <th>3Da_y scale_16 hand</th>\n",
       "      <th>3Da_z scale_16 hand</th>\n",
       "      <th>3Dg_x hand</th>\n",
       "      <th>3Dg_y hand</th>\n",
       "      <th>3Dg_z hand</th>\n",
       "      <th>3Dm_x hand</th>\n",
       "      <th>...</th>\n",
       "      <th>temperature ankle</th>\n",
       "      <th>3Da_x scale_16 ankle</th>\n",
       "      <th>3Da_y scale_16 ankle</th>\n",
       "      <th>3Da_z scale_16 ankle</th>\n",
       "      <th>3Dg_x ankle</th>\n",
       "      <th>3Dg_y ankle</th>\n",
       "      <th>3Dg_z ankle</th>\n",
       "      <th>3Dm_x ankle</th>\n",
       "      <th>3Dm_y ankle</th>\n",
       "      <th>3Dm_z ankle</th>\n",
       "    </tr>\n",
       "  </thead>\n",
       "  <tbody>\n",
       "    <tr>\n",
       "      <th>37</th>\n",
       "      <td>7</td>\n",
       "      <td>[0.0625, 0.0625, 0.0625, 0.0625, 0.0625, 0.062...</td>\n",
       "      <td>[1.0, 1.0, 1.0, 1.0, 1.0, 1.0, 1.0, 1.0, 1.0, ...</td>\n",
       "      <td>[0.5807687784651435, 0.5875660042887362, 0.592...</td>\n",
       "      <td>[0.28103391128129085, 0.28204211470535184, 0.2...</td>\n",
       "      <td>[0.42413333449688667, 0.4326688716004241, 0.43...</td>\n",
       "      <td>[0.442983216579101, 0.41466287215411557, 0.386...</td>\n",
       "      <td>[0.8654766505157396, 0.8727275815650121, 0.861...</td>\n",
       "      <td>[0.6100960800600779, 0.624218126690715, 0.6420...</td>\n",
       "      <td>[0.6133390566248151, 0.597803055648489, 0.5847...</td>\n",
       "      <td>...</td>\n",
       "      <td>[1.0, 1.0, 1.0, 1.0, 1.0, 1.0, 1.0, 1.0, 1.0, ...</td>\n",
       "      <td>[0.2943924997534028, 0.29856059712339117, 0.29...</td>\n",
       "      <td>[0.6460575419653657, 0.646604124258784, 0.6465...</td>\n",
       "      <td>[0.4937778510383286, 0.4948768058648176, 0.497...</td>\n",
       "      <td>[0.4896060059425519, 0.4909526148010758, 0.488...</td>\n",
       "      <td>[0.5892198590882386, 0.5903698419058085, 0.585...</td>\n",
       "      <td>[0.4654053591766975, 0.4646651159381138, 0.462...</td>\n",
       "      <td>[0.29610254837395705, 0.3042320221391264, 0.30...</td>\n",
       "      <td>[0.776323860977796, 0.7734719472547551, 0.7774...</td>\n",
       "      <td>[0.6292756420449089, 0.6360089861885369, 0.627...</td>\n",
       "    </tr>\n",
       "  </tbody>\n",
       "</table>\n",
       "<p>1 rows × 32 columns</p>\n",
       "</div>"
      ],
      "text/plain": [
       "   activityID                                         heart rate  \\\n",
       "37          7  [0.0625, 0.0625, 0.0625, 0.0625, 0.0625, 0.062...   \n",
       "\n",
       "                                     temperature hand  \\\n",
       "37  [1.0, 1.0, 1.0, 1.0, 1.0, 1.0, 1.0, 1.0, 1.0, ...   \n",
       "\n",
       "                                  3Da_x scale_16 hand  \\\n",
       "37  [0.5807687784651435, 0.5875660042887362, 0.592...   \n",
       "\n",
       "                                  3Da_y scale_16 hand  \\\n",
       "37  [0.28103391128129085, 0.28204211470535184, 0.2...   \n",
       "\n",
       "                                  3Da_z scale_16 hand  \\\n",
       "37  [0.42413333449688667, 0.4326688716004241, 0.43...   \n",
       "\n",
       "                                           3Dg_x hand  \\\n",
       "37  [0.442983216579101, 0.41466287215411557, 0.386...   \n",
       "\n",
       "                                           3Dg_y hand  \\\n",
       "37  [0.8654766505157396, 0.8727275815650121, 0.861...   \n",
       "\n",
       "                                           3Dg_z hand  \\\n",
       "37  [0.6100960800600779, 0.624218126690715, 0.6420...   \n",
       "\n",
       "                                           3Dm_x hand  ...  \\\n",
       "37  [0.6133390566248151, 0.597803055648489, 0.5847...  ...   \n",
       "\n",
       "                                    temperature ankle  \\\n",
       "37  [1.0, 1.0, 1.0, 1.0, 1.0, 1.0, 1.0, 1.0, 1.0, ...   \n",
       "\n",
       "                                 3Da_x scale_16 ankle  \\\n",
       "37  [0.2943924997534028, 0.29856059712339117, 0.29...   \n",
       "\n",
       "                                 3Da_y scale_16 ankle  \\\n",
       "37  [0.6460575419653657, 0.646604124258784, 0.6465...   \n",
       "\n",
       "                                 3Da_z scale_16 ankle  \\\n",
       "37  [0.4937778510383286, 0.4948768058648176, 0.497...   \n",
       "\n",
       "                                          3Dg_x ankle  \\\n",
       "37  [0.4896060059425519, 0.4909526148010758, 0.488...   \n",
       "\n",
       "                                          3Dg_y ankle  \\\n",
       "37  [0.5892198590882386, 0.5903698419058085, 0.585...   \n",
       "\n",
       "                                          3Dg_z ankle  \\\n",
       "37  [0.4654053591766975, 0.4646651159381138, 0.462...   \n",
       "\n",
       "                                          3Dm_x ankle  \\\n",
       "37  [0.29610254837395705, 0.3042320221391264, 0.30...   \n",
       "\n",
       "                                          3Dm_y ankle  \\\n",
       "37  [0.776323860977796, 0.7734719472547551, 0.7774...   \n",
       "\n",
       "                                          3Dm_z ankle  \n",
       "37  [0.6292756420449089, 0.6360089861885369, 0.627...  \n",
       "\n",
       "[1 rows x 32 columns]"
      ]
     },
     "execution_count": 2,
     "metadata": {},
     "output_type": "execute_result"
    }
   ],
   "source": [
    "all_df = get_df()\n",
    "activities = sep_by_len(all_df, 20000)\n",
    "cut_df = cut_act(activities, 20000)\n",
    "n_df = normalize_df(cut_df)\n",
    "n_df.sample()"
   ]
  },
  {
   "cell_type": "markdown",
   "id": "915fae38",
   "metadata": {},
   "source": [
    "Получаем вектор признаков"
   ]
  },
  {
   "cell_type": "code",
   "execution_count": 5,
   "id": "22a41d2e",
   "metadata": {},
   "outputs": [
    {
     "data": {
      "text/plain": [
       "((64, 31), (64,))"
      ]
     },
     "execution_count": 5,
     "metadata": {},
     "output_type": "execute_result"
    }
   ],
   "source": [
    "X = n_df.iloc[:, 1:].values\n",
    "\n",
    "Y = n_df.iloc[:, 0] # целевая переменная\n",
    "X.shape, Y.shape"
   ]
  },
  {
   "cell_type": "code",
   "execution_count": null,
   "id": "2030e9b8",
   "metadata": {},
   "outputs": [],
   "source": [
    "def get_flatten(data):\n",
    "    flat = []\n",
    "    for el in data:\n",
    "        flat += list(el.flatten())"
   ]
  },
  {
   "cell_type": "code",
   "execution_count": null,
   "id": "8f6d3ee1",
   "metadata": {},
   "outputs": [],
   "source": [
    "X_flat = get_flatten(X_data, resize_len=target_len)\n",
    "X_flat.shape"
   ]
  },
  {
   "cell_type": "code",
   "execution_count": null,
   "id": "df8d9cda",
   "metadata": {},
   "outputs": [],
   "source": []
  },
  {
   "cell_type": "code",
   "execution_count": null,
   "id": "fd913e5c",
   "metadata": {},
   "outputs": [],
   "source": []
  },
  {
   "cell_type": "code",
   "execution_count": null,
   "id": "dfac51e3",
   "metadata": {},
   "outputs": [],
   "source": []
  },
  {
   "cell_type": "code",
   "execution_count": null,
   "id": "2f107548",
   "metadata": {},
   "outputs": [],
   "source": []
  },
  {
   "cell_type": "code",
   "execution_count": null,
   "id": "a44fbc3d",
   "metadata": {},
   "outputs": [],
   "source": []
  }
 ],
 "metadata": {
  "kernelspec": {
   "display_name": "Python 3",
   "language": "python",
   "name": "python3"
  },
  "language_info": {
   "codemirror_mode": {
    "name": "ipython",
    "version": 3
   },
   "file_extension": ".py",
   "mimetype": "text/x-python",
   "name": "python",
   "nbconvert_exporter": "python",
   "pygments_lexer": "ipython3",
   "version": "3.8.3"
  }
 },
 "nbformat": 4,
 "nbformat_minor": 5
}
