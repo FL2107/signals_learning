{
 "cells": [
  {
   "cell_type": "markdown",
   "id": "313fe854",
   "metadata": {},
   "source": [
    "# Пробуем простую полносвязную сеть"
   ]
  },
  {
   "cell_type": "markdown",
   "id": "e090681b",
   "metadata": {},
   "source": [
    "## Загрузка данных"
   ]
  },
  {
   "cell_type": "code",
   "execution_count": 1,
   "id": "bdb8fd50",
   "metadata": {},
   "outputs": [
    {
     "name": "stderr",
     "output_type": "stream",
     "text": [
      "C:\\Users\\kitro\\anaconda3\\lib\\site-packages\\setuptools\\distutils_patch.py:25: UserWarning: Distutils was imported before Setuptools. This usage is discouraged and may exhibit undesirable behaviors or errors. Please use Setuptools' objects directly or at least import Setuptools first.\n",
      "  warnings.warn(\n"
     ]
    }
   ],
   "source": [
    "import matplotlib.pyplot as plt\n",
    "import numpy as np\n",
    "import pandas as pd\n",
    "from tqdm import tqdm\n",
    "plt.style.use('seaborn')\n",
    "\n",
    "import torch\n",
    "import torch.nn as nn\n",
    "from torch.utils.data import Dataset, DataLoader, TensorDataset\n",
    "from torch.utils.tensorboard import SummaryWriter\n",
    "from pathlib import Path\n",
    "from skimage import transform\n",
    "from sklearn.model_selection import train_test_split\n",
    "from sklearn.metrics import roc_auc_score, f1_score\n",
    "from sklearn.preprocessing import OrdinalEncoder\n",
    "from read_data import *\n",
    "from read_data import good_cols\n",
    "%matplotlib inline"
   ]
  },
  {
   "cell_type": "code",
   "execution_count": 2,
   "id": "9af110d1",
   "metadata": {},
   "outputs": [
    {
     "name": "stderr",
     "output_type": "stream",
     "text": [
      "100%|████████████████████████████████████████████████████████████████████████████████████| 9/9 [00:20<00:00,  2.29s/it]\n",
      "100%|██████████████████████████████████████████████████████████████████████████████████| 64/64 [00:01<00:00, 50.20it/s]\n"
     ]
    },
    {
     "data": {
      "text/html": [
       "<div>\n",
       "<style scoped>\n",
       "    .dataframe tbody tr th:only-of-type {\n",
       "        vertical-align: middle;\n",
       "    }\n",
       "\n",
       "    .dataframe tbody tr th {\n",
       "        vertical-align: top;\n",
       "    }\n",
       "\n",
       "    .dataframe thead th {\n",
       "        text-align: right;\n",
       "    }\n",
       "</style>\n",
       "<table border=\"1\" class=\"dataframe\">\n",
       "  <thead>\n",
       "    <tr style=\"text-align: right;\">\n",
       "      <th></th>\n",
       "      <th>activityID</th>\n",
       "      <th>heart rate</th>\n",
       "      <th>temperature hand</th>\n",
       "      <th>3Da_x scale_16 hand</th>\n",
       "      <th>3Da_y scale_16 hand</th>\n",
       "      <th>3Da_z scale_16 hand</th>\n",
       "      <th>3Dg_x hand</th>\n",
       "      <th>3Dg_y hand</th>\n",
       "      <th>3Dg_z hand</th>\n",
       "      <th>3Dm_x hand</th>\n",
       "      <th>...</th>\n",
       "      <th>temperature ankle</th>\n",
       "      <th>3Da_x scale_16 ankle</th>\n",
       "      <th>3Da_y scale_16 ankle</th>\n",
       "      <th>3Da_z scale_16 ankle</th>\n",
       "      <th>3Dg_x ankle</th>\n",
       "      <th>3Dg_y ankle</th>\n",
       "      <th>3Dg_z ankle</th>\n",
       "      <th>3Dm_x ankle</th>\n",
       "      <th>3Dm_y ankle</th>\n",
       "      <th>3Dm_z ankle</th>\n",
       "    </tr>\n",
       "  </thead>\n",
       "  <tbody>\n",
       "    <tr>\n",
       "      <th>514</th>\n",
       "      <td>3</td>\n",
       "      <td>[96.0, 96.0, 96.0, 96.0, 96.0, 96.0, 96.0, 96....</td>\n",
       "      <td>[33.6875, 33.6875, 33.6875, 33.6875, 33.6875, ...</td>\n",
       "      <td>[0.949408, 1.09201, 1.08934, 1.04887, 1.20645,...</td>\n",
       "      <td>[2.17805, 2.09899, 2.09832, 2.09794, 2.06051, ...</td>\n",
       "      <td>[9.55335, 9.32483, 9.24782, 9.17023, 9.36516, ...</td>\n",
       "      <td>[0.0122102, -0.0351028, -0.0106135, -0.011163,...</td>\n",
       "      <td>[-0.0424005, -0.0219568, 0.0186412, -0.0016231...</td>\n",
       "      <td>[-0.0109986, -0.0276685, 0.00320782, -0.033384...</td>\n",
       "      <td>[-5.96425, -6.23024, -5.84201, -6.34171, -6.33...</td>\n",
       "      <td>...</td>\n",
       "      <td>[34.875, 34.875, 34.875, 34.875, 34.875, 34.87...</td>\n",
       "      <td>[9.6684, 9.86701, 9.67128, 9.67308, 9.67909, 9...</td>\n",
       "      <td>[-1.57163, -1.27196, -1.23024, -1.30682, -1.42...</td>\n",
       "      <td>[-1.10355, -0.75607, -1.06705, -0.989379, -0.7...</td>\n",
       "      <td>[-0.0234945, -0.0229413, -0.0578027, -0.033232...</td>\n",
       "      <td>[-0.0485677, -0.00978635, -0.0048285, -0.03647...</td>\n",
       "      <td>[-0.0568054, -0.00366179, -0.0344288, -0.02442...</td>\n",
       "      <td>[-39.6085, -39.3811, -39.4952, -39.2413, -40.5...</td>\n",
       "      <td>[0.140806, 1.15775, 0.519715, 1.02454, 0.44213...</td>\n",
       "      <td>[41.1236, 40.5559, 40.5562, 41.4075, 40.6946, ...</td>\n",
       "    </tr>\n",
       "  </tbody>\n",
       "</table>\n",
       "<p>1 rows × 32 columns</p>\n",
       "</div>"
      ],
      "text/plain": [
       "    activityID                                         heart rate  \\\n",
       "514          3  [96.0, 96.0, 96.0, 96.0, 96.0, 96.0, 96.0, 96....   \n",
       "\n",
       "                                      temperature hand  \\\n",
       "514  [33.6875, 33.6875, 33.6875, 33.6875, 33.6875, ...   \n",
       "\n",
       "                                   3Da_x scale_16 hand  \\\n",
       "514  [0.949408, 1.09201, 1.08934, 1.04887, 1.20645,...   \n",
       "\n",
       "                                   3Da_y scale_16 hand  \\\n",
       "514  [2.17805, 2.09899, 2.09832, 2.09794, 2.06051, ...   \n",
       "\n",
       "                                   3Da_z scale_16 hand  \\\n",
       "514  [9.55335, 9.32483, 9.24782, 9.17023, 9.36516, ...   \n",
       "\n",
       "                                            3Dg_x hand  \\\n",
       "514  [0.0122102, -0.0351028, -0.0106135, -0.011163,...   \n",
       "\n",
       "                                            3Dg_y hand  \\\n",
       "514  [-0.0424005, -0.0219568, 0.0186412, -0.0016231...   \n",
       "\n",
       "                                            3Dg_z hand  \\\n",
       "514  [-0.0109986, -0.0276685, 0.00320782, -0.033384...   \n",
       "\n",
       "                                            3Dm_x hand  ...  \\\n",
       "514  [-5.96425, -6.23024, -5.84201, -6.34171, -6.33...  ...   \n",
       "\n",
       "                                     temperature ankle  \\\n",
       "514  [34.875, 34.875, 34.875, 34.875, 34.875, 34.87...   \n",
       "\n",
       "                                  3Da_x scale_16 ankle  \\\n",
       "514  [9.6684, 9.86701, 9.67128, 9.67308, 9.67909, 9...   \n",
       "\n",
       "                                  3Da_y scale_16 ankle  \\\n",
       "514  [-1.57163, -1.27196, -1.23024, -1.30682, -1.42...   \n",
       "\n",
       "                                  3Da_z scale_16 ankle  \\\n",
       "514  [-1.10355, -0.75607, -1.06705, -0.989379, -0.7...   \n",
       "\n",
       "                                           3Dg_x ankle  \\\n",
       "514  [-0.0234945, -0.0229413, -0.0578027, -0.033232...   \n",
       "\n",
       "                                           3Dg_y ankle  \\\n",
       "514  [-0.0485677, -0.00978635, -0.0048285, -0.03647...   \n",
       "\n",
       "                                           3Dg_z ankle  \\\n",
       "514  [-0.0568054, -0.00366179, -0.0344288, -0.02442...   \n",
       "\n",
       "                                           3Dm_x ankle  \\\n",
       "514  [-39.6085, -39.3811, -39.4952, -39.2413, -40.5...   \n",
       "\n",
       "                                           3Dm_y ankle  \\\n",
       "514  [0.140806, 1.15775, 0.519715, 1.02454, 0.44213...   \n",
       "\n",
       "                                           3Dm_z ankle  \n",
       "514  [41.1236, 40.5559, 40.5562, 41.4075, 40.6946, ...  \n",
       "\n",
       "[1 rows x 32 columns]"
      ]
     },
     "execution_count": 2,
     "metadata": {},
     "output_type": "execute_result"
    }
   ],
   "source": [
    "all_df = get_df()\n",
    "TARGET_LEN = 2000\n",
    "activities = sep_by_len(all_df, 20000)\n",
    "cut_df = cut_act(activities, TARGET_LEN, count=-1)\n",
    "cut_df.sample()"
   ]
  },
  {
   "cell_type": "markdown",
   "id": "68c59465",
   "metadata": {},
   "source": [
    "### Получаем вектор признаков"
   ]
  },
  {
   "cell_type": "code",
   "execution_count": 4,
   "id": "75805609",
   "metadata": {},
   "outputs": [
    {
     "data": {
      "text/plain": [
       "((783, 31), (783,))"
      ]
     },
     "execution_count": 4,
     "metadata": {},
     "output_type": "execute_result"
    }
   ],
   "source": [
    "X = cut_df.iloc[:, 1:].values\n",
    "\n",
    "Y = cut_df.iloc[:, 0] # целевая переменная\n",
    "X.shape, Y.shape"
   ]
  },
  {
   "cell_type": "markdown",
   "id": "3b90ecc5",
   "metadata": {},
   "source": [
    "### Нормализация"
   ]
  },
  {
   "cell_type": "code",
   "execution_count": 5,
   "id": "3f4ec3e6",
   "metadata": {},
   "outputs": [
    {
     "name": "stdout",
     "output_type": "stream",
     "text": [
      "(783, 2000)\n",
      "(783, 2000)\n",
      "(783, 2000)\n",
      "(783, 2000)\n",
      "(783, 2000)\n",
      "(783, 2000)\n",
      "(783, 2000)\n",
      "(783, 2000)\n",
      "(783, 2000)\n",
      "(783, 2000)\n",
      "(783, 2000)\n",
      "(783, 2000)\n",
      "(783, 2000)\n",
      "(783, 2000)\n",
      "(783, 2000)\n",
      "(783, 2000)\n",
      "(783, 2000)\n",
      "(783, 2000)\n",
      "(783, 2000)\n",
      "(783, 2000)\n",
      "(783, 2000)\n",
      "(783, 2000)\n",
      "(783, 2000)\n",
      "(783, 2000)\n",
      "(783, 2000)\n",
      "(783, 2000)\n",
      "(783, 2000)\n",
      "(783, 2000)\n",
      "(783, 2000)\n",
      "(783, 2000)\n",
      "(783, 2000)\n"
     ]
    },
    {
     "data": {
      "text/plain": [
       "(783, 31, 2000)"
      ]
     },
     "execution_count": 5,
     "metadata": {},
     "output_type": "execute_result"
    }
   ],
   "source": [
    "X_norm = normalize_arr(X)\n",
    "X_norm.shape"
   ]
  },
  {
   "cell_type": "code",
   "execution_count": 6,
   "id": "cd463f54",
   "metadata": {},
   "outputs": [
    {
     "data": {
      "text/plain": [
       "(783, 62000)"
      ]
     },
     "execution_count": 6,
     "metadata": {},
     "output_type": "execute_result"
    }
   ],
   "source": [
    "X_flat = get_flatten(X_norm)\n",
    "X_flat.shape"
   ]
  },
  {
   "cell_type": "code",
   "execution_count": 7,
   "id": "3b593218",
   "metadata": {},
   "outputs": [
    {
     "data": {
      "text/plain": [
       "array([0, 1, 2, 3, 4, 5, 6, 7, 8])"
      ]
     },
     "execution_count": 7,
     "metadata": {},
     "output_type": "execute_result"
    }
   ],
   "source": [
    "y_targ = y_encode(Y)\n",
    "np.unique(y_targ)"
   ]
  },
  {
   "cell_type": "code",
   "execution_count": 8,
   "id": "2ae724a6",
   "metadata": {},
   "outputs": [
    {
     "data": {
      "text/plain": [
       "(torch.Size([548, 62000]),\n",
       " torch.Size([548]),\n",
       " array([0, 1, 2, 3, 4, 5, 6, 7, 8], dtype=int64),\n",
       " array([0, 1, 2, 3, 4, 5, 6, 7, 8], dtype=int64))"
      ]
     },
     "execution_count": 8,
     "metadata": {},
     "output_type": "execute_result"
    }
   ],
   "source": [
    "X_train_tensor, X_val_tensor, y_train_tensor, y_val_tensor = \\\n",
    "    train_test_split(torch.FloatTensor(X_flat), torch.LongTensor(y_targ), random_state=42, test_size = 0.3)\n",
    "X_train_tensor.shape, y_train_tensor.shape, np.unique(y_train_tensor), np.unique(y_val_tensor)"
   ]
  },
  {
   "cell_type": "code",
   "execution_count": 9,
   "id": "2370d716",
   "metadata": {},
   "outputs": [],
   "source": [
    "class SignalDataset(Dataset):\n",
    "    def __init__(self, data_X, data_Y):\n",
    "        \"\"\"\n",
    "        Args:\n",
    "            csv_file (string): Path to the csv file with annotations.\n",
    "            root_dir (string): Directory with all the images.\n",
    "            transform (callable, optional): Optional transform to be applied\n",
    "                on a sample.\n",
    "        \"\"\"\n",
    "        self.X = data_X\n",
    "        self.Y = data_Y\n",
    "\n",
    "    def __len__(self):\n",
    "        return len(self.X)\n",
    "\n",
    "    def __getitem__(self, idx):\n",
    "        input_data = self.X[idx]\n",
    "        label = self.Y[idx]\n",
    "        \n",
    "        return input_data, label"
   ]
  },
  {
   "cell_type": "code",
   "execution_count": 10,
   "id": "352fa56b",
   "metadata": {},
   "outputs": [
    {
     "data": {
      "text/plain": [
       "548"
      ]
     },
     "execution_count": 10,
     "metadata": {},
     "output_type": "execute_result"
    }
   ],
   "source": [
    "BATCH_SIZE = 64\n",
    "\n",
    "trainset = SignalDataset(X_train_tensor, y_train_tensor)\n",
    "trainloader = torch.utils.data.DataLoader(trainset, batch_size=BATCH_SIZE,\n",
    "                                          shuffle=True, num_workers=0)\n",
    "\n",
    "testset = SignalDataset(X_val_tensor, y_val_tensor)\n",
    "testloader = torch.utils.data.DataLoader(testset, batch_size=BATCH_SIZE,\n",
    "                                         shuffle=False, num_workers=0)\n",
    "len(trainset)"
   ]
  },
  {
   "cell_type": "markdown",
   "id": "9e3da260",
   "metadata": {},
   "source": [
    "## Подготовка модели"
   ]
  },
  {
   "cell_type": "code",
   "execution_count": 14,
   "id": "bf22bf4a",
   "metadata": {},
   "outputs": [],
   "source": [
    "activation = nn.LeakyReLU\n",
    "\n",
    "net = torch.nn.Sequential(\n",
    "    nn.Linear(31*TARGET_LEN, 1024),\n",
    "#     activation(),\n",
    "#     nn.Linear(1024,128),\n",
    "    activation(),\n",
    "    nn.Linear(1024,len(np.unique(y_targ)))\n",
    ")"
   ]
  },
  {
   "cell_type": "markdown",
   "id": "5d86e044",
   "metadata": {},
   "source": [
    "## Обучение"
   ]
  },
  {
   "cell_type": "code",
   "execution_count": 15,
   "id": "fda7ca32",
   "metadata": {},
   "outputs": [
    {
     "name": "stderr",
     "output_type": "stream",
     "text": [
      "[0/20] current loss: 15.389925963687201:   5%|██                                        | 1/20 [00:05<01:41,  5.36s/it]"
     ]
    },
    {
     "name": "stdout",
     "output_type": "stream",
     "text": [
      "[1/20] current valid score: 0.6301244580716985\n"
     ]
    },
    {
     "name": "stderr",
     "output_type": "stream",
     "text": [
      "[1/20] current loss: 4.130778848689838:  10%|████▎                                      | 2/20 [00:12<01:43,  5.77s/it]"
     ]
    },
    {
     "name": "stdout",
     "output_type": "stream",
     "text": [
      "[2/20] current valid score: 0.7657574549397997\n"
     ]
    },
    {
     "name": "stderr",
     "output_type": "stream",
     "text": [
      "[2/20] current loss: 1.5873720141222878:  15%|██████▎                                   | 3/20 [00:20<01:49,  6.44s/it]"
     ]
    },
    {
     "name": "stdout",
     "output_type": "stream",
     "text": [
      "[3/20] current valid score: 0.7460975277250098\n"
     ]
    },
    {
     "name": "stderr",
     "output_type": "stream",
     "text": [
      "[3/20] current loss: 1.0323373658484643:  20%|████████▍                                 | 4/20 [00:26<01:43,  6.45s/it]"
     ]
    },
    {
     "name": "stdout",
     "output_type": "stream",
     "text": [
      "[4/20] current valid score: 0.7485443920388184\n"
     ]
    },
    {
     "name": "stderr",
     "output_type": "stream",
     "text": [
      "[4/20] current loss: 0.5639461926082625:  25%|██████████▌                               | 5/20 [00:32<01:36,  6.43s/it]"
     ]
    },
    {
     "name": "stdout",
     "output_type": "stream",
     "text": [
      "[5/20] current valid score: 0.7432320876598737\n"
     ]
    },
    {
     "name": "stderr",
     "output_type": "stream",
     "text": [
      "[5/20] current loss: 0.6661698077660884:  30%|████████████▌                             | 6/20 [00:40<01:32,  6.63s/it]"
     ]
    },
    {
     "name": "stdout",
     "output_type": "stream",
     "text": [
      "[6/20] current valid score: 0.77341577298155\n"
     ]
    },
    {
     "name": "stderr",
     "output_type": "stream",
     "text": [
      "[6/20] current loss: 0.44699612929460947:  35%|██████████████▎                          | 7/20 [00:47<01:28,  6.78s/it]"
     ]
    },
    {
     "name": "stdout",
     "output_type": "stream",
     "text": [
      "[7/20] current valid score: 0.7502521160166663\n"
     ]
    },
    {
     "name": "stderr",
     "output_type": "stream",
     "text": [
      "[7/20] current loss: 0.2863988312192703:  40%|████████████████▊                         | 8/20 [00:53<01:19,  6.63s/it]"
     ]
    },
    {
     "name": "stdout",
     "output_type": "stream",
     "text": [
      "[8/20] current valid score: 0.7949883914454282\n"
     ]
    },
    {
     "name": "stderr",
     "output_type": "stream",
     "text": [
      "[8/20] current loss: 0.084074717451373:  45%|███████████████████▎                       | 9/20 [01:00<01:12,  6.61s/it]"
     ]
    },
    {
     "name": "stdout",
     "output_type": "stream",
     "text": [
      "[9/20] current valid score: 0.8076335770471795\n"
     ]
    },
    {
     "name": "stderr",
     "output_type": "stream",
     "text": [
      "[9/20] current loss: 0.12395725391969173:  50%|████████████████████                    | 10/20 [01:06<01:04,  6.46s/it]"
     ]
    },
    {
     "name": "stdout",
     "output_type": "stream",
     "text": [
      "[10/20] current valid score: 0.7773169681309215\n"
     ]
    },
    {
     "name": "stderr",
     "output_type": "stream",
     "text": [
      "[10/20] current loss: 0.27797096815359107:  55%|█████████████████████▍                 | 11/20 [01:12<00:58,  6.55s/it]"
     ]
    },
    {
     "name": "stdout",
     "output_type": "stream",
     "text": [
      "[11/20] current valid score: 0.7693062267530846\n"
     ]
    },
    {
     "name": "stderr",
     "output_type": "stream",
     "text": [
      "[11/20] current loss: 0.19792182656535268:  60%|███████████████████████▍               | 12/20 [01:18<00:50,  6.36s/it]"
     ]
    },
    {
     "name": "stdout",
     "output_type": "stream",
     "text": [
      "[12/20] current valid score: 0.8083583529690669\n"
     ]
    },
    {
     "name": "stderr",
     "output_type": "stream",
     "text": [
      "[12/20] current loss: 0.10352761150115972:  65%|█████████████████████████▎             | 13/20 [01:25<00:46,  6.59s/it]"
     ]
    },
    {
     "name": "stdout",
     "output_type": "stream",
     "text": [
      "[13/20] current valid score: 0.7961738060463049\n"
     ]
    },
    {
     "name": "stderr",
     "output_type": "stream",
     "text": [
      "[13/20] current loss: 0.3101381944478863:  70%|████████████████████████████            | 14/20 [01:32<00:40,  6.73s/it]"
     ]
    },
    {
     "name": "stdout",
     "output_type": "stream",
     "text": [
      "[14/20] current valid score: 0.8015150077071139\n"
     ]
    },
    {
     "name": "stderr",
     "output_type": "stream",
     "text": [
      "[14/20] current loss: 0.39828820900791223:  75%|█████████████████████████████▎         | 15/20 [01:39<00:33,  6.75s/it]"
     ]
    },
    {
     "name": "stdout",
     "output_type": "stream",
     "text": [
      "[15/20] current valid score: 0.8064731073515936\n"
     ]
    },
    {
     "name": "stderr",
     "output_type": "stream",
     "text": [
      "[15/20] current loss: 0.578012387576701:  80%|████████████████████████████████▊        | 16/20 [01:45<00:25,  6.49s/it]"
     ]
    },
    {
     "name": "stdout",
     "output_type": "stream",
     "text": [
      "[16/20] current valid score: 0.7994881094513167\n"
     ]
    },
    {
     "name": "stderr",
     "output_type": "stream",
     "text": [
      "[16/20] current loss: 0.1666700704565793:  85%|██████████████████████████████████      | 17/20 [01:51<00:19,  6.39s/it]"
     ]
    },
    {
     "name": "stdout",
     "output_type": "stream",
     "text": [
      "[17/20] current valid score: 0.7706043060231917\n"
     ]
    },
    {
     "name": "stderr",
     "output_type": "stream",
     "text": [
      "[17/20] current loss: 0.582961818981698:  90%|████████████████████████████████████▉    | 18/20 [01:58<00:12,  6.39s/it]"
     ]
    },
    {
     "name": "stdout",
     "output_type": "stream",
     "text": [
      "[18/20] current valid score: 0.8078436288228694\n"
     ]
    },
    {
     "name": "stderr",
     "output_type": "stream",
     "text": [
      "[18/20] current loss: 2.697843838782206:  95%|██████████████████████████████████████▉  | 19/20 [02:04<00:06,  6.27s/it]"
     ]
    },
    {
     "name": "stdout",
     "output_type": "stream",
     "text": [
      "[19/20] current valid score: 0.7539303869154615\n"
     ]
    },
    {
     "name": "stderr",
     "output_type": "stream",
     "text": [
      "[19/20] current loss: 1.2567570496649638: 100%|████████████████████████████████████████| 20/20 [02:09<00:00,  6.47s/it]"
     ]
    },
    {
     "name": "stdout",
     "output_type": "stream",
     "text": [
      "[20/20] current valid score: 0.8090983576946812\n"
     ]
    },
    {
     "name": "stderr",
     "output_type": "stream",
     "text": [
      "\n"
     ]
    }
   ],
   "source": [
    "NUM_EPOCHS = 20\n",
    "\n",
    "loss_fn = torch.nn.CrossEntropyLoss(size_average=False)\n",
    "losses = []\n",
    "\n",
    "learning_rate = 3e-3\n",
    "optimizer = torch.optim.AdamW(net.parameters(), lr=learning_rate)\n",
    "ebar = tqdm(range(NUM_EPOCHS))\n",
    "\n",
    "for epoch_num in ebar:\n",
    "    running_loss = 0.0\n",
    "    iter_num = 0\n",
    "#     pbar = tqdm(enumerate(trainloader), total = len(trainloader))\n",
    "    pbar = enumerate(trainloader)\n",
    "    for iter_num, (X_batch, y_batch) in pbar:\n",
    "        iter_num +=1\n",
    "        # forward (подсчёт ответа с текущими весами)\n",
    "        y_pred = net(X_batch)\n",
    "        \n",
    "        # вычисляем loss'ы\n",
    "        loss = loss_fn(y_pred, y_batch)\n",
    "        running_loss += loss.item()\n",
    "                     \n",
    "        # зануляем градиенты\n",
    "        optimizer.zero_grad()\n",
    "\n",
    "        # backward (подсчёт новых градиентов)\n",
    "        loss.backward()\n",
    "\n",
    "        # обновляем веса\n",
    "        optimizer.step()\n",
    "        \n",
    "    line = '[{}/{}] current loss: {}'.format(epoch_num, NUM_EPOCHS, running_loss/len(trainset))\n",
    "    ebar.set_description(line)\n",
    "    \n",
    "    losses.append(running_loss/len(trainset))\n",
    "        \n",
    "    with torch.no_grad():\n",
    "        y_pred = torch.softmax(net(X_val_tensor), 1)\n",
    "        y = torch.argmax(y_pred, axis=1)\n",
    "        line = '[{}/{}] current valid score: {}'.format(epoch_num+1, NUM_EPOCHS, f1_score(y_val_tensor, y, average='macro'))\n",
    "        print(line)\n",
    "#         ebar.set_description(line)"
   ]
  },
  {
   "cell_type": "code",
   "execution_count": 16,
   "id": "124ec1e5",
   "metadata": {},
   "outputs": [
    {
     "data": {
      "image/png": "[encoded data removed]",
      "text/plain": [
       "<Figure size 1440x576 with 1 Axes>"
      ]
     },
     "metadata": {
      "needs_background": "light"
     },
     "output_type": "display_data"
    }
   ],
   "source": [
    "fig, axs = plt.subplots(1,1,figsize=(20,8))\n",
    "plt.plot(np.arange(NUM_EPOCHS), losses)\n",
    "plt.show()"
   ]
  },
  {
   "cell_type": "markdown",
   "id": "12df0919",
   "metadata": {},
   "source": [
    "### Оценка точности"
   ]
  },
  {
   "cell_type": "code",
   "execution_count": 17,
   "id": "d1839447",
   "metadata": {},
   "outputs": [
    {
     "name": "stdout",
     "output_type": "stream",
     "text": [
      "1 0.9565217391304348\n",
      "2 1.0\n",
      "3 0.16129032258064516\n",
      "4 0.925\n",
      "5 0.0\n",
      "6 0.037037037037037035\n",
      "7 0.0\n",
      "16 0.0\n",
      "17 0.0\n"
     ]
    }
   ],
   "source": [
    "for i in range(len(np.unique(y_val_tensor))):\n",
    "    idx = np.argwhere(y_val_tensor==i)[0]\n",
    "    y_pred = torch.sigmoid(net(X_val_tensor[idx]))\n",
    "    y = torch.argmax(y_pred, axis=1)\n",
    "    print(np.unique(Y)[i], len(y[y==i])/len(idx))"
   ]
  },
  {
   "cell_type": "code",
   "execution_count": 18,
   "id": "4471d5e9",
   "metadata": {},
   "outputs": [
    {
     "name": "stdout",
     "output_type": "stream",
     "text": [
      "0.9397517091933545\n",
      "0.8090983576946812\n"
     ]
    }
   ],
   "source": [
    "with torch.no_grad():\n",
    "    y_pred = torch.softmax(net(X_val_tensor), 1)\n",
    "    y = torch.argmax(y_pred, axis=1)\n",
    "#     print(net(X_val_tensor).shape)\n",
    "    print(roc_auc_score(y_val_tensor, y_pred, multi_class='ovo'))\n",
    "    print(f1_score(y_val_tensor, y, average='macro'))"
   ]
  },
  {
   "cell_type": "code",
   "execution_count": null,
   "id": "67084163",
   "metadata": {},
   "outputs": [],
   "source": []
  },
  {
   "cell_type": "code",
   "execution_count": null,
   "id": "b90004a1",
   "metadata": {},
   "outputs": [],
   "source": []
  },
  {
   "cell_type": "code",
   "execution_count": null,
   "id": "56cd3c16",
   "metadata": {},
   "outputs": [],
   "source": []
  }
 ],
 "metadata": {
  "kernelspec": {
   "display_name": "Python 3",
   "language": "python",
   "name": "python3"
  },
  "language_info": {
   "codemirror_mode": {
    "name": "ipython",
    "version": 3
   },
   "file_extension": ".py",
   "mimetype": "text/x-python",
   "name": "python",
   "nbconvert_exporter": "python",
   "pygments_lexer": "ipython3",
   "version": "3.8.3"
  }
 },
 "nbformat": 4,
 "nbformat_minor": 5
}
