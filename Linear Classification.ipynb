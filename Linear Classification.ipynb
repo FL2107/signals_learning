{
 "cells": [
  {
   "cell_type": "markdown",
   "id": "f8e98145",
   "metadata": {},
   "source": [
    "# Пробуем простую полносвязную сеть"
   ]
  },
  {
   "cell_type": "markdown",
   "id": "cedd6b4c",
   "metadata": {},
   "source": [
    "## Загрузка данных"
   ]
  },
  {
   "cell_type": "code",
   "execution_count": 3,
   "id": "c3d42355",
   "metadata": {},
   "outputs": [],
   "source": [
    "import matplotlib.pyplot as plt\n",
    "import numpy as np\n",
    "import pandas as pd\n",
    "from tqdm import tqdm\n",
    "plt.style.use('seaborn')\n",
    "\n",
    "import torch\n",
    "import torch.nn as nn\n",
    "from torch.utils.data import Dataset, DataLoader, TensorDataset\n",
    "from torch.utils.tensorboard import SummaryWriter\n",
    "from pathlib import Path\n",
    "from skimage import transform\n",
    "from sklearn.model_selection import train_test_split\n",
    "from sklearn.metrics import roc_auc_score, f1_score\n",
    "from sklearn.preprocessing import OrdinalEncoder\n",
    "from read_data import *\n",
    "from read_data import good_cols\n",
    "%matplotlib inline"
   ]
  },
  {
   "cell_type": "code",
   "execution_count": 4,
   "id": "e89bc9f6",
   "metadata": {},
   "outputs": [
    {
     "name": "stderr",
     "output_type": "stream",
     "text": [
      "100%|████████████████████████████████████████████████████████████████████████████████████| 9/9 [00:31<00:00,  3.49s/it]\n",
      "100%|██████████████████████████████████████████████████████████████████████████████████| 64/64 [00:02<00:00, 29.64it/s]\n"
     ]
    },
    {
     "data": {
      "text/html": [
       "<div>\n",
       "<style scoped>\n",
       "    .dataframe tbody tr th:only-of-type {\n",
       "        vertical-align: middle;\n",
       "    }\n",
       "\n",
       "    .dataframe tbody tr th {\n",
       "        vertical-align: top;\n",
       "    }\n",
       "\n",
       "    .dataframe thead th {\n",
       "        text-align: right;\n",
       "    }\n",
       "</style>\n",
       "<table border=\"1\" class=\"dataframe\">\n",
       "  <thead>\n",
       "    <tr style=\"text-align: right;\">\n",
       "      <th></th>\n",
       "      <th>activityID</th>\n",
       "      <th>heart rate</th>\n",
       "      <th>temperature hand</th>\n",
       "      <th>3Da_x scale_16 hand</th>\n",
       "      <th>3Da_y scale_16 hand</th>\n",
       "      <th>3Da_z scale_16 hand</th>\n",
       "      <th>3Dg_x hand</th>\n",
       "      <th>3Dg_y hand</th>\n",
       "      <th>3Dg_z hand</th>\n",
       "      <th>3Dm_x hand</th>\n",
       "      <th>...</th>\n",
       "      <th>temperature ankle</th>\n",
       "      <th>3Da_x scale_16 ankle</th>\n",
       "      <th>3Da_y scale_16 ankle</th>\n",
       "      <th>3Da_z scale_16 ankle</th>\n",
       "      <th>3Dg_x ankle</th>\n",
       "      <th>3Dg_y ankle</th>\n",
       "      <th>3Dg_z ankle</th>\n",
       "      <th>3Dm_x ankle</th>\n",
       "      <th>3Dm_y ankle</th>\n",
       "      <th>3Dm_z ankle</th>\n",
       "    </tr>\n",
       "  </thead>\n",
       "  <tbody>\n",
       "    <tr>\n",
       "      <th>258</th>\n",
       "      <td>4</td>\n",
       "      <td>[0.0, 0.0, 0.0, 0.0, 0.0, 0.0, 0.0, 0.0, 0.0, ...</td>\n",
       "      <td>[1.0, 1.0, 1.0, 1.0, 1.0, 1.0, 1.0, 1.0, 1.0, ...</td>\n",
       "      <td>[0.5882229755328096, 0.6032231717456451, 0.608...</td>\n",
       "      <td>[0.31839849974769785, 0.32468407716186826, 0.3...</td>\n",
       "      <td>[0.36020784063740896, 0.3456341699627997, 0.32...</td>\n",
       "      <td>[0.7388735050748416, 0.741253393221189, 0.7415...</td>\n",
       "      <td>[0.16393658626455507, 0.18148543736867515, 0.1...</td>\n",
       "      <td>[0.9018853243575603, 0.9043685581713764, 0.907...</td>\n",
       "      <td>[0.7359024286421003, 0.710113206244751, 0.6877...</td>\n",
       "      <td>...</td>\n",
       "      <td>[0.0, 0.0, 0.0, 0.0, 0.0, 0.0, 0.0, 0.0, 0.0, ...</td>\n",
       "      <td>[0.32330983194519913, 0.3060552849992206, 0.30...</td>\n",
       "      <td>[0.5226385366319242, 0.5247401281959164, 0.517...</td>\n",
       "      <td>[0.538872977193991, 0.530841019275478, 0.52599...</td>\n",
       "      <td>[0.40351536996127324, 0.414476175143921, 0.393...</td>\n",
       "      <td>[0.3972044490310744, 0.40070583139038585, 0.38...</td>\n",
       "      <td>[0.34744483701760015, 0.34236574292715904, 0.3...</td>\n",
       "      <td>[0.20206847707969536, 0.1601366730281616, 0.16...</td>\n",
       "      <td>[0.6217697915776631, 0.6091599322016386, 0.615...</td>\n",
       "      <td>[0.41692515784291706, 0.4169060398514533, 0.44...</td>\n",
       "    </tr>\n",
       "  </tbody>\n",
       "</table>\n",
       "<p>1 rows × 32 columns</p>\n",
       "</div>"
      ],
      "text/plain": [
       "    activityID                                         heart rate  \\\n",
       "258          4  [0.0, 0.0, 0.0, 0.0, 0.0, 0.0, 0.0, 0.0, 0.0, ...   \n",
       "\n",
       "                                      temperature hand  \\\n",
       "258  [1.0, 1.0, 1.0, 1.0, 1.0, 1.0, 1.0, 1.0, 1.0, ...   \n",
       "\n",
       "                                   3Da_x scale_16 hand  \\\n",
       "258  [0.5882229755328096, 0.6032231717456451, 0.608...   \n",
       "\n",
       "                                   3Da_y scale_16 hand  \\\n",
       "258  [0.31839849974769785, 0.32468407716186826, 0.3...   \n",
       "\n",
       "                                   3Da_z scale_16 hand  \\\n",
       "258  [0.36020784063740896, 0.3456341699627997, 0.32...   \n",
       "\n",
       "                                            3Dg_x hand  \\\n",
       "258  [0.7388735050748416, 0.741253393221189, 0.7415...   \n",
       "\n",
       "                                            3Dg_y hand  \\\n",
       "258  [0.16393658626455507, 0.18148543736867515, 0.1...   \n",
       "\n",
       "                                            3Dg_z hand  \\\n",
       "258  [0.9018853243575603, 0.9043685581713764, 0.907...   \n",
       "\n",
       "                                            3Dm_x hand  ...  \\\n",
       "258  [0.7359024286421003, 0.710113206244751, 0.6877...  ...   \n",
       "\n",
       "                                     temperature ankle  \\\n",
       "258  [0.0, 0.0, 0.0, 0.0, 0.0, 0.0, 0.0, 0.0, 0.0, ...   \n",
       "\n",
       "                                  3Da_x scale_16 ankle  \\\n",
       "258  [0.32330983194519913, 0.3060552849992206, 0.30...   \n",
       "\n",
       "                                  3Da_y scale_16 ankle  \\\n",
       "258  [0.5226385366319242, 0.5247401281959164, 0.517...   \n",
       "\n",
       "                                  3Da_z scale_16 ankle  \\\n",
       "258  [0.538872977193991, 0.530841019275478, 0.52599...   \n",
       "\n",
       "                                           3Dg_x ankle  \\\n",
       "258  [0.40351536996127324, 0.414476175143921, 0.393...   \n",
       "\n",
       "                                           3Dg_y ankle  \\\n",
       "258  [0.3972044490310744, 0.40070583139038585, 0.38...   \n",
       "\n",
       "                                           3Dg_z ankle  \\\n",
       "258  [0.34744483701760015, 0.34236574292715904, 0.3...   \n",
       "\n",
       "                                           3Dm_x ankle  \\\n",
       "258  [0.20206847707969536, 0.1601366730281616, 0.16...   \n",
       "\n",
       "                                           3Dm_y ankle  \\\n",
       "258  [0.6217697915776631, 0.6091599322016386, 0.615...   \n",
       "\n",
       "                                           3Dm_z ankle  \n",
       "258  [0.41692515784291706, 0.4169060398514533, 0.44...  \n",
       "\n",
       "[1 rows x 32 columns]"
      ]
     },
     "execution_count": 4,
     "metadata": {},
     "output_type": "execute_result"
    }
   ],
   "source": [
    "all_df = get_df()\n",
    "TARGET_LEN = 2000\n",
    "activities = sep_by_len(all_df, 20000)\n",
    "cut_df = cut_act(activities, TARGET_LEN, count=-1)\n",
    "n_df = normalize_df(cut_df)\n",
    "n_df.sample()"
   ]
  },
  {
   "cell_type": "markdown",
   "id": "9d72c4ea",
   "metadata": {},
   "source": [
    "Получаем вектор признаков"
   ]
  },
  {
   "cell_type": "code",
   "execution_count": 5,
   "id": "04fb9a05",
   "metadata": {},
   "outputs": [
    {
     "data": {
      "text/plain": [
       "((783, 31), (783,))"
      ]
     },
     "execution_count": 5,
     "metadata": {},
     "output_type": "execute_result"
    }
   ],
   "source": [
    "X = n_df.iloc[:, 1:].values\n",
    "\n",
    "Y = n_df.iloc[:, 0] # целевая переменная\n",
    "X.shape, Y.shape"
   ]
  },
  {
   "cell_type": "code",
   "execution_count": 6,
   "id": "b6202251",
   "metadata": {},
   "outputs": [
    {
     "data": {
      "text/plain": [
       "(783, 62000)"
      ]
     },
     "execution_count": 6,
     "metadata": {},
     "output_type": "execute_result"
    }
   ],
   "source": [
    "X_flat = get_flatten(X)\n",
    "X_flat.shape"
   ]
  },
  {
   "cell_type": "code",
   "execution_count": 12,
   "id": "57eb8a01",
   "metadata": {},
   "outputs": [
    {
     "data": {
      "text/plain": [
       "array([0, 1, 2, 3, 4, 5, 6, 7, 8])"
      ]
     },
     "execution_count": 12,
     "metadata": {},
     "output_type": "execute_result"
    }
   ],
   "source": [
    "y_targ = y_encode(Y)\n",
    "np.unique(y_targ)"
   ]
  },
  {
   "cell_type": "code",
   "execution_count": 8,
   "id": "b034c9bb",
   "metadata": {},
   "outputs": [
    {
     "data": {
      "text/plain": [
       "(torch.Size([548, 62000]),\n",
       " torch.Size([548]),\n",
       " array([0, 1, 2, 3, 4, 5, 6, 7, 8], dtype=int64),\n",
       " array([0, 1, 2, 3, 4, 5, 6, 7, 8], dtype=int64))"
      ]
     },
     "execution_count": 8,
     "metadata": {},
     "output_type": "execute_result"
    }
   ],
   "source": [
    "X_train_tensor, X_val_tensor, y_train_tensor, y_val_tensor = \\\n",
    "    train_test_split(torch.FloatTensor(X_flat), torch.LongTensor(y_targ), random_state=42, test_size = 0.3)\n",
    "X_train_tensor.shape, y_train_tensor.shape, np.unique(y_train_tensor), np.unique(y_val_tensor)"
   ]
  },
  {
   "cell_type": "code",
   "execution_count": 9,
   "id": "88c6c20e",
   "metadata": {},
   "outputs": [],
   "source": [
    "class SignalDataset(Dataset):\n",
    "    def __init__(self, data_X, data_Y):\n",
    "        \"\"\"\n",
    "        Args:\n",
    "            csv_file (string): Path to the csv file with annotations.\n",
    "            root_dir (string): Directory with all the images.\n",
    "            transform (callable, optional): Optional transform to be applied\n",
    "                on a sample.\n",
    "        \"\"\"\n",
    "        self.X = data_X\n",
    "        self.Y = data_Y\n",
    "\n",
    "    def __len__(self):\n",
    "        return len(self.X)\n",
    "\n",
    "    def __getitem__(self, idx):\n",
    "        input_data = self.X[idx]\n",
    "        label = self.Y[idx]\n",
    "        \n",
    "        return input_data, label"
   ]
  },
  {
   "cell_type": "code",
   "execution_count": 10,
   "id": "106aefe3",
   "metadata": {},
   "outputs": [
    {
     "data": {
      "text/plain": [
       "548"
      ]
     },
     "execution_count": 10,
     "metadata": {},
     "output_type": "execute_result"
    }
   ],
   "source": [
    "BATCH_SIZE = 64\n",
    "\n",
    "trainset = SignalDataset(X_train_tensor, y_train_tensor)\n",
    "trainloader = torch.utils.data.DataLoader(trainset, batch_size=BATCH_SIZE,\n",
    "                                          shuffle=True, num_workers=0)\n",
    "\n",
    "testset = SignalDataset(X_val_tensor, y_val_tensor)\n",
    "testloader = torch.utils.data.DataLoader(testset, batch_size=BATCH_SIZE,\n",
    "                                         shuffle=False, num_workers=0)\n",
    "len(trainset)"
   ]
  },
  {
   "cell_type": "markdown",
   "id": "000fb003",
   "metadata": {},
   "source": [
    "## Подготовка модели"
   ]
  },
  {
   "cell_type": "code",
   "execution_count": 13,
   "id": "e67d187b",
   "metadata": {},
   "outputs": [],
   "source": [
    "activation = nn.LeakyReLU\n",
    "\n",
    "net = torch.nn.Sequential(\n",
    "    nn.Linear(31*TARGET_LEN, 128),\n",
    "    activation(),\n",
    "    nn.Linear(128,128),\n",
    "    activation(),\n",
    "    nn.Linear(128,len(np.unique(y_targ)))\n",
    ")"
   ]
  },
  {
   "cell_type": "markdown",
   "id": "ab972403",
   "metadata": {},
   "source": [
    "## Обучение"
   ]
  },
  {
   "cell_type": "code",
   "execution_count": 14,
   "id": "e790dc3d",
   "metadata": {
    "collapsed": true,
    "jupyter": {
     "outputs_hidden": true
    }
   },
   "outputs": [
    {
     "name": "stderr",
     "output_type": "stream",
     "text": [
      "C:\\Users\\kitro\\anaconda3\\lib\\site-packages\\torch\\nn\\_reduction.py:42: UserWarning: size_average and reduce args will be deprecated, please use reduction='sum' instead.\n",
      "  warnings.warn(warning.format(ret))\n",
      "[0/200] current loss: 25.292923586211934:   0%|▏                                       | 1/200 [00:00<02:46,  1.20it/s]"
     ]
    },
    {
     "name": "stdout",
     "output_type": "stream",
     "text": [
      "[1/200] current valid score: 0.03232323232323232\n"
     ]
    },
    {
     "name": "stderr",
     "output_type": "stream",
     "text": [
      "[1/200] current loss: 4.399809607624137:   1%|▍                                        | 2/200 [00:01<02:40,  1.24it/s]"
     ]
    },
    {
     "name": "stdout",
     "output_type": "stream",
     "text": [
      "[2/200] current valid score: 0.06198796918901187\n"
     ]
    },
    {
     "name": "stderr",
     "output_type": "stream",
     "text": [
      "[2/200] current loss: 2.507979107599189:   2%|▌                                        | 3/200 [00:02<02:35,  1.27it/s]"
     ]
    },
    {
     "name": "stdout",
     "output_type": "stream",
     "text": [
      "[3/200] current valid score: 0.028515312431803306\n"
     ]
    },
    {
     "name": "stderr",
     "output_type": "stream",
     "text": [
      "[3/200] current loss: 2.1891765872927476:   2%|▊                                       | 4/200 [00:03<02:31,  1.29it/s]"
     ]
    },
    {
     "name": "stdout",
     "output_type": "stream",
     "text": [
      "[4/200] current valid score: 0.1741892105679481\n"
     ]
    },
    {
     "name": "stderr",
     "output_type": "stream",
     "text": [
      "[4/200] current loss: 1.9624103072785983:   2%|█                                       | 5/200 [00:03<02:29,  1.31it/s]"
     ]
    },
    {
     "name": "stdout",
     "output_type": "stream",
     "text": [
      "[5/200] current valid score: 0.28166044359897785\n"
     ]
    },
    {
     "name": "stderr",
     "output_type": "stream",
     "text": [
      "[5/200] current loss: 1.7456764652781243:   3%|█▏                                      | 6/200 [00:04<02:26,  1.32it/s]"
     ]
    },
    {
     "name": "stdout",
     "output_type": "stream",
     "text": [
      "[6/200] current valid score: 0.20568903210633194\n"
     ]
    },
    {
     "name": "stderr",
     "output_type": "stream",
     "text": [
      "[6/200] current loss: 1.557233009895269:   4%|█▍                                       | 7/200 [00:05<02:25,  1.33it/s]"
     ]
    },
    {
     "name": "stdout",
     "output_type": "stream",
     "text": [
      "[7/200] current valid score: 0.27308036609158265\n"
     ]
    },
    {
     "name": "stderr",
     "output_type": "stream",
     "text": [
      "[7/200] current loss: 1.4235188421541758:   4%|█▌                                      | 8/200 [00:06<02:23,  1.34it/s]"
     ]
    },
    {
     "name": "stdout",
     "output_type": "stream",
     "text": [
      "[8/200] current valid score: 0.30919142078643475\n"
     ]
    },
    {
     "name": "stderr",
     "output_type": "stream",
     "text": [
      "[8/200] current loss: 1.4559961792326321:   4%|█▊                                      | 9/200 [00:06<02:22,  1.34it/s]"
     ]
    },
    {
     "name": "stdout",
     "output_type": "stream",
     "text": [
      "[9/200] current valid score: 0.27484895650224384\n"
     ]
    },
    {
     "name": "stderr",
     "output_type": "stream",
     "text": [
      "[9/200] current loss: 1.2394631518064625:   5%|█▉                                     | 10/200 [00:07<02:21,  1.34it/s]"
     ]
    },
    {
     "name": "stdout",
     "output_type": "stream",
     "text": [
      "[10/200] current valid score: 0.36859251805644155\n"
     ]
    },
    {
     "name": "stderr",
     "output_type": "stream",
     "text": [
      "[10/200] current loss: 1.1398317309191628:   6%|██                                    | 11/200 [00:08<02:20,  1.34it/s]"
     ]
    },
    {
     "name": "stdout",
     "output_type": "stream",
     "text": [
      "[11/200] current valid score: 0.4142279806900859\n"
     ]
    },
    {
     "name": "stderr",
     "output_type": "stream",
     "text": [
      "[11/200] current loss: 1.0817385833628856:   6%|██▎                                   | 12/200 [00:08<02:20,  1.34it/s]"
     ]
    },
    {
     "name": "stdout",
     "output_type": "stream",
     "text": [
      "[12/200] current valid score: 0.3266580099567813\n"
     ]
    },
    {
     "name": "stderr",
     "output_type": "stream",
     "text": [
      "[12/200] current loss: 1.069854353466173:   6%|██▌                                    | 13/200 [00:09<02:19,  1.34it/s]"
     ]
    },
    {
     "name": "stdout",
     "output_type": "stream",
     "text": [
      "[13/200] current valid score: 0.43374420199757935\n"
     ]
    },
    {
     "name": "stderr",
     "output_type": "stream",
     "text": [
      "[13/200] current loss: 0.9257003756335181:   7%|██▋                                   | 14/200 [00:10<02:18,  1.34it/s]"
     ]
    },
    {
     "name": "stdout",
     "output_type": "stream",
     "text": [
      "[14/200] current valid score: 0.36295785273058623\n"
     ]
    },
    {
     "name": "stderr",
     "output_type": "stream",
     "text": [
      "[14/200] current loss: 0.8797476587504366:   8%|██▊                                   | 15/200 [00:11<02:17,  1.35it/s]"
     ]
    },
    {
     "name": "stdout",
     "output_type": "stream",
     "text": [
      "[15/200] current valid score: 0.3861441686128495\n"
     ]
    },
    {
     "name": "stderr",
     "output_type": "stream",
     "text": [
      "[15/200] current loss: 0.7789072816389321:   8%|███                                   | 16/200 [00:11<02:16,  1.35it/s]"
     ]
    },
    {
     "name": "stdout",
     "output_type": "stream",
     "text": [
      "[16/200] current valid score: 0.4982965735165632\n"
     ]
    },
    {
     "name": "stderr",
     "output_type": "stream",
     "text": [
      "[16/200] current loss: 0.6893161265519414:   8%|███▏                                  | 17/200 [00:12<02:15,  1.35it/s]"
     ]
    },
    {
     "name": "stdout",
     "output_type": "stream",
     "text": [
      "[17/200] current valid score: 0.4744956979184163\n"
     ]
    },
    {
     "name": "stderr",
     "output_type": "stream",
     "text": [
      "[17/200] current loss: 0.6455288211794665:   9%|███▍                                  | 18/200 [00:13<02:15,  1.34it/s]"
     ]
    },
    {
     "name": "stdout",
     "output_type": "stream",
     "text": [
      "[18/200] current valid score: 0.5330448365522688\n"
     ]
    },
    {
     "name": "stderr",
     "output_type": "stream",
     "text": [
      "[18/200] current loss: 0.528726682175685:  10%|███▋                                   | 19/200 [00:14<02:15,  1.34it/s]"
     ]
    },
    {
     "name": "stdout",
     "output_type": "stream",
     "text": [
      "[19/200] current valid score: 0.5462485626622109\n"
     ]
    },
    {
     "name": "stderr",
     "output_type": "stream",
     "text": [
      "[19/200] current loss: 0.45921987860742275:  10%|███▋                                 | 20/200 [00:14<02:14,  1.34it/s]"
     ]
    },
    {
     "name": "stdout",
     "output_type": "stream",
     "text": [
      "[20/200] current valid score: 0.45313719136318054\n"
     ]
    },
    {
     "name": "stderr",
     "output_type": "stream",
     "text": [
      "[20/200] current loss: 0.40993675437286825:  10%|███▉                                 | 21/200 [00:15<02:13,  1.34it/s]"
     ]
    },
    {
     "name": "stdout",
     "output_type": "stream",
     "text": [
      "[21/200] current valid score: 0.4636015971895325\n"
     ]
    },
    {
     "name": "stderr",
     "output_type": "stream",
     "text": [
      "[21/200] current loss: 0.5373409612335428:  11%|████▏                                 | 22/200 [00:16<02:12,  1.34it/s]"
     ]
    },
    {
     "name": "stdout",
     "output_type": "stream",
     "text": [
      "[22/200] current valid score: 0.5152262447810745\n"
     ]
    },
    {
     "name": "stderr",
     "output_type": "stream",
     "text": [
      "[22/200] current loss: 0.5025615378887984:  12%|████▎                                 | 23/200 [00:17<02:11,  1.35it/s]"
     ]
    },
    {
     "name": "stdout",
     "output_type": "stream",
     "text": [
      "[23/200] current valid score: 0.45718267135539953\n"
     ]
    },
    {
     "name": "stderr",
     "output_type": "stream",
     "text": [
      "[23/200] current loss: 0.39314912183441386:  12%|████▍                                | 24/200 [00:17<02:10,  1.35it/s]"
     ]
    },
    {
     "name": "stdout",
     "output_type": "stream",
     "text": [
      "[24/200] current valid score: 0.43267281496039667\n"
     ]
    },
    {
     "name": "stderr",
     "output_type": "stream",
     "text": [
      "[24/200] current loss: 0.33971157561253457:  12%|████▋                                | 25/200 [00:18<02:10,  1.34it/s]"
     ]
    },
    {
     "name": "stdout",
     "output_type": "stream",
     "text": [
      "[25/200] current valid score: 0.5322247117745748\n"
     ]
    },
    {
     "name": "stderr",
     "output_type": "stream",
     "text": [
      "[25/200] current loss: 0.32003085282597227:  13%|████▊                                | 26/200 [00:19<02:09,  1.34it/s]"
     ]
    },
    {
     "name": "stdout",
     "output_type": "stream",
     "text": [
      "[26/200] current valid score: 0.5290773753704838\n"
     ]
    },
    {
     "name": "stderr",
     "output_type": "stream",
     "text": [
      "[26/200] current loss: 0.31484638687467925:  14%|████▉                                | 27/200 [00:20<02:08,  1.35it/s]"
     ]
    },
    {
     "name": "stdout",
     "output_type": "stream",
     "text": [
      "[27/200] current valid score: 0.4996520126035933\n"
     ]
    },
    {
     "name": "stderr",
     "output_type": "stream",
     "text": [
      "[27/200] current loss: 0.2578834512808027:  14%|█████▎                                | 28/200 [00:20<02:07,  1.35it/s]"
     ]
    },
    {
     "name": "stdout",
     "output_type": "stream",
     "text": [
      "[28/200] current valid score: 0.4993883948409555\n"
     ]
    },
    {
     "name": "stderr",
     "output_type": "stream",
     "text": [
      "[28/200] current loss: 0.209152936065284:  14%|█████▋                                 | 29/200 [00:21<02:06,  1.35it/s]"
     ]
    },
    {
     "name": "stdout",
     "output_type": "stream",
     "text": [
      "[29/200] current valid score: 0.5391808552378268\n"
     ]
    },
    {
     "name": "stderr",
     "output_type": "stream",
     "text": [
      "[29/200] current loss: 0.17402986061834072:  15%|█████▌                               | 30/200 [00:22<02:06,  1.35it/s]"
     ]
    },
    {
     "name": "stdout",
     "output_type": "stream",
     "text": [
      "[30/200] current valid score: 0.5214423065323617\n"
     ]
    },
    {
     "name": "stderr",
     "output_type": "stream",
     "text": [
      "[30/200] current loss: 0.1546500346956462:  16%|█████▉                                | 31/200 [00:23<02:05,  1.35it/s]"
     ]
    },
    {
     "name": "stdout",
     "output_type": "stream",
     "text": [
      "[31/200] current valid score: 0.5432252343371308\n"
     ]
    },
    {
     "name": "stderr",
     "output_type": "stream",
     "text": [
      "[31/200] current loss: 0.12824898088065378:  16%|█████▉                               | 32/200 [00:23<02:04,  1.35it/s]"
     ]
    },
    {
     "name": "stdout",
     "output_type": "stream",
     "text": [
      "[32/200] current valid score: 0.4967383595624492\n"
     ]
    },
    {
     "name": "stderr",
     "output_type": "stream",
     "text": [
      "[32/200] current loss: 0.1546667179051977:  16%|██████▎                               | 33/200 [00:24<02:04,  1.34it/s]"
     ]
    },
    {
     "name": "stdout",
     "output_type": "stream",
     "text": [
      "[33/200] current valid score: 0.5342469644469663\n"
     ]
    },
    {
     "name": "stderr",
     "output_type": "stream",
     "text": [
      "[33/200] current loss: 0.14432132679180507:  17%|██████▎                              | 34/200 [00:25<02:03,  1.35it/s]"
     ]
    },
    {
     "name": "stdout",
     "output_type": "stream",
     "text": [
      "[34/200] current valid score: 0.5425219171715034\n"
     ]
    },
    {
     "name": "stderr",
     "output_type": "stream",
     "text": [
      "[34/200] current loss: 0.19403968066194632:  18%|██████▍                              | 35/200 [00:26<02:02,  1.34it/s]"
     ]
    },
    {
     "name": "stdout",
     "output_type": "stream",
     "text": [
      "[35/200] current valid score: 0.5141076990692957\n"
     ]
    },
    {
     "name": "stderr",
     "output_type": "stream",
     "text": [
      "[35/200] current loss: 0.11711884415062675:  18%|██████▋                              | 36/200 [00:26<02:02,  1.34it/s]"
     ]
    },
    {
     "name": "stdout",
     "output_type": "stream",
     "text": [
      "[36/200] current valid score: 0.5400472961942845\n"
     ]
    },
    {
     "name": "stderr",
     "output_type": "stream",
     "text": [
      "[36/200] current loss: 0.06913362715366113:  18%|██████▊                              | 37/200 [00:27<02:01,  1.34it/s]"
     ]
    },
    {
     "name": "stdout",
     "output_type": "stream",
     "text": [
      "[37/200] current valid score: 0.5679523129698403\n"
     ]
    },
    {
     "name": "stderr",
     "output_type": "stream",
     "text": [
      "[37/200] current loss: 0.04383007757855158:  19%|███████                              | 38/200 [00:28<02:00,  1.35it/s]"
     ]
    },
    {
     "name": "stdout",
     "output_type": "stream",
     "text": [
      "[38/200] current valid score: 0.5641326949448193\n"
     ]
    },
    {
     "name": "stderr",
     "output_type": "stream",
     "text": [
      "[38/200] current loss: 0.04124266279004786:  20%|███████▏                             | 39/200 [00:29<01:59,  1.35it/s]"
     ]
    },
    {
     "name": "stdout",
     "output_type": "stream",
     "text": [
      "[39/200] current valid score: 0.5658237667950188\n"
     ]
    },
    {
     "name": "stderr",
     "output_type": "stream",
     "text": [
      "[39/200] current loss: 0.02495478354666355:  20%|███████▍                             | 40/200 [00:29<01:58,  1.35it/s]"
     ]
    },
    {
     "name": "stdout",
     "output_type": "stream",
     "text": [
      "[40/200] current valid score: 0.5764290017018839\n"
     ]
    },
    {
     "name": "stderr",
     "output_type": "stream",
     "text": [
      "[40/200] current loss: 0.021146877947514946:  20%|███████▍                            | 41/200 [00:30<01:57,  1.35it/s]"
     ]
    },
    {
     "name": "stdout",
     "output_type": "stream",
     "text": [
      "[41/200] current valid score: 0.566884442272063\n"
     ]
    },
    {
     "name": "stderr",
     "output_type": "stream",
     "text": [
      "[41/200] current loss: 0.01773800815108919:  21%|███████▊                             | 42/200 [00:31<01:56,  1.35it/s]"
     ]
    },
    {
     "name": "stdout",
     "output_type": "stream",
     "text": [
      "[42/200] current valid score: 0.5611156567348831\n"
     ]
    },
    {
     "name": "stderr",
     "output_type": "stream",
     "text": [
      "[42/200] current loss: 0.017105744702972634:  22%|███████▋                            | 43/200 [00:32<01:55,  1.36it/s]"
     ]
    },
    {
     "name": "stdout",
     "output_type": "stream",
     "text": [
      "[43/200] current valid score: 0.5552412554355164\n"
     ]
    },
    {
     "name": "stderr",
     "output_type": "stream",
     "text": [
      "[43/200] current loss: 0.013543256442912304:  22%|███████▉                            | 44/200 [00:32<01:55,  1.35it/s]"
     ]
    },
    {
     "name": "stdout",
     "output_type": "stream",
     "text": [
      "[44/200] current valid score: 0.5823812712656632\n"
     ]
    },
    {
     "name": "stderr",
     "output_type": "stream",
     "text": [
      "[44/200] current loss: 0.016305465332783053:  22%|████████                            | 45/200 [00:33<01:54,  1.35it/s]"
     ]
    },
    {
     "name": "stdout",
     "output_type": "stream",
     "text": [
      "[45/200] current valid score: 0.5771966877488631\n"
     ]
    },
    {
     "name": "stderr",
     "output_type": "stream",
     "text": [
      "[45/200] current loss: 0.014656461884070486:  23%|████████▎                           | 46/200 [00:34<01:54,  1.35it/s]"
     ]
    },
    {
     "name": "stdout",
     "output_type": "stream",
     "text": [
      "[46/200] current valid score: 0.5778955576560427\n"
     ]
    },
    {
     "name": "stderr",
     "output_type": "stream",
     "text": [
      "[46/200] current loss: 0.011142845734627578:  24%|████████▍                           | 47/200 [00:34<01:53,  1.35it/s]"
     ]
    },
    {
     "name": "stdout",
     "output_type": "stream",
     "text": [
      "[47/200] current valid score: 0.571196642986374\n"
     ]
    },
    {
     "name": "stderr",
     "output_type": "stream",
     "text": [
      "[47/200] current loss: 0.009351816708154052:  24%|████████▋                           | 48/200 [00:35<01:52,  1.35it/s]"
     ]
    },
    {
     "name": "stdout",
     "output_type": "stream",
     "text": [
      "[48/200] current valid score: 0.5775087272004632\n"
     ]
    },
    {
     "name": "stderr",
     "output_type": "stream",
     "text": [
      "[48/200] current loss: 0.008200234359633313:  24%|████████▊                           | 49/200 [00:36<01:52,  1.35it/s]"
     ]
    },
    {
     "name": "stdout",
     "output_type": "stream",
     "text": [
      "[49/200] current valid score: 0.579769533852109\n"
     ]
    },
    {
     "name": "stderr",
     "output_type": "stream",
     "text": [
      "[49/200] current loss: 0.007117252089898952:  25%|█████████                           | 50/200 [00:37<01:51,  1.35it/s]"
     ]
    },
    {
     "name": "stdout",
     "output_type": "stream",
     "text": [
      "[50/200] current valid score: 0.5708243752795588\n"
     ]
    },
    {
     "name": "stderr",
     "output_type": "stream",
     "text": [
      "[50/200] current loss: 0.006727274126597565:  26%|█████████▏                          | 51/200 [00:37<01:50,  1.34it/s]"
     ]
    },
    {
     "name": "stdout",
     "output_type": "stream",
     "text": [
      "[51/200] current valid score: 0.5711030099195615\n"
     ]
    },
    {
     "name": "stderr",
     "output_type": "stream",
     "text": [
      "[51/200] current loss: 0.005733107345817733:  26%|█████████▎                          | 52/200 [00:38<01:50,  1.34it/s]"
     ]
    },
    {
     "name": "stdout",
     "output_type": "stream",
     "text": [
      "[52/200] current valid score: 0.5699472995314404\n"
     ]
    },
    {
     "name": "stderr",
     "output_type": "stream",
     "text": [
      "[52/200] current loss: 0.004978780614307327:  26%|█████████▌                          | 53/200 [00:39<01:48,  1.35it/s]"
     ]
    },
    {
     "name": "stdout",
     "output_type": "stream",
     "text": [
      "[53/200] current valid score: 0.5688815591972604\n"
     ]
    },
    {
     "name": "stderr",
     "output_type": "stream",
     "text": [
      "[53/200] current loss: 0.0049622068113654196:  27%|█████████▍                         | 54/200 [00:40<01:48,  1.35it/s]"
     ]
    },
    {
     "name": "stdout",
     "output_type": "stream",
     "text": [
      "[54/200] current valid score: 0.5737815256641876\n"
     ]
    },
    {
     "name": "stderr",
     "output_type": "stream",
     "text": [
      "[54/200] current loss: 0.004610972764500737:  28%|█████████▉                          | 55/200 [00:40<01:47,  1.35it/s]"
     ]
    },
    {
     "name": "stdout",
     "output_type": "stream",
     "text": [
      "[55/200] current valid score: 0.5740836802387643\n"
     ]
    },
    {
     "name": "stderr",
     "output_type": "stream",
     "text": [
      "[55/200] current loss: 0.004293168167563251:  28%|██████████                          | 56/200 [00:41<01:46,  1.35it/s]"
     ]
    },
    {
     "name": "stdout",
     "output_type": "stream",
     "text": [
      "[56/200] current valid score: 0.572637062099002\n"
     ]
    },
    {
     "name": "stderr",
     "output_type": "stream",
     "text": [
      "[56/200] current loss: 0.0040728707872603066:  28%|█████████▉                         | 57/200 [00:42<01:45,  1.35it/s]"
     ]
    },
    {
     "name": "stdout",
     "output_type": "stream",
     "text": [
      "[57/200] current valid score: 0.5771966350060704\n"
     ]
    },
    {
     "name": "stderr",
     "output_type": "stream",
     "text": [
      "[57/200] current loss: 0.0038814364667356448:  29%|██████████▏                        | 58/200 [00:43<01:46,  1.34it/s]"
     ]
    },
    {
     "name": "stdout",
     "output_type": "stream",
     "text": [
      "[58/200] current valid score: 0.5823549079882312\n"
     ]
    },
    {
     "name": "stderr",
     "output_type": "stream",
     "text": [
      "[58/200] current loss: 0.003760840539840886:  30%|██████████▌                         | 59/200 [00:43<01:45,  1.34it/s]"
     ]
    },
    {
     "name": "stdout",
     "output_type": "stream",
     "text": [
      "[59/200] current valid score: 0.5736439409254298\n"
     ]
    },
    {
     "name": "stderr",
     "output_type": "stream",
     "text": [
      "[59/200] current loss: 0.003597385610324623:  30%|██████████▊                         | 60/200 [00:44<01:44,  1.34it/s]"
     ]
    },
    {
     "name": "stdout",
     "output_type": "stream",
     "text": [
      "[60/200] current valid score: 0.5910394296440473\n"
     ]
    },
    {
     "name": "stderr",
     "output_type": "stream",
     "text": [
      "[60/200] current loss: 0.0035821611918237088:  30%|██████████▋                        | 61/200 [00:45<01:43,  1.35it/s]"
     ]
    },
    {
     "name": "stdout",
     "output_type": "stream",
     "text": [
      "[61/200] current valid score: 0.5728740172893072\n"
     ]
    },
    {
     "name": "stderr",
     "output_type": "stream",
     "text": [
      "[61/200] current loss: 0.003704463655169863:  31%|███████████▏                        | 62/200 [00:46<01:42,  1.35it/s]"
     ]
    },
    {
     "name": "stdout",
     "output_type": "stream",
     "text": [
      "[62/200] current valid score: 0.5695327972362809\n"
     ]
    },
    {
     "name": "stderr",
     "output_type": "stream",
     "text": [
      "[62/200] current loss: 0.003575536184502344:  32%|███████████▎                        | 63/200 [00:46<01:40,  1.36it/s]"
     ]
    },
    {
     "name": "stdout",
     "output_type": "stream",
     "text": [
      "[63/200] current valid score: 0.591413381952434\n"
     ]
    },
    {
     "name": "stderr",
     "output_type": "stream",
     "text": [
      "[63/200] current loss: 0.0032074283672510273:  32%|███████████▏                       | 64/200 [00:47<01:40,  1.35it/s]"
     ]
    },
    {
     "name": "stdout",
     "output_type": "stream",
     "text": [
      "[64/200] current valid score: 0.5739318176608477\n"
     ]
    },
    {
     "name": "stderr",
     "output_type": "stream",
     "text": [
      "[64/200] current loss: 0.00309792231686794:  32%|████████████                         | 65/200 [00:48<01:39,  1.35it/s]"
     ]
    },
    {
     "name": "stdout",
     "output_type": "stream",
     "text": [
      "[65/200] current valid score: 0.5830947142835611\n"
     ]
    },
    {
     "name": "stderr",
     "output_type": "stream",
     "text": [
      "[65/200] current loss: 0.0028443531588698825:  33%|███████████▌                       | 66/200 [00:49<01:38,  1.35it/s]"
     ]
    },
    {
     "name": "stdout",
     "output_type": "stream",
     "text": [
      "[66/200] current valid score: 0.5788790831321049\n"
     ]
    },
    {
     "name": "stderr",
     "output_type": "stream",
     "text": [
      "[66/200] current loss: 0.002716049443196206:  34%|████████████                        | 67/200 [00:49<01:38,  1.36it/s]"
     ]
    },
    {
     "name": "stdout",
     "output_type": "stream",
     "text": [
      "[67/200] current valid score: 0.5908455493412913\n"
     ]
    },
    {
     "name": "stderr",
     "output_type": "stream",
     "text": [
      "[67/200] current loss: 0.002592538599006451:  34%|████████████▏                       | 68/200 [00:50<01:37,  1.36it/s]"
     ]
    },
    {
     "name": "stdout",
     "output_type": "stream",
     "text": [
      "[68/200] current valid score: 0.5663476578999815\n"
     ]
    },
    {
     "name": "stderr",
     "output_type": "stream",
     "text": [
      "[68/200] current loss: 0.0025192133701630753:  34%|████████████                       | 69/200 [00:51<01:37,  1.35it/s]"
     ]
    },
    {
     "name": "stdout",
     "output_type": "stream",
     "text": [
      "[69/200] current valid score: 0.5832924519737744\n"
     ]
    },
    {
     "name": "stderr",
     "output_type": "stream",
     "text": [
      "[69/200] current loss: 0.002539295349677984:  35%|████████████▌                       | 70/200 [00:52<01:35,  1.36it/s]"
     ]
    },
    {
     "name": "stdout",
     "output_type": "stream",
     "text": [
      "[70/200] current valid score: 0.5682033309799799\n"
     ]
    },
    {
     "name": "stderr",
     "output_type": "stream",
     "text": [
      "[70/200] current loss: 0.002418271204742202:  36%|████████████▊                       | 71/200 [00:52<01:35,  1.35it/s]"
     ]
    },
    {
     "name": "stdout",
     "output_type": "stream",
     "text": [
      "[71/200] current valid score: 0.5802216445254635\n"
     ]
    },
    {
     "name": "stderr",
     "output_type": "stream",
     "text": [
      "[71/200] current loss: 0.002340782515323945:  36%|████████████▉                       | 72/200 [00:53<01:35,  1.35it/s]"
     ]
    },
    {
     "name": "stdout",
     "output_type": "stream",
     "text": [
      "[72/200] current valid score: 0.5834495708010556\n"
     ]
    },
    {
     "name": "stderr",
     "output_type": "stream",
     "text": [
      "[72/200] current loss: 0.0021990591891273095:  36%|████████████▊                      | 73/200 [00:54<01:34,  1.35it/s]"
     ]
    },
    {
     "name": "stdout",
     "output_type": "stream",
     "text": [
      "[73/200] current valid score: 0.5828488640373845\n"
     ]
    },
    {
     "name": "stderr",
     "output_type": "stream",
     "text": [
      "[73/200] current loss: 0.002174869070958047:  37%|█████████████▎                      | 74/200 [00:54<01:33,  1.35it/s]"
     ]
    },
    {
     "name": "stdout",
     "output_type": "stream",
     "text": [
      "[74/200] current valid score: 0.5789209327350858\n"
     ]
    },
    {
     "name": "stderr",
     "output_type": "stream",
     "text": [
      "[74/200] current loss: 0.0021542177610371234:  38%|█████████████▏                     | 75/200 [00:55<01:32,  1.35it/s]"
     ]
    },
    {
     "name": "stdout",
     "output_type": "stream",
     "text": [
      "[75/200] current valid score: 0.5873177845012341\n"
     ]
    },
    {
     "name": "stderr",
     "output_type": "stream",
     "text": [
      "[75/200] current loss: 0.001998170149804902:  38%|█████████████▋                      | 76/200 [00:56<01:31,  1.35it/s]"
     ]
    },
    {
     "name": "stdout",
     "output_type": "stream",
     "text": [
      "[76/200] current valid score: 0.5833336353193025\n"
     ]
    },
    {
     "name": "stderr",
     "output_type": "stream",
     "text": [
      "[76/200] current loss: 0.0019327184579668254:  38%|█████████████▍                     | 77/200 [00:57<01:30,  1.36it/s]"
     ]
    },
    {
     "name": "stdout",
     "output_type": "stream",
     "text": [
      "[77/200] current valid score: 0.5875793471064537\n"
     ]
    },
    {
     "name": "stderr",
     "output_type": "stream",
     "text": [
      "[77/200] current loss: 0.0018923190986588052:  39%|█████████████▋                     | 78/200 [00:57<01:30,  1.35it/s]"
     ]
    },
    {
     "name": "stdout",
     "output_type": "stream",
     "text": [
      "[78/200] current valid score: 0.5895530750056429\n"
     ]
    },
    {
     "name": "stderr",
     "output_type": "stream",
     "text": [
      "[78/200] current loss: 0.001871044876692939:  40%|██████████████▏                     | 79/200 [00:58<01:29,  1.35it/s]"
     ]
    },
    {
     "name": "stdout",
     "output_type": "stream",
     "text": [
      "[79/200] current valid score: 0.5822462451619602\n"
     ]
    },
    {
     "name": "stderr",
     "output_type": "stream",
     "text": [
      "[79/200] current loss: 0.001795925492298429:  40%|██████████████▍                     | 80/200 [00:59<01:29,  1.34it/s]"
     ]
    },
    {
     "name": "stdout",
     "output_type": "stream",
     "text": [
      "[80/200] current valid score: 0.578951132696044\n"
     ]
    },
    {
     "name": "stderr",
     "output_type": "stream",
     "text": [
      "[80/200] current loss: 0.0017358403598522617:  40%|██████████████▏                    | 81/200 [01:00<01:28,  1.34it/s]"
     ]
    },
    {
     "name": "stdout",
     "output_type": "stream",
     "text": [
      "[81/200] current valid score: 0.5840454127506015\n"
     ]
    },
    {
     "name": "stderr",
     "output_type": "stream",
     "text": [
      "[81/200] current loss: 0.001696857168291607:  41%|██████████████▊                     | 82/200 [01:00<01:27,  1.35it/s]"
     ]
    },
    {
     "name": "stdout",
     "output_type": "stream",
     "text": [
      "[82/200] current valid score: 0.5841994573060328\n"
     ]
    },
    {
     "name": "stderr",
     "output_type": "stream",
     "text": [
      "[82/200] current loss: 0.0016597801629100403:  42%|██████████████▌                    | 83/200 [01:01<01:26,  1.35it/s]"
     ]
    },
    {
     "name": "stdout",
     "output_type": "stream",
     "text": [
      "[83/200] current valid score: 0.5792115990693804\n"
     ]
    },
    {
     "name": "stderr",
     "output_type": "stream",
     "text": [
      "[83/200] current loss: 0.0016136597094200823:  42%|██████████████▋                    | 84/200 [01:02<01:26,  1.35it/s]"
     ]
    },
    {
     "name": "stdout",
     "output_type": "stream",
     "text": [
      "[84/200] current valid score: 0.5826740413792302\n"
     ]
    },
    {
     "name": "stderr",
     "output_type": "stream",
     "text": [
      "[84/200] current loss: 0.001566934881962999:  42%|███████████████▎                    | 85/200 [01:03<01:25,  1.35it/s]"
     ]
    },
    {
     "name": "stdout",
     "output_type": "stream",
     "text": [
      "[85/200] current valid score: 0.5797219284978958\n"
     ]
    },
    {
     "name": "stderr",
     "output_type": "stream",
     "text": [
      "[85/200] current loss: 0.0015527595473575767:  43%|███████████████                    | 86/200 [01:03<01:24,  1.35it/s]"
     ]
    },
    {
     "name": "stdout",
     "output_type": "stream",
     "text": [
      "[86/200] current valid score: 0.5874121449808671\n"
     ]
    },
    {
     "name": "stderr",
     "output_type": "stream",
     "text": [
      "[86/200] current loss: 0.0014926495751107695:  44%|███████████████▏                   | 87/200 [01:04<01:23,  1.35it/s]"
     ]
    },
    {
     "name": "stdout",
     "output_type": "stream",
     "text": [
      "[87/200] current valid score: 0.583618551674479\n"
     ]
    },
    {
     "name": "stderr",
     "output_type": "stream",
     "text": [
      "[87/200] current loss: 0.0014680982601359813:  44%|███████████████▍                   | 88/200 [01:05<01:23,  1.35it/s]"
     ]
    },
    {
     "name": "stdout",
     "output_type": "stream",
     "text": [
      "[88/200] current valid score: 0.5870423278624535\n"
     ]
    },
    {
     "name": "stderr",
     "output_type": "stream",
     "text": [
      "[88/200] current loss: 0.0014304183967357134:  44%|███████████████▌                   | 89/200 [01:06<01:21,  1.35it/s]"
     ]
    },
    {
     "name": "stdout",
     "output_type": "stream",
     "text": [
      "[89/200] current valid score: 0.5875793471064537\n"
     ]
    },
    {
     "name": "stderr",
     "output_type": "stream",
     "text": [
      "[89/200] current loss: 0.0014242371952120404:  45%|███████████████▊                   | 90/200 [01:06<01:21,  1.35it/s]"
     ]
    },
    {
     "name": "stdout",
     "output_type": "stream",
     "text": [
      "[90/200] current valid score: 0.5843165319642218\n"
     ]
    },
    {
     "name": "stderr",
     "output_type": "stream",
     "text": [
      "[90/200] current loss: 0.0013710468817148766:  46%|███████████████▉                   | 91/200 [01:07<01:20,  1.35it/s]"
     ]
    },
    {
     "name": "stdout",
     "output_type": "stream",
     "text": [
      "[91/200] current valid score: 0.5830646179619137\n"
     ]
    },
    {
     "name": "stderr",
     "output_type": "stream",
     "text": [
      "[91/200] current loss: 0.0013766276385009724:  46%|████████████████                   | 92/200 [01:08<01:20,  1.35it/s]"
     ]
    },
    {
     "name": "stdout",
     "output_type": "stream",
     "text": [
      "[92/200] current valid score: 0.5841831441496745\n"
     ]
    },
    {
     "name": "stderr",
     "output_type": "stream",
     "text": [
      "[92/200] current loss: 0.0013135180801805788:  46%|████████████████▎                  | 93/200 [01:09<01:19,  1.34it/s]"
     ]
    },
    {
     "name": "stdout",
     "output_type": "stream",
     "text": [
      "[93/200] current valid score: 0.5840454127506015\n"
     ]
    },
    {
     "name": "stderr",
     "output_type": "stream",
     "text": [
      "[93/200] current loss: 0.001282668339401266:  47%|████████████████▉                   | 94/200 [01:09<01:19,  1.34it/s]"
     ]
    },
    {
     "name": "stdout",
     "output_type": "stream",
     "text": [
      "[94/200] current valid score: 0.5877910871947033\n"
     ]
    },
    {
     "name": "stderr",
     "output_type": "stream",
     "text": [
      "[94/200] current loss: 0.0012428637961075255:  48%|████████████████▋                  | 95/200 [01:10<01:18,  1.34it/s]"
     ]
    },
    {
     "name": "stdout",
     "output_type": "stream",
     "text": [
      "[95/200] current valid score: 0.5898713269456779\n"
     ]
    },
    {
     "name": "stderr",
     "output_type": "stream",
     "text": [
      "[95/200] current loss: 0.0012172580744228224:  48%|████████████████▊                  | 96/200 [01:11<01:17,  1.35it/s]"
     ]
    },
    {
     "name": "stdout",
     "output_type": "stream",
     "text": [
      "[96/200] current valid score: 0.5841831441496745\n"
     ]
    },
    {
     "name": "stderr",
     "output_type": "stream",
     "text": [
      "[96/200] current loss: 0.0011883843962075937:  48%|████████████████▉                  | 97/200 [01:12<01:15,  1.36it/s]"
     ]
    },
    {
     "name": "stdout",
     "output_type": "stream",
     "text": [
      "[97/200] current valid score: 0.583618551674479\n"
     ]
    },
    {
     "name": "stderr",
     "output_type": "stream",
     "text": [
      "[97/200] current loss: 0.001170235264529712:  49%|█████████████████▋                  | 98/200 [01:12<01:15,  1.35it/s]"
     ]
    },
    {
     "name": "stdout",
     "output_type": "stream",
     "text": [
      "[98/200] current valid score: 0.5799240435702562\n"
     ]
    },
    {
     "name": "stderr",
     "output_type": "stream",
     "text": [
      "[98/200] current loss: 0.0011572492594429612:  50%|█████████████████▎                 | 99/200 [01:13<01:14,  1.35it/s]"
     ]
    },
    {
     "name": "stdout",
     "output_type": "stream",
     "text": [
      "[99/200] current valid score: 0.5914564879226879\n"
     ]
    },
    {
     "name": "stderr",
     "output_type": "stream",
     "text": [
      "[99/200] current loss: 0.001140950363210953:  50%|█████████████████▌                 | 100/200 [01:14<01:14,  1.35it/s]"
     ]
    },
    {
     "name": "stdout",
     "output_type": "stream",
     "text": [
      "[100/200] current valid score: 0.5797927786052316\n"
     ]
    },
    {
     "name": "stderr",
     "output_type": "stream",
     "text": [
      "[100/200] current loss: 0.0011040210574321504:  50%|████████████████▋                | 101/200 [01:14<01:12,  1.36it/s]"
     ]
    },
    {
     "name": "stdout",
     "output_type": "stream",
     "text": [
      "[101/200] current valid score: 0.5820790430363737\n"
     ]
    },
    {
     "name": "stderr",
     "output_type": "stream",
     "text": [
      "[101/200] current loss: 0.0010859329307818936:  51%|████████████████▊                | 102/200 [01:15<01:12,  1.35it/s]"
     ]
    },
    {
     "name": "stdout",
     "output_type": "stream",
     "text": [
      "[102/200] current valid score: 0.5867493446990724\n"
     ]
    },
    {
     "name": "stderr",
     "output_type": "stream",
     "text": [
      "[102/200] current loss: 0.001061093850727499:  52%|█████████████████▌                | 103/200 [01:16<01:11,  1.35it/s]"
     ]
    },
    {
     "name": "stdout",
     "output_type": "stream",
     "text": [
      "[103/200] current valid score: 0.5824544240515989\n"
     ]
    },
    {
     "name": "stderr",
     "output_type": "stream",
     "text": [
      "[103/200] current loss: 0.0010359111126430713:  52%|█████████████████▏               | 104/200 [01:17<01:11,  1.35it/s]"
     ]
    },
    {
     "name": "stdout",
     "output_type": "stream",
     "text": [
      "[104/200] current valid score: 0.5911916581608434\n"
     ]
    },
    {
     "name": "stderr",
     "output_type": "stream",
     "text": [
      "[104/200] current loss: 0.0010142813361909268:  52%|█████████████████▎               | 105/200 [01:17<01:10,  1.35it/s]"
     ]
    },
    {
     "name": "stdout",
     "output_type": "stream",
     "text": [
      "[105/200] current valid score: 0.5824544240515989\n"
     ]
    },
    {
     "name": "stderr",
     "output_type": "stream",
     "text": [
      "[105/200] current loss: 0.0009958578178482333:  53%|█████████████████▍               | 106/200 [01:18<01:09,  1.35it/s]"
     ]
    },
    {
     "name": "stdout",
     "output_type": "stream",
     "text": [
      "[106/200] current valid score: 0.5865012354989653\n"
     ]
    },
    {
     "name": "stderr",
     "output_type": "stream",
     "text": [
      "[106/200] current loss: 0.0009762841977015899:  54%|█████████████████▋               | 107/200 [01:19<01:08,  1.35it/s]"
     ]
    },
    {
     "name": "stdout",
     "output_type": "stream",
     "text": [
      "[107/200] current valid score: 0.5846512228235304\n"
     ]
    },
    {
     "name": "stderr",
     "output_type": "stream",
     "text": [
      "[107/200] current loss: 0.0009605066755609791:  54%|█████████████████▊               | 108/200 [01:20<01:07,  1.36it/s]"
     ]
    },
    {
     "name": "stdout",
     "output_type": "stream",
     "text": [
      "[108/200] current valid score: 0.5827755842061471\n"
     ]
    },
    {
     "name": "stderr",
     "output_type": "stream",
     "text": [
      "[108/200] current loss: 0.000952775780465046:  55%|██████████████████▌               | 109/200 [01:20<01:07,  1.35it/s]"
     ]
    },
    {
     "name": "stdout",
     "output_type": "stream",
     "text": [
      "[109/200] current valid score: 0.5898058167511712\n"
     ]
    },
    {
     "name": "stderr",
     "output_type": "stream",
     "text": [
      "[109/200] current loss: 0.0009270483750278933:  55%|██████████████████▏              | 110/200 [01:21<01:06,  1.36it/s]"
     ]
    },
    {
     "name": "stdout",
     "output_type": "stream",
     "text": [
      "[110/200] current valid score: 0.5717559365736573\n"
     ]
    },
    {
     "name": "stderr",
     "output_type": "stream",
     "text": [
      "[110/200] current loss: 0.0009160631669372538:  56%|██████████████████▎              | 111/200 [01:22<01:05,  1.36it/s]"
     ]
    },
    {
     "name": "stdout",
     "output_type": "stream",
     "text": [
      "[111/200] current valid score: 0.5857890429233021\n"
     ]
    },
    {
     "name": "stderr",
     "output_type": "stream",
     "text": [
      "[111/200] current loss: 0.0008921387136308816:  56%|██████████████████▍              | 112/200 [01:23<01:04,  1.36it/s]"
     ]
    },
    {
     "name": "stdout",
     "output_type": "stream",
     "text": [
      "[112/200] current valid score: 0.5722281219868665\n"
     ]
    },
    {
     "name": "stderr",
     "output_type": "stream",
     "text": [
      "[112/200] current loss: 0.0008804889830903416:  56%|██████████████████▋              | 113/200 [01:23<01:03,  1.36it/s]"
     ]
    },
    {
     "name": "stdout",
     "output_type": "stream",
     "text": [
      "[113/200] current valid score: 0.5909145809062496\n"
     ]
    },
    {
     "name": "stderr",
     "output_type": "stream",
     "text": [
      "[113/200] current loss: 0.0008682668596560503:  57%|██████████████████▊              | 114/200 [01:24<01:03,  1.36it/s]"
     ]
    },
    {
     "name": "stdout",
     "output_type": "stream",
     "text": [
      "[114/200] current valid score: 0.5702747831048565\n"
     ]
    },
    {
     "name": "stderr",
     "output_type": "stream",
     "text": [
      "[114/200] current loss: 0.0008590788832002313:  57%|██████████████████▉              | 115/200 [01:25<01:02,  1.36it/s]"
     ]
    },
    {
     "name": "stdout",
     "output_type": "stream",
     "text": [
      "[115/200] current valid score: 0.5865012354989653\n"
     ]
    },
    {
     "name": "stderr",
     "output_type": "stream",
     "text": [
      "[115/200] current loss: 0.0008360088537753064:  58%|███████████████████▏             | 116/200 [01:26<01:01,  1.36it/s]"
     ]
    },
    {
     "name": "stdout",
     "output_type": "stream",
     "text": [
      "[116/200] current valid score: 0.5761097045579775\n"
     ]
    },
    {
     "name": "stderr",
     "output_type": "stream",
     "text": [
      "[116/200] current loss: 0.0008274834997353763:  58%|███████████████████▎             | 117/200 [01:26<01:01,  1.35it/s]"
     ]
    },
    {
     "name": "stdout",
     "output_type": "stream",
     "text": [
      "[117/200] current valid score: 0.582575371997982\n"
     ]
    },
    {
     "name": "stderr",
     "output_type": "stream",
     "text": [
      "[117/200] current loss: 0.0008094186119626473:  59%|███████████████████▍             | 118/200 [01:27<01:00,  1.35it/s]"
     ]
    },
    {
     "name": "stdout",
     "output_type": "stream",
     "text": [
      "[118/200] current valid score: 0.5863360066227099\n"
     ]
    },
    {
     "name": "stderr",
     "output_type": "stream",
     "text": [
      "[118/200] current loss: 0.0007912561188649087:  60%|███████████████████▋             | 119/200 [01:28<01:00,  1.35it/s]"
     ]
    },
    {
     "name": "stdout",
     "output_type": "stream",
     "text": [
      "[119/200] current valid score: 0.5939570796695294\n"
     ]
    },
    {
     "name": "stderr",
     "output_type": "stream",
     "text": [
      "[119/200] current loss: 0.0007799987266533566:  60%|███████████████████▊             | 120/200 [01:29<00:59,  1.35it/s]"
     ]
    },
    {
     "name": "stdout",
     "output_type": "stream",
     "text": [
      "[120/200] current valid score: 0.5824544240515989\n"
     ]
    },
    {
     "name": "stderr",
     "output_type": "stream",
     "text": [
      "[120/200] current loss: 0.0007658689112885155:  60%|███████████████████▉             | 121/200 [01:29<00:58,  1.35it/s]"
     ]
    },
    {
     "name": "stdout",
     "output_type": "stream",
     "text": [
      "[121/200] current valid score: 0.5810113273551931\n"
     ]
    },
    {
     "name": "stderr",
     "output_type": "stream",
     "text": [
      "[121/200] current loss: 0.0007569807459239977:  61%|████████████████████▏            | 122/200 [01:30<00:57,  1.35it/s]"
     ]
    },
    {
     "name": "stdout",
     "output_type": "stream",
     "text": [
      "[122/200] current valid score: 0.5863292002819674\n"
     ]
    },
    {
     "name": "stderr",
     "output_type": "stream",
     "text": [
      "[122/200] current loss: 0.0007503550724010833:  62%|████████████████████▎            | 123/200 [01:31<00:57,  1.35it/s]"
     ]
    },
    {
     "name": "stdout",
     "output_type": "stream",
     "text": [
      "[123/200] current valid score: 0.5898058167511712\n"
     ]
    },
    {
     "name": "stderr",
     "output_type": "stream",
     "text": [
      "[123/200] current loss: 0.000738480458049661:  62%|█████████████████████             | 124/200 [01:32<00:56,  1.35it/s]"
     ]
    },
    {
     "name": "stdout",
     "output_type": "stream",
     "text": [
      "[124/200] current valid score: 0.5868432363681482\n"
     ]
    },
    {
     "name": "stderr",
     "output_type": "stream",
     "text": [
      "[124/200] current loss: 0.0007271290634398477:  62%|████████████████████▋            | 125/200 [01:32<00:55,  1.35it/s]"
     ]
    },
    {
     "name": "stdout",
     "output_type": "stream",
     "text": [
      "[125/200] current valid score: 0.586456954569093\n"
     ]
    },
    {
     "name": "stderr",
     "output_type": "stream",
     "text": [
      "[125/200] current loss: 0.0007126819763849251:  63%|████████████████████▊            | 126/200 [01:33<00:54,  1.35it/s]"
     ]
    },
    {
     "name": "stdout",
     "output_type": "stream",
     "text": [
      "[126/200] current valid score: 0.5795006489334169\n"
     ]
    },
    {
     "name": "stderr",
     "output_type": "stream",
     "text": [
      "[126/200] current loss: 0.0007014357192564185:  64%|████████████████████▉            | 127/200 [01:34<00:54,  1.35it/s]"
     ]
    },
    {
     "name": "stdout",
     "output_type": "stream",
     "text": [
      "[127/200] current valid score: 0.5839580904552655\n"
     ]
    },
    {
     "name": "stderr",
     "output_type": "stream",
     "text": [
      "[127/200] current loss: 0.000689816096947141:  64%|█████████████████████▊            | 128/200 [01:34<00:53,  1.35it/s]"
     ]
    },
    {
     "name": "stdout",
     "output_type": "stream",
     "text": [
      "[128/200] current valid score: 0.5904599451005982\n"
     ]
    },
    {
     "name": "stderr",
     "output_type": "stream",
     "text": [
      "[128/200] current loss: 0.0006761234049705694:  64%|█████████████████████▎           | 129/200 [01:35<00:52,  1.35it/s]"
     ]
    },
    {
     "name": "stdout",
     "output_type": "stream",
     "text": [
      "[129/200] current valid score: 0.5904599451005982\n"
     ]
    },
    {
     "name": "stderr",
     "output_type": "stream",
     "text": [
      "[129/200] current loss: 0.0006647433602951304:  65%|█████████████████████▍           | 130/200 [01:36<00:52,  1.34it/s]"
     ]
    },
    {
     "name": "stdout",
     "output_type": "stream",
     "text": [
      "[130/200] current valid score: 0.5858077535923454\n"
     ]
    },
    {
     "name": "stderr",
     "output_type": "stream",
     "text": [
      "[130/200] current loss: 0.0006575115929174162:  66%|█████████████████████▌           | 131/200 [01:37<00:51,  1.35it/s]"
     ]
    },
    {
     "name": "stdout",
     "output_type": "stream",
     "text": [
      "[131/200] current valid score: 0.5904599451005982\n"
     ]
    },
    {
     "name": "stderr",
     "output_type": "stream",
     "text": [
      "[131/200] current loss: 0.0006508154549846684:  66%|█████████████████████▊           | 132/200 [01:37<00:50,  1.35it/s]"
     ]
    },
    {
     "name": "stdout",
     "output_type": "stream",
     "text": [
      "[132/200] current valid score: 0.5861768934963689\n"
     ]
    },
    {
     "name": "stderr",
     "output_type": "stream",
     "text": [
      "[132/200] current loss: 0.0006409034839946859:  66%|█████████████████████▉           | 133/200 [01:38<00:49,  1.35it/s]"
     ]
    },
    {
     "name": "stdout",
     "output_type": "stream",
     "text": [
      "[133/200] current valid score: 0.5897029191183918\n"
     ]
    },
    {
     "name": "stderr",
     "output_type": "stream",
     "text": [
      "[133/200] current loss: 0.0006257025762902995:  67%|██████████████████████           | 134/200 [01:39<00:49,  1.34it/s]"
     ]
    },
    {
     "name": "stdout",
     "output_type": "stream",
     "text": [
      "[134/200] current valid score: 0.5898058167511712\n"
     ]
    },
    {
     "name": "stderr",
     "output_type": "stream",
     "text": [
      "[134/200] current loss: 0.0006170813300150589:  68%|██████████████████████▎          | 135/200 [01:40<00:48,  1.35it/s]"
     ]
    },
    {
     "name": "stdout",
     "output_type": "stream",
     "text": [
      "[135/200] current valid score: 0.564122095756193\n"
     ]
    },
    {
     "name": "stderr",
     "output_type": "stream",
     "text": [
      "[135/200] current loss: 0.0006103763241239273:  68%|██████████████████████▍          | 136/200 [01:40<00:47,  1.35it/s]"
     ]
    },
    {
     "name": "stdout",
     "output_type": "stream",
     "text": [
      "[136/200] current valid score: 0.5824106915969707\n"
     ]
    },
    {
     "name": "stderr",
     "output_type": "stream",
     "text": [
      "[136/200] current loss: 0.0006049828379530542:  68%|██████████████████████▌          | 137/200 [01:41<00:46,  1.35it/s]"
     ]
    },
    {
     "name": "stdout",
     "output_type": "stream",
     "text": [
      "[137/200] current valid score: 0.5855445407912154\n"
     ]
    },
    {
     "name": "stderr",
     "output_type": "stream",
     "text": [
      "[137/200] current loss: 0.0005967770669147046:  69%|██████████████████████▊          | 138/200 [01:42<00:45,  1.35it/s]"
     ]
    },
    {
     "name": "stdout",
     "output_type": "stream",
     "text": [
      "[138/200] current valid score: 0.5909903617342951\n"
     ]
    },
    {
     "name": "stderr",
     "output_type": "stream",
     "text": [
      "[138/200] current loss: 0.0005849111709662163:  70%|██████████████████████▉          | 139/200 [01:43<00:45,  1.35it/s]"
     ]
    },
    {
     "name": "stdout",
     "output_type": "stream",
     "text": [
      "[139/200] current valid score: 0.564122095756193\n"
     ]
    },
    {
     "name": "stderr",
     "output_type": "stream",
     "text": [
      "[139/200] current loss: 0.0005790530839921349:  70%|███████████████████████          | 140/200 [01:43<00:44,  1.35it/s]"
     ]
    },
    {
     "name": "stdout",
     "output_type": "stream",
     "text": [
      "[140/200] current valid score: 0.5895399552479734\n"
     ]
    },
    {
     "name": "stderr",
     "output_type": "stream",
     "text": [
      "[140/200] current loss: 0.0005775127206405584:  70%|███████████████████████▎         | 141/200 [01:44<00:43,  1.35it/s]"
     ]
    },
    {
     "name": "stdout",
     "output_type": "stream",
     "text": [
      "[141/200] current valid score: 0.5773141516167097\n"
     ]
    },
    {
     "name": "stderr",
     "output_type": "stream",
     "text": [
      "[141/200] current loss: 0.0005755290171525774:  71%|███████████████████████▍         | 142/200 [01:45<00:42,  1.35it/s]"
     ]
    },
    {
     "name": "stdout",
     "output_type": "stream",
     "text": [
      "[142/200] current valid score: 0.5898275923954447\n"
     ]
    },
    {
     "name": "stderr",
     "output_type": "stream",
     "text": [
      "[142/200] current loss: 0.0005619174895984848:  72%|███████████████████████▌         | 143/200 [01:46<00:42,  1.35it/s]"
     ]
    },
    {
     "name": "stdout",
     "output_type": "stream",
     "text": [
      "[143/200] current valid score: 0.5814725299438861\n"
     ]
    },
    {
     "name": "stderr",
     "output_type": "stream",
     "text": [
      "[143/200] current loss: 0.0005507577299038424:  72%|███████████████████████▊         | 144/200 [01:46<00:41,  1.35it/s]"
     ]
    },
    {
     "name": "stdout",
     "output_type": "stream",
     "text": [
      "[144/200] current valid score: 0.581170440481534\n"
     ]
    },
    {
     "name": "stderr",
     "output_type": "stream",
     "text": [
      "[144/200] current loss: 0.0005410329853422451:  72%|███████████████████████▉         | 145/200 [01:47<00:40,  1.34it/s]"
     ]
    },
    {
     "name": "stdout",
     "output_type": "stream",
     "text": [
      "[145/200] current valid score: 0.5846951324540295\n"
     ]
    },
    {
     "name": "stderr",
     "output_type": "stream",
     "text": [
      "[145/200] current loss: 0.0005358438598957376:  73%|████████████████████████         | 146/200 [01:48<00:40,  1.35it/s]"
     ]
    },
    {
     "name": "stdout",
     "output_type": "stream",
     "text": [
      "[146/200] current valid score: 0.5824106915969707\n"
     ]
    },
    {
     "name": "stderr",
     "output_type": "stream",
     "text": [
      "[146/200] current loss: 0.0005315429714583133:  74%|████████████████████████▎        | 147/200 [01:49<00:39,  1.35it/s]"
     ]
    },
    {
     "name": "stdout",
     "output_type": "stream",
     "text": [
      "[147/200] current valid score: 0.5811619440359307\n"
     ]
    },
    {
     "name": "stderr",
     "output_type": "stream",
     "text": [
      "[147/200] current loss: 0.0005234341497403861:  74%|████████████████████████▍        | 148/200 [01:49<00:38,  1.35it/s]"
     ]
    },
    {
     "name": "stdout",
     "output_type": "stream",
     "text": [
      "[148/200] current valid score: 0.5919099346389939\n"
     ]
    },
    {
     "name": "stderr",
     "output_type": "stream",
     "text": [
      "[148/200] current loss: 0.0005145314944921619:  74%|████████████████████████▌        | 149/200 [01:50<00:37,  1.35it/s]"
     ]
    },
    {
     "name": "stdout",
     "output_type": "stream",
     "text": [
      "[149/200] current valid score: 0.5773141516167097\n"
     ]
    },
    {
     "name": "stderr",
     "output_type": "stream",
     "text": [
      "[149/200] current loss: 0.0005095936188025631:  75%|████████████████████████▊        | 150/200 [01:51<00:37,  1.35it/s]"
     ]
    },
    {
     "name": "stdout",
     "output_type": "stream",
     "text": [
      "[150/200] current valid score: 0.5814725299438861\n"
     ]
    },
    {
     "name": "stderr",
     "output_type": "stream",
     "text": [
      "[150/200] current loss: 0.0005012769999839093:  76%|████████████████████████▉        | 151/200 [01:52<00:36,  1.34it/s]"
     ]
    },
    {
     "name": "stdout",
     "output_type": "stream",
     "text": [
      "[151/200] current valid score: 0.5823746046055477\n"
     ]
    },
    {
     "name": "stderr",
     "output_type": "stream",
     "text": [
      "[151/200] current loss: 0.0004953755929141585:  76%|█████████████████████████        | 152/200 [01:52<00:35,  1.34it/s]"
     ]
    },
    {
     "name": "stdout",
     "output_type": "stream",
     "text": [
      "[152/200] current valid score: 0.5644101757971328\n"
     ]
    },
    {
     "name": "stderr",
     "output_type": "stream",
     "text": [
      "[152/200] current loss: 0.0004919921693793179:  76%|█████████████████████████▏       | 153/200 [01:53<00:35,  1.34it/s]"
     ]
    },
    {
     "name": "stdout",
     "output_type": "stream",
     "text": [
      "[153/200] current valid score: 0.5944272935948928\n"
     ]
    },
    {
     "name": "stderr",
     "output_type": "stream",
     "text": [
      "[153/200] current loss: 0.0004855789699639282:  77%|█████████████████████████▍       | 154/200 [01:54<00:34,  1.34it/s]"
     ]
    },
    {
     "name": "stdout",
     "output_type": "stream",
     "text": [
      "[154/200] current valid score: 0.5773141516167097\n"
     ]
    },
    {
     "name": "stderr",
     "output_type": "stream",
     "text": [
      "[154/200] current loss: 0.0004806319543969457:  78%|█████████████████████████▌       | 155/200 [01:55<00:33,  1.35it/s]"
     ]
    },
    {
     "name": "stdout",
     "output_type": "stream",
     "text": [
      "[155/200] current valid score: 0.5771312512255483\n"
     ]
    },
    {
     "name": "stderr",
     "output_type": "stream",
     "text": [
      "[155/200] current loss: 0.00047614341805668643:  78%|████████████████████████▉       | 156/200 [01:55<00:32,  1.35it/s]"
     ]
    },
    {
     "name": "stdout",
     "output_type": "stream",
     "text": [
      "[156/200] current valid score: 0.5886414605033927\n"
     ]
    },
    {
     "name": "stderr",
     "output_type": "stream",
     "text": [
      "[156/200] current loss: 0.0004704176060801005:  78%|█████████████████████████▉       | 157/200 [01:56<00:31,  1.35it/s]"
     ]
    },
    {
     "name": "stdout",
     "output_type": "stream",
     "text": [
      "[157/200] current valid score: 0.5773141516167097\n"
     ]
    },
    {
     "name": "stderr",
     "output_type": "stream",
     "text": [
      "[157/200] current loss: 0.00046318361236557474:  79%|█████████████████████████▎      | 158/200 [01:57<00:30,  1.36it/s]"
     ]
    },
    {
     "name": "stdout",
     "output_type": "stream",
     "text": [
      "[158/200] current valid score: 0.5913688759271489\n"
     ]
    },
    {
     "name": "stderr",
     "output_type": "stream",
     "text": [
      "[158/200] current loss: 0.0004566561287935198:  80%|██████████████████████████▏      | 159/200 [01:57<00:30,  1.35it/s]"
     ]
    },
    {
     "name": "stdout",
     "output_type": "stream",
     "text": [
      "[159/200] current valid score: 0.5820402552040969\n"
     ]
    },
    {
     "name": "stderr",
     "output_type": "stream",
     "text": [
      "[159/200] current loss: 0.0004508384965686467:  80%|██████████████████████████▍      | 160/200 [01:58<00:29,  1.34it/s]"
     ]
    },
    {
     "name": "stdout",
     "output_type": "stream",
     "text": [
      "[160/200] current valid score: 0.5818520231382962\n"
     ]
    },
    {
     "name": "stderr",
     "output_type": "stream",
     "text": [
      "[160/200] current loss: 0.0004506819697953489:  80%|██████████████████████████▌      | 161/200 [01:59<00:29,  1.34it/s]"
     ]
    },
    {
     "name": "stdout",
     "output_type": "stream",
     "text": [
      "[161/200] current valid score: 0.5874711445858085\n"
     ]
    },
    {
     "name": "stderr",
     "output_type": "stream",
     "text": [
      "[161/200] current loss: 0.00044549491943070925:  81%|█████████████████████████▉      | 162/200 [02:00<00:28,  1.35it/s]"
     ]
    },
    {
     "name": "stdout",
     "output_type": "stream",
     "text": [
      "[162/200] current valid score: 0.5822871864034092\n"
     ]
    },
    {
     "name": "stderr",
     "output_type": "stream",
     "text": [
      "[162/200] current loss: 0.00043394906194812625:  82%|██████████████████████████      | 163/200 [02:00<00:27,  1.35it/s]"
     ]
    },
    {
     "name": "stdout",
     "output_type": "stream",
     "text": [
      "[163/200] current valid score: 0.58765404497697\n"
     ]
    },
    {
     "name": "stderr",
     "output_type": "stream",
     "text": [
      "[163/200] current loss: 0.00043343380093574524:  82%|██████████████████████████▏     | 164/200 [02:01<00:26,  1.36it/s]"
     ]
    },
    {
     "name": "stdout",
     "output_type": "stream",
     "text": [
      "[164/200] current valid score: 0.5825575049967091\n"
     ]
    },
    {
     "name": "stderr",
     "output_type": "stream",
     "text": [
      "[164/200] current loss: 0.0004260184321498131:  82%|███████████████████████████▏     | 165/200 [02:02<00:25,  1.36it/s]"
     ]
    },
    {
     "name": "stdout",
     "output_type": "stream",
     "text": [
      "[165/200] current valid score: 0.5872280891776666\n"
     ]
    },
    {
     "name": "stderr",
     "output_type": "stream",
     "text": [
      "[165/200] current loss: 0.0004211981971170345:  83%|███████████████████████████▍     | 166/200 [02:03<00:25,  1.36it/s]"
     ]
    },
    {
     "name": "stdout",
     "output_type": "stream",
     "text": [
      "[166/200] current valid score: 0.5760301593851822\n"
     ]
    },
    {
     "name": "stderr",
     "output_type": "stream",
     "text": [
      "[166/200] current loss: 0.0004180043623068907:  84%|███████████████████████████▌     | 167/200 [02:03<00:24,  1.35it/s]"
     ]
    },
    {
     "name": "stdout",
     "output_type": "stream",
     "text": [
      "[167/200] current valid score: 0.5874711445858085\n"
     ]
    },
    {
     "name": "stderr",
     "output_type": "stream",
     "text": [
      "[167/200] current loss: 0.0004135356879500795:  84%|███████████████████████████▋     | 168/200 [02:04<00:23,  1.34it/s]"
     ]
    },
    {
     "name": "stdout",
     "output_type": "stream",
     "text": [
      "[168/200] current valid score: 0.5799227404054227\n"
     ]
    },
    {
     "name": "stderr",
     "output_type": "stream",
     "text": [
      "[168/200] current loss: 0.0004085517933687372:  84%|███████████████████████████▉     | 169/200 [02:05<00:23,  1.34it/s]"
     ]
    },
    {
     "name": "stdout",
     "output_type": "stream",
     "text": [
      "[169/200] current valid score: 0.5788790540097695\n"
     ]
    },
    {
     "name": "stderr",
     "output_type": "stream",
     "text": [
      "[169/200] current loss: 0.00040255662013035623:  85%|███████████████████████████▏    | 170/200 [02:06<00:22,  1.34it/s]"
     ]
    },
    {
     "name": "stdout",
     "output_type": "stream",
     "text": [
      "[170/200] current valid score: 0.5911863248375319\n"
     ]
    },
    {
     "name": "stderr",
     "output_type": "stream",
     "text": [
      "[170/200] current loss: 0.00040283821944663993:  86%|███████████████████████████▎    | 171/200 [02:06<00:21,  1.34it/s]"
     ]
    },
    {
     "name": "stdout",
     "output_type": "stream",
     "text": [
      "[171/200] current valid score: 0.5786959211753151\n"
     ]
    },
    {
     "name": "stderr",
     "output_type": "stream",
     "text": [
      "[171/200] current loss: 0.0003950878855412024:  86%|████████████████████████████▍    | 172/200 [02:07<00:20,  1.34it/s]"
     ]
    },
    {
     "name": "stdout",
     "output_type": "stream",
     "text": [
      "[172/200] current valid score: 0.590932793260514\n"
     ]
    },
    {
     "name": "stderr",
     "output_type": "stream",
     "text": [
      "[172/200] current loss: 0.000395532024439669:  86%|█████████████████████████████▍    | 173/200 [02:08<00:20,  1.33it/s]"
     ]
    },
    {
     "name": "stdout",
     "output_type": "stream",
     "text": [
      "[173/200] current valid score: 0.584033756792654\n"
     ]
    },
    {
     "name": "stderr",
     "output_type": "stream",
     "text": [
      "[173/200] current loss: 0.00038848061413660536:  87%|███████████████████████████▊    | 174/200 [02:09<00:19,  1.34it/s]"
     ]
    },
    {
     "name": "stdout",
     "output_type": "stream",
     "text": [
      "[174/200] current valid score: 0.590932793260514\n"
     ]
    },
    {
     "name": "stderr",
     "output_type": "stream",
     "text": [
      "[174/200] current loss: 0.0003808390104422604:  88%|████████████████████████████▉    | 175/200 [02:09<00:18,  1.35it/s]"
     ]
    },
    {
     "name": "stdout",
     "output_type": "stream",
     "text": [
      "[175/200] current valid score: 0.5788790540097695\n"
     ]
    },
    {
     "name": "stderr",
     "output_type": "stream",
     "text": [
      "[175/200] current loss: 0.00037867000775180593:  88%|████████████████████████████▏   | 176/200 [02:10<00:17,  1.35it/s]"
     ]
    },
    {
     "name": "stdout",
     "output_type": "stream",
     "text": [
      "[176/200] current valid score: 0.5875632963544264\n"
     ]
    },
    {
     "name": "stderr",
     "output_type": "stream",
     "text": [
      "[176/200] current loss: 0.0003748457185434599:  88%|█████████████████████████████▏   | 177/200 [02:11<00:17,  1.35it/s]"
     ]
    },
    {
     "name": "stdout",
     "output_type": "stream",
     "text": [
      "[177/200] current valid score: 0.5822871864034092\n"
     ]
    },
    {
     "name": "stderr",
     "output_type": "stream",
     "text": [
      "[177/200] current loss: 0.00037239185010973556:  89%|████████████████████████████▍   | 178/200 [02:12<00:16,  1.36it/s]"
     ]
    },
    {
     "name": "stdout",
     "output_type": "stream",
     "text": [
      "[178/200] current valid score: 0.5788790540097695\n"
     ]
    },
    {
     "name": "stderr",
     "output_type": "stream",
     "text": [
      "[178/200] current loss: 0.00036681883111868026:  90%|████████████████████████████▋   | 179/200 [02:12<00:15,  1.36it/s]"
     ]
    },
    {
     "name": "stdout",
     "output_type": "stream",
     "text": [
      "[179/200] current valid score: 0.581787518571843\n"
     ]
    },
    {
     "name": "stderr",
     "output_type": "stream",
     "text": [
      "[179/200] current loss: 0.0003614162373608046:  90%|█████████████████████████████▋   | 180/200 [02:13<00:14,  1.35it/s]"
     ]
    },
    {
     "name": "stdout",
     "output_type": "stream",
     "text": [
      "[180/200] current valid score: 0.5788790540097695\n"
     ]
    },
    {
     "name": "stderr",
     "output_type": "stream",
     "text": [
      "[180/200] current loss: 0.00035975753995895823:  90%|████████████████████████████▉   | 181/200 [02:14<00:14,  1.35it/s]"
     ]
    },
    {
     "name": "stdout",
     "output_type": "stream",
     "text": [
      "[181/200] current valid score: 0.5822871864034092\n"
     ]
    },
    {
     "name": "stderr",
     "output_type": "stream",
     "text": [
      "[181/200] current loss: 0.00035531593683807953:  91%|█████████████████████████████   | 182/200 [02:15<00:13,  1.35it/s]"
     ]
    },
    {
     "name": "stdout",
     "output_type": "stream",
     "text": [
      "[182/200] current valid score: 0.5822871864034092\n"
     ]
    },
    {
     "name": "stderr",
     "output_type": "stream",
     "text": [
      "[182/200] current loss: 0.00034944012414419304:  92%|█████████████████████████████▎  | 183/200 [02:15<00:12,  1.35it/s]"
     ]
    },
    {
     "name": "stdout",
     "output_type": "stream",
     "text": [
      "[183/200] current valid score: 0.5760735236104123\n"
     ]
    },
    {
     "name": "stderr",
     "output_type": "stream",
     "text": [
      "[183/200] current loss: 0.0003463131542161216:  92%|██████████████████████████████▎  | 184/200 [02:16<00:11,  1.35it/s]"
     ]
    },
    {
     "name": "stdout",
     "output_type": "stream",
     "text": [
      "[184/200] current valid score: 0.5822871864034092\n"
     ]
    },
    {
     "name": "stderr",
     "output_type": "stream",
     "text": [
      "[184/200] current loss: 0.0003449799608520783:  92%|██████████████████████████████▌  | 185/200 [02:17<00:11,  1.35it/s]"
     ]
    },
    {
     "name": "stdout",
     "output_type": "stream",
     "text": [
      "[185/200] current valid score: 0.5822871864034092\n"
     ]
    },
    {
     "name": "stderr",
     "output_type": "stream",
     "text": [
      "[185/200] current loss: 0.0003399480147844684:  93%|██████████████████████████████▋  | 186/200 [02:17<00:10,  1.35it/s]"
     ]
    },
    {
     "name": "stdout",
     "output_type": "stream",
     "text": [
      "[186/200] current valid score: 0.5760301593851822\n"
     ]
    },
    {
     "name": "stderr",
     "output_type": "stream",
     "text": [
      "[186/200] current loss: 0.00033689874741010855:  94%|█████████████████████████████▉  | 187/200 [02:18<00:09,  1.35it/s]"
     ]
    },
    {
     "name": "stdout",
     "output_type": "stream",
     "text": [
      "[187/200] current valid score: 0.5822871864034092\n"
     ]
    },
    {
     "name": "stderr",
     "output_type": "stream",
     "text": [
      "[187/200] current loss: 0.0003340900960602682:  94%|███████████████████████████████  | 188/200 [02:19<00:08,  1.35it/s]"
     ]
    },
    {
     "name": "stdout",
     "output_type": "stream",
     "text": [
      "[188/200] current valid score: 0.5788790540097695\n"
     ]
    },
    {
     "name": "stderr",
     "output_type": "stream",
     "text": [
      "[188/200] current loss: 0.0003324586024548668:  94%|███████████████████████████████▏ | 189/200 [02:20<00:08,  1.36it/s]"
     ]
    },
    {
     "name": "stdout",
     "output_type": "stream",
     "text": [
      "[189/200] current valid score: 0.5900619862786376\n"
     ]
    },
    {
     "name": "stderr",
     "output_type": "stream",
     "text": [
      "[189/200] current loss: 0.0003272547882838841:  95%|███████████████████████████████▎ | 190/200 [02:20<00:07,  1.35it/s]"
     ]
    },
    {
     "name": "stdout",
     "output_type": "stream",
     "text": [
      "[190/200] current valid score: 0.5896349279892859\n"
     ]
    },
    {
     "name": "stderr",
     "output_type": "stream",
     "text": [
      "[190/200] current loss: 0.0003274359203276843:  96%|███████████████████████████████▌ | 191/200 [02:21<00:06,  1.36it/s]"
     ]
    },
    {
     "name": "stdout",
     "output_type": "stream",
     "text": [
      "[191/200] current valid score: 0.5899602530134533\n"
     ]
    },
    {
     "name": "stderr",
     "output_type": "stream",
     "text": [
      "[191/200] current loss: 0.00032490132764036205:  96%|██████████████████████████████▋ | 192/200 [02:22<00:05,  1.35it/s]"
     ]
    },
    {
     "name": "stdout",
     "output_type": "stream",
     "text": [
      "[192/200] current valid score: 0.5760301593851822\n"
     ]
    },
    {
     "name": "stderr",
     "output_type": "stream",
     "text": [
      "[192/200] current loss: 0.00031751850415972897:  96%|██████████████████████████████▉ | 193/200 [02:23<00:05,  1.35it/s]"
     ]
    },
    {
     "name": "stdout",
     "output_type": "stream",
     "text": [
      "[193/200] current valid score: 0.5996544197432515\n"
     ]
    },
    {
     "name": "stderr",
     "output_type": "stream",
     "text": [
      "[193/200] current loss: 0.0003144455560394665:  97%|████████████████████████████████ | 194/200 [02:23<00:04,  1.33it/s]"
     ]
    },
    {
     "name": "stdout",
     "output_type": "stream",
     "text": [
      "[194/200] current valid score: 0.5789224182349996\n"
     ]
    },
    {
     "name": "stderr",
     "output_type": "stream",
     "text": [
      "[194/200] current loss: 0.000312991142884767:  98%|█████████████████████████████████▏| 195/200 [02:24<00:03,  1.34it/s]"
     ]
    },
    {
     "name": "stdout",
     "output_type": "stream",
     "text": [
      "[195/200] current valid score: 0.5960565912793001\n"
     ]
    },
    {
     "name": "stderr",
     "output_type": "stream",
     "text": [
      "[195/200] current loss: 0.0003072732250566465:  98%|████████████████████████████████▎| 196/200 [02:25<00:02,  1.35it/s]"
     ]
    },
    {
     "name": "stdout",
     "output_type": "stream",
     "text": [
      "[196/200] current valid score: 0.5788790540097695\n"
     ]
    },
    {
     "name": "stderr",
     "output_type": "stream",
     "text": [
      "[196/200] current loss: 0.00030744214113937677:  98%|███████████████████████████████▌| 197/200 [02:26<00:02,  1.36it/s]"
     ]
    },
    {
     "name": "stdout",
     "output_type": "stream",
     "text": [
      "[197/200] current valid score: 0.5996544197432515\n"
     ]
    },
    {
     "name": "stderr",
     "output_type": "stream",
     "text": [
      "[197/200] current loss: 0.0003000626469669986:  99%|████████████████████████████████▋| 198/200 [02:26<00:01,  1.35it/s]"
     ]
    },
    {
     "name": "stdout",
     "output_type": "stream",
     "text": [
      "[198/200] current valid score: 0.5789224182349996\n"
     ]
    },
    {
     "name": "stderr",
     "output_type": "stream",
     "text": [
      "[198/200] current loss: 0.0002993197302694303: 100%|████████████████████████████████▊| 199/200 [02:27<00:00,  1.35it/s]"
     ]
    },
    {
     "name": "stdout",
     "output_type": "stream",
     "text": [
      "[199/200] current valid score: 0.5922857586150605\n"
     ]
    },
    {
     "name": "stderr",
     "output_type": "stream",
     "text": [
      "[199/200] current loss: 0.0002951318853582344: 100%|█████████████████████████████████| 200/200 [02:28<00:00,  1.35it/s]"
     ]
    },
    {
     "name": "stdout",
     "output_type": "stream",
     "text": [
      "[200/200] current valid score: 0.5900619862786376\n"
     ]
    },
    {
     "name": "stderr",
     "output_type": "stream",
     "text": [
      "\n"
     ]
    }
   ],
   "source": [
    "NUM_EPOCHS = 200\n",
    "\n",
    "loss_fn = torch.nn.CrossEntropyLoss(size_average=False)\n",
    "losses = []\n",
    "\n",
    "learning_rate = 3e-3\n",
    "optimizer = torch.optim.AdamW(net.parameters(), lr=learning_rate)\n",
    "ebar = tqdm(range(NUM_EPOCHS))\n",
    "\n",
    "for epoch_num in ebar:\n",
    "    running_loss = 0.0\n",
    "    iter_num = 0\n",
    "#     pbar = tqdm(enumerate(trainloader), total = len(trainloader))\n",
    "    pbar = enumerate(trainloader)\n",
    "    for iter_num, (X_batch, y_batch) in pbar:\n",
    "        iter_num +=1\n",
    "        # forward (подсчёт ответа с текущими весами)\n",
    "        y_pred = net(X_batch)\n",
    "        \n",
    "        # вычисляем loss'ы\n",
    "        loss = loss_fn(y_pred, y_batch)\n",
    "        running_loss += loss.item()\n",
    "                     \n",
    "        # зануляем градиенты\n",
    "        optimizer.zero_grad()\n",
    "\n",
    "        # backward (подсчёт новых градиентов)\n",
    "        loss.backward()\n",
    "\n",
    "        # обновляем веса\n",
    "        optimizer.step()\n",
    "        \n",
    "    line = '[{}/{}] current loss: {}'.format(epoch_num, NUM_EPOCHS, running_loss/len(trainset))\n",
    "    ebar.set_description(line)\n",
    "    \n",
    "    losses.append(running_loss/len(trainset))\n",
    "        \n",
    "    with torch.no_grad():\n",
    "        y_pred = torch.softmax(net(X_val_tensor), 1)\n",
    "        y = torch.argmax(y_pred, axis=1)\n",
    "        line = '[{}/{}] current valid score: {}'.format(epoch_num+1, NUM_EPOCHS, f1_score(y_val_tensor, y, average='macro'))\n",
    "        print(line)\n",
    "#         ebar.set_description(line)"
   ]
  },
  {
   "cell_type": "code",
   "execution_count": 15,
   "id": "0e7c5b8b",
   "metadata": {},
   "outputs": [
    {
     "data": {
      "image/png": "[encoded data removed]",
      "text/plain": [
       "<Figure size 1440x576 with 1 Axes>"
      ]
     },
     "metadata": {
      "needs_background": "light"
     },
     "output_type": "display_data"
    }
   ],
   "source": [
    "fig, axs = plt.subplots(1,1,figsize=(20,8))\n",
    "plt.plot(np.arange(NUM_EPOCHS), losses)\n",
    "plt.show()"
   ]
  },
  {
   "cell_type": "markdown",
   "id": "452b19d3",
   "metadata": {},
   "source": [
    "### Оценка точности"
   ]
  },
  {
   "cell_type": "code",
   "execution_count": 16,
   "id": "bca2fb8a",
   "metadata": {},
   "outputs": [
    {
     "name": "stdout",
     "output_type": "stream",
     "text": [
      "1 0.6086956521739131\n",
      "2 0.3333333333333333\n",
      "3 0.45161290322580644\n",
      "4 0.7\n",
      "5 0.7777777777777778\n",
      "6 0.8888888888888888\n",
      "7 0.76\n",
      "16 0.375\n",
      "17 0.5714285714285714\n"
     ]
    }
   ],
   "source": [
    "for i in range(len(np.unique(y_val_tensor))):\n",
    "    idx = np.argwhere(y_val_tensor==i)[0]\n",
    "    y_pred = torch.sigmoid(net(X_val_tensor[idx]))\n",
    "    y = torch.argmax(y_pred, axis=1)\n",
    "    print(np.unique(Y)[i], len(y[y==i])/len(idx))"
   ]
  },
  {
   "cell_type": "code",
   "execution_count": 17,
   "id": "32d02c6f",
   "metadata": {},
   "outputs": [
    {
     "name": "stdout",
     "output_type": "stream",
     "text": [
      "0.9046193503849421\n",
      "0.5900619862786376\n"
     ]
    }
   ],
   "source": [
    "with torch.no_grad():\n",
    "    y_pred = torch.softmax(net(X_val_tensor), 1)\n",
    "    y = torch.argmax(y_pred, axis=1)\n",
    "#     print(net(X_val_tensor).shape)\n",
    "    print(roc_auc_score(y_val_tensor, y_pred, multi_class='ovo'))\n",
    "    print(f1_score(y_val_tensor, y, average='macro'))"
   ]
  },
  {
   "cell_type": "code",
   "execution_count": null,
   "id": "3168960a",
   "metadata": {},
   "outputs": [],
   "source": []
  },
  {
   "cell_type": "code",
   "execution_count": null,
   "id": "7d81aab2",
   "metadata": {},
   "outputs": [],
   "source": []
  },
  {
   "cell_type": "code",
   "execution_count": null,
   "id": "0c1ac8c6",
   "metadata": {},
   "outputs": [],
   "source": []
  }
 ],
 "metadata": {
  "kernelspec": {
   "display_name": "Python 3",
   "language": "python",
   "name": "python3"
  },
  "language_info": {
   "codemirror_mode": {
    "name": "ipython",
    "version": 3
   },
   "file_extension": ".py",
   "mimetype": "text/x-python",
   "name": "python",
   "nbconvert_exporter": "python",
   "pygments_lexer": "ipython3",
   "version": "3.8.3"
  }
 },
 "nbformat": 4,
 "nbformat_minor": 5
}
