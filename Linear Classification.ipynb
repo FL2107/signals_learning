{
 "cells": [
  {
   "cell_type": "markdown",
   "id": "c728047c",
   "metadata": {},
   "source": [
    "# Пробуем простую полносвязную сеть"
   ]
  },
  {
   "cell_type": "markdown",
   "id": "5be70d36",
   "metadata": {},
   "source": [
    "## Загрузка данных"
   ]
  },
  {
   "cell_type": "code",
   "execution_count": 1,
   "id": "b3ca6a25",
   "metadata": {},
   "outputs": [
    {
     "name": "stderr",
     "output_type": "stream",
     "text": [
      "C:\\Users\\kitro\\anaconda3\\lib\\site-packages\\setuptools\\distutils_patch.py:25: UserWarning: Distutils was imported before Setuptools. This usage is discouraged and may exhibit undesirable behaviors or errors. Please use Setuptools' objects directly or at least import Setuptools first.\n",
      "  warnings.warn(\n"
     ]
    }
   ],
   "source": [
    "import matplotlib.pyplot as plt\n",
    "import numpy as np\n",
    "import pandas as pd\n",
    "from tqdm import tqdm\n",
    "plt.style.use('seaborn')\n",
    "\n",
    "import torch\n",
    "import torch.nn as nn\n",
    "from torch.utils.data import Dataset, DataLoader, TensorDataset\n",
    "from torch.utils.tensorboard import SummaryWriter\n",
    "from pathlib import Path\n",
    "from skimage import transform\n",
    "from sklearn.model_selection import train_test_split\n",
    "from sklearn.metrics import roc_auc_score, f1_score\n",
    "from read_data import *\n",
    "from read_data import good_cols\n",
    "%matplotlib inline"
   ]
  },
  {
   "cell_type": "code",
   "execution_count": 2,
   "id": "f5e2723a",
   "metadata": {},
   "outputs": [],
   "source": [
    "class SignalDataset(Dataset):\n",
    "    def __init__(self, data_X, data_Y):\n",
    "        \"\"\"\n",
    "        Args:\n",
    "            csv_file (string): Path to the csv file with annotations.\n",
    "            root_dir (string): Directory with all the images.\n",
    "            transform (callable, optional): Optional transform to be applied\n",
    "                on a sample.\n",
    "        \"\"\"\n",
    "        self.X = data_X\n",
    "        self.Y = data_Y\n",
    "\n",
    "    def __len__(self):\n",
    "        return len(self.X)\n",
    "\n",
    "    def __getitem__(self, idx):\n",
    "        input_data = self.X[idx]\n",
    "        label = self.Y[idx]\n",
    "        \n",
    "        return input_data, label"
   ]
  },
  {
   "cell_type": "code",
   "execution_count": 3,
   "id": "5eedc00b",
   "metadata": {},
   "outputs": [
    {
     "name": "stderr",
     "output_type": "stream",
     "text": [
      "100%|████████████████████████████████████████████████████████████████████████████████████| 9/9 [00:40<00:00,  4.48s/it]\n"
     ]
    }
   ],
   "source": [
    "all_df = get_df()"
   ]
  },
  {
   "cell_type": "code",
   "execution_count": 4,
   "id": "677b58dd",
   "metadata": {},
   "outputs": [],
   "source": [
    "TARGET_LEN = 20000\n",
    "activities = sep_by_len(all_df, TARGET_LEN)"
   ]
  },
  {
   "cell_type": "code",
   "execution_count": 219,
   "id": "41789728",
   "metadata": {},
   "outputs": [
    {
     "name": "stderr",
     "output_type": "stream",
     "text": [
      "100%|██████████████████████████████████████████████████████████████████████████████████| 64/64 [00:08<00:00,  7.92it/s]\n"
     ]
    },
    {
     "data": {
      "text/html": [
       "<div>\n",
       "<style scoped>\n",
       "    .dataframe tbody tr th:only-of-type {\n",
       "        vertical-align: middle;\n",
       "    }\n",
       "\n",
       "    .dataframe tbody tr th {\n",
       "        vertical-align: top;\n",
       "    }\n",
       "\n",
       "    .dataframe thead th {\n",
       "        text-align: right;\n",
       "    }\n",
       "</style>\n",
       "<table border=\"1\" class=\"dataframe\">\n",
       "  <thead>\n",
       "    <tr style=\"text-align: right;\">\n",
       "      <th></th>\n",
       "      <th>activityID</th>\n",
       "      <th>heart rate</th>\n",
       "      <th>temperature hand</th>\n",
       "      <th>3Da_x scale_16 hand</th>\n",
       "      <th>3Da_y scale_16 hand</th>\n",
       "      <th>3Da_z scale_16 hand</th>\n",
       "      <th>3Dg_x hand</th>\n",
       "      <th>3Dg_y hand</th>\n",
       "      <th>3Dg_z hand</th>\n",
       "      <th>3Dm_x hand</th>\n",
       "      <th>...</th>\n",
       "      <th>temperature ankle</th>\n",
       "      <th>3Da_x scale_16 ankle</th>\n",
       "      <th>3Da_y scale_16 ankle</th>\n",
       "      <th>3Da_z scale_16 ankle</th>\n",
       "      <th>3Dg_x ankle</th>\n",
       "      <th>3Dg_y ankle</th>\n",
       "      <th>3Dg_z ankle</th>\n",
       "      <th>3Dm_x ankle</th>\n",
       "      <th>3Dm_y ankle</th>\n",
       "      <th>3Dm_z ankle</th>\n",
       "    </tr>\n",
       "  </thead>\n",
       "  <tbody>\n",
       "    <tr>\n",
       "      <th>1621</th>\n",
       "      <td>5</td>\n",
       "      <td>[110.0, 110.0, 110.0, 110.0, 110.0, 110.0, 110...</td>\n",
       "      <td>[33.8125, 33.8125, 33.8125, 33.8125, 33.8125, ...</td>\n",
       "      <td>[-4.13791, -3.77095, -3.75571, -3.81446, -3.64...</td>\n",
       "      <td>[-11.777, -12.9568, -12.8772, -12.0013, -10.70...</td>\n",
       "      <td>[-2.48384, -2.55134, -2.12802, -1.82395, -1.51...</td>\n",
       "      <td>[-1.22828, -0.763482, -0.344998, -0.0443527, 0...</td>\n",
       "      <td>[1.01231, 0.930245, 0.887524, 0.894837, 0.8727...</td>\n",
       "      <td>[1.64963, 1.14167, 0.634369, 0.196501, -0.2488...</td>\n",
       "      <td>[3.187, 3.08438, 3.20471, 2.3219, 3.20032, 2.9...</td>\n",
       "      <td>...</td>\n",
       "      <td>[34.0, 34.0, 34.0, 34.0, 34.0, 34.0, 34.0, 34....</td>\n",
       "      <td>[11.5014, 9.50504, 9.38502, 9.96186, 8.7998, 9...</td>\n",
       "      <td>[-3.8539, -5.23388, -4.38364, -5.22829, -6.219...</td>\n",
       "      <td>[-1.99674, -3.51364, -5.25668, -4.55091, -3.12...</td>\n",
       "      <td>[-2.3442, -1.13306, -0.0561298, 0.774767, 0.95...</td>\n",
       "      <td>[0.459552, 0.468248, 0.273393, 0.119556, 0.130...</td>\n",
       "      <td>[-0.688339, -1.18056, -1.63092, -2.17766, -2.6...</td>\n",
       "      <td>[-25.4896, -25.4966, -24.858, -24.2057, -23.42...</td>\n",
       "      <td>[-21.9353, -22.1958, -22.2277, -22.386, -23.32...</td>\n",
       "      <td>[41.057, 39.9227, 39.9249, 40.9202, 40.6404, 4...</td>\n",
       "    </tr>\n",
       "  </tbody>\n",
       "</table>\n",
       "<p>1 rows × 32 columns</p>\n",
       "</div>"
      ],
      "text/plain": [
       "     activityID                                         heart rate  \\\n",
       "1621          5  [110.0, 110.0, 110.0, 110.0, 110.0, 110.0, 110...   \n",
       "\n",
       "                                       temperature hand  \\\n",
       "1621  [33.8125, 33.8125, 33.8125, 33.8125, 33.8125, ...   \n",
       "\n",
       "                                    3Da_x scale_16 hand  \\\n",
       "1621  [-4.13791, -3.77095, -3.75571, -3.81446, -3.64...   \n",
       "\n",
       "                                    3Da_y scale_16 hand  \\\n",
       "1621  [-11.777, -12.9568, -12.8772, -12.0013, -10.70...   \n",
       "\n",
       "                                    3Da_z scale_16 hand  \\\n",
       "1621  [-2.48384, -2.55134, -2.12802, -1.82395, -1.51...   \n",
       "\n",
       "                                             3Dg_x hand  \\\n",
       "1621  [-1.22828, -0.763482, -0.344998, -0.0443527, 0...   \n",
       "\n",
       "                                             3Dg_y hand  \\\n",
       "1621  [1.01231, 0.930245, 0.887524, 0.894837, 0.8727...   \n",
       "\n",
       "                                             3Dg_z hand  \\\n",
       "1621  [1.64963, 1.14167, 0.634369, 0.196501, -0.2488...   \n",
       "\n",
       "                                             3Dm_x hand  ...  \\\n",
       "1621  [3.187, 3.08438, 3.20471, 2.3219, 3.20032, 2.9...  ...   \n",
       "\n",
       "                                      temperature ankle  \\\n",
       "1621  [34.0, 34.0, 34.0, 34.0, 34.0, 34.0, 34.0, 34....   \n",
       "\n",
       "                                   3Da_x scale_16 ankle  \\\n",
       "1621  [11.5014, 9.50504, 9.38502, 9.96186, 8.7998, 9...   \n",
       "\n",
       "                                   3Da_y scale_16 ankle  \\\n",
       "1621  [-3.8539, -5.23388, -4.38364, -5.22829, -6.219...   \n",
       "\n",
       "                                   3Da_z scale_16 ankle  \\\n",
       "1621  [-1.99674, -3.51364, -5.25668, -4.55091, -3.12...   \n",
       "\n",
       "                                            3Dg_x ankle  \\\n",
       "1621  [-2.3442, -1.13306, -0.0561298, 0.774767, 0.95...   \n",
       "\n",
       "                                            3Dg_y ankle  \\\n",
       "1621  [0.459552, 0.468248, 0.273393, 0.119556, 0.130...   \n",
       "\n",
       "                                            3Dg_z ankle  \\\n",
       "1621  [-0.688339, -1.18056, -1.63092, -2.17766, -2.6...   \n",
       "\n",
       "                                            3Dm_x ankle  \\\n",
       "1621  [-25.4896, -25.4966, -24.858, -24.2057, -23.42...   \n",
       "\n",
       "                                            3Dm_y ankle  \\\n",
       "1621  [-21.9353, -22.1958, -22.2277, -22.386, -23.32...   \n",
       "\n",
       "                                            3Dm_z ankle  \n",
       "1621  [41.057, 39.9227, 39.9249, 40.9202, 40.6404, 4...  \n",
       "\n",
       "[1 rows x 32 columns]"
      ]
     },
     "execution_count": 219,
     "metadata": {},
     "output_type": "execute_result"
    }
   ],
   "source": [
    "CUT_LEN = 50\n",
    "cut_df = cut_act(activities, CUT_LEN, count=int(410*0.1), random_start=True)\n",
    "cut_df.sample()"
   ]
  },
  {
   "cell_type": "markdown",
   "id": "48218c08",
   "metadata": {},
   "source": [
    "### Получаем вектор признаков"
   ]
  },
  {
   "cell_type": "code",
   "execution_count": 220,
   "id": "e0eecaa4",
   "metadata": {},
   "outputs": [
    {
     "data": {
      "text/plain": [
       "((2624, 31), (2624,))"
      ]
     },
     "execution_count": 220,
     "metadata": {},
     "output_type": "execute_result"
    }
   ],
   "source": [
    "X = cut_df.iloc[:, 1:].values\n",
    "\n",
    "Y = cut_df.iloc[:, 0] # целевая переменная\n",
    "X.shape, Y.shape"
   ]
  },
  {
   "cell_type": "markdown",
   "id": "d01efff1",
   "metadata": {},
   "source": [
    "### Нормализация"
   ]
  },
  {
   "cell_type": "code",
   "execution_count": 221,
   "id": "13badcc2",
   "metadata": {},
   "outputs": [
    {
     "data": {
      "text/plain": [
       "(2624, 31, 50)"
      ]
     },
     "execution_count": 221,
     "metadata": {},
     "output_type": "execute_result"
    }
   ],
   "source": [
    "X_norm = normalize_arr(X)\n",
    "X_norm.shape"
   ]
  },
  {
   "cell_type": "code",
   "execution_count": 222,
   "id": "964bdc17",
   "metadata": {},
   "outputs": [
    {
     "data": {
      "text/plain": [
       "(2624, 1550)"
      ]
     },
     "execution_count": 222,
     "metadata": {},
     "output_type": "execute_result"
    }
   ],
   "source": [
    "X_flat = get_flatten(X_norm)\n",
    "X_flat.shape"
   ]
  },
  {
   "cell_type": "code",
   "execution_count": 223,
   "id": "8e6bb769",
   "metadata": {},
   "outputs": [
    {
     "data": {
      "text/plain": [
       "array([0, 1, 2, 3, 4, 5, 6, 7, 8])"
      ]
     },
     "execution_count": 223,
     "metadata": {},
     "output_type": "execute_result"
    }
   ],
   "source": [
    "y_targ = y_encode(Y)\n",
    "np.unique(y_targ)"
   ]
  },
  {
   "cell_type": "code",
   "execution_count": 224,
   "id": "c46b99e9",
   "metadata": {},
   "outputs": [
    {
     "data": {
      "text/plain": [
       "(torch.Size([2099, 1550]),\n",
       " torch.Size([2099]),\n",
       " array([0, 1, 2, 3, 4, 5, 6, 7, 8], dtype=int64),\n",
       " array([0, 1, 2, 3, 4, 5, 6, 7, 8], dtype=int64))"
      ]
     },
     "execution_count": 224,
     "metadata": {},
     "output_type": "execute_result"
    }
   ],
   "source": [
    "X_train_tensor, X_val_tensor, y_train_tensor, y_val_tensor = \\\n",
    "    train_test_split(torch.FloatTensor(X_flat), torch.LongTensor(y_targ), random_state=42, test_size = 0.2)\n",
    "X_train_tensor.shape, y_train_tensor.shape, np.unique(y_train_tensor), np.unique(y_val_tensor)"
   ]
  },
  {
   "cell_type": "code",
   "execution_count": 225,
   "id": "fbc12e96",
   "metadata": {},
   "outputs": [
    {
     "data": {
      "text/plain": [
       "2099"
      ]
     },
     "execution_count": 225,
     "metadata": {},
     "output_type": "execute_result"
    }
   ],
   "source": [
    "BATCH_SIZE = 64\n",
    "\n",
    "trainset = SignalDataset(X_train_tensor, y_train_tensor)\n",
    "trainloader = torch.utils.data.DataLoader(trainset, batch_size=BATCH_SIZE,\n",
    "                                          shuffle=True, num_workers=0)\n",
    "\n",
    "testset = SignalDataset(X_val_tensor, y_val_tensor)\n",
    "testloader = torch.utils.data.DataLoader(testset, batch_size=BATCH_SIZE,\n",
    "                                         shuffle=False, num_workers=0)\n",
    "len(trainset)"
   ]
  },
  {
   "cell_type": "markdown",
   "id": "45ed3105",
   "metadata": {},
   "source": [
    "## Подготовка модели"
   ]
  },
  {
   "cell_type": "code",
   "execution_count": 226,
   "id": "5b8d3ab7",
   "metadata": {},
   "outputs": [],
   "source": [
    "activation = nn.LeakyReLU\n",
    "\n",
    "net = torch.nn.Sequential(\n",
    "    nn.Linear(31*CUT_LEN, 1024),\n",
    "    activation(),\n",
    "    nn.Linear(1024,128),\n",
    "    activation(),\n",
    "    nn.Linear(128,len(np.unique(y_targ)))\n",
    ")"
   ]
  },
  {
   "cell_type": "markdown",
   "id": "ed6f4a77",
   "metadata": {},
   "source": [
    "## Обучение"
   ]
  },
  {
   "cell_type": "code",
   "execution_count": 227,
   "id": "d2276d9a",
   "metadata": {},
   "outputs": [
    {
     "name": "stderr",
     "output_type": "stream",
     "text": [
      "C:\\Users\\kitro\\anaconda3\\lib\\site-packages\\torch\\nn\\_reduction.py:42: UserWarning: size_average and reduce args will be deprecated, please use reduction='sum' instead.\n",
      "  warnings.warn(warning.format(ret))\n",
      "[20/20] current loss: 0.2759706778092405: 100%|████████████████████████████████████████| 20/20 [00:11<00:00,  1.68it/s]\n"
     ]
    }
   ],
   "source": [
    "NUM_EPOCHS = 20\n",
    "\n",
    "loss_fn = torch.nn.CrossEntropyLoss(size_average=False)\n",
    "losses = []\n",
    "val_losses = []\n",
    "\n",
    "learning_rate = 3e-3\n",
    "optimizer = torch.optim.AdamW(net.parameters(), lr=learning_rate)\n",
    "ebar = tqdm(range(NUM_EPOCHS))\n",
    "\n",
    "for epoch_num in ebar:\n",
    "    running_loss = 0.0\n",
    "    iter_num = 0\n",
    "#     pbar = tqdm(enumerate(trainloader), total = len(trainloader))\n",
    "    pbar = enumerate(trainloader)\n",
    "    for iter_num, (X_batch, y_batch) in pbar:\n",
    "        iter_num +=1\n",
    "        \n",
    "        y_pred = net(X_batch)\n",
    "        \n",
    "        loss = loss_fn(y_pred, y_batch)\n",
    "        running_loss += loss.item()\n",
    "                     \n",
    "        optimizer.zero_grad()\n",
    "\n",
    "        loss.backward()\n",
    "\n",
    "        optimizer.step()\n",
    "        \n",
    "    line = '[{}/{}] current loss: {}'.format(epoch_num+1, NUM_EPOCHS, running_loss/len(trainset))\n",
    "    ebar.set_description(line)\n",
    "    \n",
    "    losses.append(running_loss/len(trainset))\n",
    "        \n",
    "    with torch.no_grad():\n",
    "        y_pred = torch.softmax(net(X_val_tensor), 1)\n",
    "        y = torch.argmax(y_pred, axis=1)\n",
    "#         line = '[{}/{}] current valid score: {}'.format(epoch_num+1, NUM_EPOCHS, f1_score(y_val_tensor, y, average='macro'))\n",
    "#         print(line)\n",
    "        val_losses.append(f1_score(y_val_tensor, y, average='macro'))"
   ]
  },
  {
   "cell_type": "code",
   "execution_count": 228,
   "id": "37647fa0",
   "metadata": {},
   "outputs": [
    {
     "data": {
      "image/png": "[encoded data removed]",
      "text/plain": [
       "<Figure size 2160x576 with 2 Axes>"
      ]
     },
     "metadata": {
      "needs_background": "light"
     },
     "output_type": "display_data"
    }
   ],
   "source": [
    "fig, axs = plt.subplots(1,2,figsize=(30,8))\n",
    "axs[0].plot(np.arange(NUM_EPOCHS), losses)\n",
    "axs[1].plot(np.arange(NUM_EPOCHS), val_losses, color='red')\n",
    "plt.show()"
   ]
  },
  {
   "cell_type": "markdown",
   "id": "e3a71b93",
   "metadata": {},
   "source": [
    "### Оценка точности"
   ]
  },
  {
   "cell_type": "code",
   "execution_count": 229,
   "id": "d64081da",
   "metadata": {},
   "outputs": [
    {
     "name": "stdout",
     "output_type": "stream",
     "text": [
      "1 0.8958333333333334\n",
      "2 0.7333333333333333\n",
      "3 0.7605633802816901\n",
      "4 0.9090909090909091\n",
      "5 0.4\n",
      "6 0.8363636363636363\n",
      "7 0.6612903225806451\n",
      "16 0.6666666666666666\n",
      "17 0.8607594936708861\n"
     ]
    }
   ],
   "source": [
    "for i in range(len(np.unique(y_val_tensor))):\n",
    "    idx = np.argwhere(y_val_tensor==i)[0]\n",
    "    y_pred = torch.sigmoid(net(X_val_tensor[idx]))\n",
    "    y = torch.argmax(y_pred, axis=1)\n",
    "    print(np.unique(Y)[i], len(y[y==i])/len(idx))"
   ]
  },
  {
   "cell_type": "code",
   "execution_count": 230,
   "id": "4adb71fa",
   "metadata": {},
   "outputs": [
    {
     "name": "stdout",
     "output_type": "stream",
     "text": [
      "0.9831385427161737\n",
      "0.8467055324699053\n"
     ]
    }
   ],
   "source": [
    "with torch.no_grad():\n",
    "    y_pred = torch.softmax(net(X_val_tensor), 1)\n",
    "    y = torch.argmax(y_pred, axis=1)\n",
    "#     print(net(X_val_tensor).shape)\n",
    "    print(roc_auc_score(y_val_tensor, y_pred, multi_class='ovo'))\n",
    "    print(f1_score(y_val_tensor, y, average='macro'))"
   ]
  },
  {
   "cell_type": "markdown",
   "id": "9d02e9a6",
   "metadata": {},
   "source": [
    "Скорость модели"
   ]
  },
  {
   "cell_type": "code",
   "execution_count": 134,
   "id": "f73d065c",
   "metadata": {},
   "outputs": [
    {
     "name": "stdout",
     "output_type": "stream",
     "text": [
      "Wall time: 12 ms\n"
     ]
    }
   ],
   "source": [
    "\n",
    "idx = np.argwhere(y_val_tensor==0)[0]\n",
    "%time y_pred = net(X_val_tensor[idx])"
   ]
  },
  {
   "cell_type": "code",
   "execution_count": null,
   "id": "2846961a",
   "metadata": {},
   "outputs": [],
   "source": []
  },
  {
   "cell_type": "code",
   "execution_count": null,
   "id": "e2b17b33",
   "metadata": {},
   "outputs": [],
   "source": []
  }
 ],
 "metadata": {
  "kernelspec": {
   "display_name": "Python 3",
   "language": "python",
   "name": "python3"
  },
  "language_info": {
   "codemirror_mode": {
    "name": "ipython",
    "version": 3
   },
   "file_extension": ".py",
   "mimetype": "text/x-python",
   "name": "python",
   "nbconvert_exporter": "python",
   "pygments_lexer": "ipython3",
   "version": "3.8.3"
  }
 },
 "nbformat": 4,
 "nbformat_minor": 5
}
