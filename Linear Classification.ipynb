{
 "cells": [
  {
   "cell_type": "markdown",
   "id": "8f8cfb5a",
   "metadata": {},
   "source": [
    "# Пробуем простую полносвязную сеть"
   ]
  },
  {
   "cell_type": "markdown",
   "id": "2ae84be8",
   "metadata": {},
   "source": [
    "## Загрузка данных"
   ]
  },
  {
   "cell_type": "code",
   "execution_count": 22,
   "id": "e8dfdbb0",
   "metadata": {},
   "outputs": [],
   "source": [
    "import matplotlib.pyplot as plt\n",
    "import numpy as np\n",
    "import pandas as pd\n",
    "from tqdm import tqdm\n",
    "plt.style.use('seaborn')\n",
    "\n",
    "import torch\n",
    "import torch.nn as nn\n",
    "from torch.utils.data import Dataset, DataLoader, TensorDataset\n",
    "from torch.utils.tensorboard import SummaryWriter\n",
    "from pathlib import Path\n",
    "from skimage import transform\n",
    "from sklearn.model_selection import train_test_split\n",
    "from sklearn.metrics import roc_auc_score, f1_score\n",
    "from sklearn.preprocessing import OrdinalEncoder\n",
    "from read_data import *\n",
    "from read_data import good_cols\n",
    "%matplotlib inline"
   ]
  },
  {
   "cell_type": "code",
   "execution_count": null,
   "id": "fc395238",
   "metadata": {},
   "outputs": [
    {
     "name": "stderr",
     "output_type": "stream",
     "text": [
      " 11%|█████████▎                                                                          | 1/9 [00:03<00:30,  3.81s/it]"
     ]
    }
   ],
   "source": [
    "all_df = get_df()\n",
    "TARGET_LEN = 2000\n",
    "activities = sep_by_len(all_df, 20000)\n",
    "cut_df = cut_act(activities, TARGET_LEN, count=4)\n",
    "n_df = normalize_df(cut_df)\n",
    "n_df.sample()"
   ]
  },
  {
   "cell_type": "markdown",
   "id": "615a42f1",
   "metadata": {},
   "source": [
    "Получаем вектор признаков"
   ]
  },
  {
   "cell_type": "code",
   "execution_count": null,
   "id": "3cd71d26",
   "metadata": {},
   "outputs": [],
   "source": [
    "X = n_df.iloc[:, 1:].values\n",
    "\n",
    "Y = n_df.iloc[:, 0] # целевая переменная\n",
    "X.shape, Y.shape"
   ]
  },
  {
   "cell_type": "code",
   "execution_count": null,
   "id": "d43af7fe",
   "metadata": {},
   "outputs": [],
   "source": [
    "X_flat = get_flatten(X)\n",
    "X_flat.shape"
   ]
  },
  {
   "cell_type": "code",
   "execution_count": null,
   "id": "1c376384",
   "metadata": {},
   "outputs": [],
   "source": [
    "def y_encode(y_data):\n",
    "    y_targ = np.zeros_like(y_data)\n",
    "    code = list(np.unique(y_data))\n",
    "    for i, el in enumerate(y_data):\n",
    "        y_targ[i] = code.index(el)\n",
    "        \n",
    "    return np.array(y_targ, dtype = np.int32)"
   ]
  },
  {
   "cell_type": "code",
   "execution_count": null,
   "id": "4f747434",
   "metadata": {},
   "outputs": [],
   "source": [
    "y_targ = y_encode(Y)\n",
    "y_targ"
   ]
  },
  {
   "cell_type": "code",
   "execution_count": null,
   "id": "e3d3f08e",
   "metadata": {},
   "outputs": [],
   "source": [
    "X_train_tensor, X_val_tensor, y_train_tensor, y_val_tensor = \\\n",
    "    train_test_split(torch.FloatTensor(X_flat), torch.LongTensor(y_targ), random_state=42, test_size = 0.3)\n",
    "X_train_tensor.shape, y_train_tensor.shape, np.unique(y_train_tensor), np.unique(y_val_tensor)"
   ]
  },
  {
   "cell_type": "code",
   "execution_count": null,
   "id": "59789ef5",
   "metadata": {},
   "outputs": [],
   "source": [
    "class SignalDataset(Dataset):\n",
    "    def __init__(self, data_X, data_Y):\n",
    "        \"\"\"\n",
    "        Args:\n",
    "            csv_file (string): Path to the csv file with annotations.\n",
    "            root_dir (string): Directory with all the images.\n",
    "            transform (callable, optional): Optional transform to be applied\n",
    "                on a sample.\n",
    "        \"\"\"\n",
    "        self.X = data_X\n",
    "        self.Y = data_Y\n",
    "\n",
    "    def __len__(self):\n",
    "        return len(self.X)\n",
    "\n",
    "    def __getitem__(self, idx):\n",
    "        input_data = self.X[idx]\n",
    "        label = self.Y[idx]\n",
    "        \n",
    "        return input_data, label"
   ]
  },
  {
   "cell_type": "code",
   "execution_count": null,
   "id": "3eedd3d4",
   "metadata": {},
   "outputs": [],
   "source": [
    "BATCH_SIZE = 64\n",
    "\n",
    "trainset = SignalDataset(X_train_tensor, y_train_tensor)\n",
    "trainloader = torch.utils.data.DataLoader(trainset, batch_size=BATCH_SIZE,\n",
    "                                          shuffle=True, num_workers=0)\n",
    "\n",
    "testset = SignalDataset(X_val_tensor, y_val_tensor)\n",
    "testloader = torch.utils.data.DataLoader(testset, batch_size=BATCH_SIZE,\n",
    "                                         shuffle=False, num_workers=0)\n",
    "len(trainset)"
   ]
  },
  {
   "cell_type": "markdown",
   "id": "a24edef4",
   "metadata": {},
   "source": [
    "## Подготовка модели"
   ]
  },
  {
   "cell_type": "code",
   "execution_count": null,
   "id": "538a747c",
   "metadata": {},
   "outputs": [],
   "source": [
    "activation = nn.LeakyReLU\n",
    "\n",
    "net = torch.nn.Sequential(\n",
    "    nn.Linear(31*TARGET_LEN, 128),\n",
    "    activation(),\n",
    "    nn.Linear(128,128),\n",
    "    activation(),\n",
    "    nn.Linear(128,len(np.unique(y_targ)))\n",
    ")"
   ]
  },
  {
   "cell_type": "markdown",
   "id": "29a5f41f",
   "metadata": {},
   "source": [
    "## Обучение"
   ]
  },
  {
   "cell_type": "code",
   "execution_count": 63,
   "id": "eb123a1e",
   "metadata": {
    "collapsed": true,
    "jupyter": {
     "outputs_hidden": true
    }
   },
   "outputs": [
    {
     "name": "stderr",
     "output_type": "stream",
     "text": [
      "C:\\Users\\kitro\\anaconda3\\lib\\site-packages\\torch\\nn\\_reduction.py:42: UserWarning: size_average and reduce args will be deprecated, please use reduction='sum' instead.\n",
      "  warnings.warn(warning.format(ret))\n",
      "[0/100] current loss: 25.463682469313706:   1%|▍                                       | 1/100 [00:00<01:02,  1.58it/s]"
     ]
    },
    {
     "name": "stdout",
     "output_type": "stream",
     "text": [
      "[1/100] current valid score: 0.02040816326530612\n"
     ]
    },
    {
     "name": "stderr",
     "output_type": "stream",
     "text": [
      "[1/100] current loss: 11.788713718817487:   2%|▊                                       | 2/100 [00:01<00:59,  1.65it/s]"
     ]
    },
    {
     "name": "stdout",
     "output_type": "stream",
     "text": [
      "[2/100] current valid score: 0.011494252873563218\n"
     ]
    },
    {
     "name": "stderr",
     "output_type": "stream",
     "text": [
      "[2/100] current loss: 4.663786477189723:   3%|█▏                                       | 3/100 [00:01<00:56,  1.71it/s]"
     ]
    },
    {
     "name": "stdout",
     "output_type": "stream",
     "text": [
      "[3/100] current valid score: 0.06330749354005168\n"
     ]
    },
    {
     "name": "stderr",
     "output_type": "stream",
     "text": [
      "[3/100] current loss: 2.508781774257257:   4%|█▋                                       | 4/100 [00:02<00:54,  1.75it/s]"
     ]
    },
    {
     "name": "stdout",
     "output_type": "stream",
     "text": [
      "[4/100] current valid score: 0.08922558922558922\n"
     ]
    },
    {
     "name": "stderr",
     "output_type": "stream",
     "text": [
      "[4/100] current loss: 1.9033783703315548:   5%|██                                      | 5/100 [00:02<00:57,  1.65it/s]"
     ]
    },
    {
     "name": "stdout",
     "output_type": "stream",
     "text": [
      "[5/100] current valid score: 0.111762789182144\n"
     ]
    },
    {
     "name": "stderr",
     "output_type": "stream",
     "text": [
      "[5/100] current loss: 1.5230194107303774:   6%|██▍                                     | 6/100 [00:03<00:57,  1.64it/s]"
     ]
    },
    {
     "name": "stdout",
     "output_type": "stream",
     "text": [
      "[6/100] current valid score: 0.1255299484466151\n"
     ]
    },
    {
     "name": "stderr",
     "output_type": "stream",
     "text": [
      "[6/100] current loss: 1.2038786042996539:   7%|██▊                                     | 7/100 [00:04<00:57,  1.63it/s]"
     ]
    },
    {
     "name": "stdout",
     "output_type": "stream",
     "text": [
      "[7/100] current valid score: 0.1737230362230362\n"
     ]
    },
    {
     "name": "stderr",
     "output_type": "stream",
     "text": [
      "[7/100] current loss: 0.9868795813583746:   8%|███▏                                    | 8/100 [00:04<00:54,  1.68it/s]"
     ]
    },
    {
     "name": "stdout",
     "output_type": "stream",
     "text": [
      "[8/100] current valid score: 0.15265151515151515\n"
     ]
    },
    {
     "name": "stderr",
     "output_type": "stream",
     "text": [
      "[8/100] current loss: 0.8728048510667754:   9%|███▌                                    | 9/100 [00:05<00:53,  1.70it/s]"
     ]
    },
    {
     "name": "stdout",
     "output_type": "stream",
     "text": [
      "[9/100] current valid score: 0.21928349428349428\n"
     ]
    },
    {
     "name": "stderr",
     "output_type": "stream",
     "text": [
      "[9/100] current loss: 0.7322418941714899:  10%|███▉                                   | 10/100 [00:05<00:51,  1.74it/s]"
     ]
    },
    {
     "name": "stdout",
     "output_type": "stream",
     "text": [
      "[10/100] current valid score: 0.1506072631072631\n"
     ]
    },
    {
     "name": "stderr",
     "output_type": "stream",
     "text": [
      "[10/100] current loss: 0.528968307060924:  11%|████▎                                  | 11/100 [00:06<00:50,  1.75it/s]"
     ]
    },
    {
     "name": "stdout",
     "output_type": "stream",
     "text": [
      "[11/100] current valid score: 0.21119528619528619\n"
     ]
    },
    {
     "name": "stderr",
     "output_type": "stream",
     "text": [
      "[11/100] current loss: 0.4416452326425692:  12%|████▌                                 | 12/100 [00:06<00:49,  1.77it/s]"
     ]
    },
    {
     "name": "stdout",
     "output_type": "stream",
     "text": [
      "[12/100] current valid score: 0.2057118807118807\n"
     ]
    },
    {
     "name": "stderr",
     "output_type": "stream",
     "text": [
      "[12/100] current loss: 0.35723919597098497:  13%|████▊                                | 13/100 [00:07<00:48,  1.78it/s]"
     ]
    },
    {
     "name": "stdout",
     "output_type": "stream",
     "text": [
      "[13/100] current valid score: 0.16911881977671453\n"
     ]
    },
    {
     "name": "stderr",
     "output_type": "stream",
     "text": [
      "[13/100] current loss: 0.3325507999435673:  14%|█████▎                                | 14/100 [00:08<00:47,  1.79it/s]"
     ]
    },
    {
     "name": "stdout",
     "output_type": "stream",
     "text": [
      "[14/100] current valid score: 0.3345504441092677\n"
     ]
    },
    {
     "name": "stderr",
     "output_type": "stream",
     "text": [
      "[14/100] current loss: 0.32311412764758596:  15%|█████▌                               | 15/100 [00:08<00:47,  1.80it/s]"
     ]
    },
    {
     "name": "stdout",
     "output_type": "stream",
     "text": [
      "[15/100] current valid score: 0.30304232804232806\n"
     ]
    },
    {
     "name": "stderr",
     "output_type": "stream",
     "text": [
      "[15/100] current loss: 0.3396395066889321:  16%|██████                                | 16/100 [00:09<00:47,  1.77it/s]"
     ]
    },
    {
     "name": "stdout",
     "output_type": "stream",
     "text": [
      "[16/100] current valid score: 0.20323979139768614\n"
     ]
    },
    {
     "name": "stderr",
     "output_type": "stream",
     "text": [
      "[16/100] current loss: 0.2377529493192347:  17%|██████▍                               | 17/100 [00:09<00:48,  1.72it/s]"
     ]
    },
    {
     "name": "stdout",
     "output_type": "stream",
     "text": [
      "[17/100] current valid score: 0.19365079365079366\n"
     ]
    },
    {
     "name": "stderr",
     "output_type": "stream",
     "text": [
      "[17/100] current loss: 0.2603406266468327:  18%|██████▊                               | 18/100 [00:10<00:49,  1.66it/s]"
     ]
    },
    {
     "name": "stdout",
     "output_type": "stream",
     "text": [
      "[18/100] current valid score: 0.12475429975429975\n"
     ]
    },
    {
     "name": "stderr",
     "output_type": "stream",
     "text": [
      "[18/100] current loss: 0.3204937805005205:  19%|███████▏                              | 19/100 [00:11<00:52,  1.55it/s]"
     ]
    },
    {
     "name": "stdout",
     "output_type": "stream",
     "text": [
      "[19/100] current valid score: 0.2661356209150327\n"
     ]
    },
    {
     "name": "stderr",
     "output_type": "stream",
     "text": [
      "[19/100] current loss: 0.18936655434166513:  20%|███████▍                             | 20/100 [00:11<00:50,  1.58it/s]"
     ]
    },
    {
     "name": "stdout",
     "output_type": "stream",
     "text": [
      "[20/100] current valid score: 0.24802789802789804\n"
     ]
    },
    {
     "name": "stderr",
     "output_type": "stream",
     "text": [
      "[20/100] current loss: 0.1262513970941063:  21%|███████▉                              | 21/100 [00:12<00:49,  1.60it/s]"
     ]
    },
    {
     "name": "stdout",
     "output_type": "stream",
     "text": [
      "[21/100] current valid score: 0.23349673202614382\n"
     ]
    },
    {
     "name": "stderr",
     "output_type": "stream",
     "text": [
      "[21/100] current loss: 0.13595409606530415:  22%|████████▏                            | 22/100 [00:13<00:48,  1.62it/s]"
     ]
    },
    {
     "name": "stdout",
     "output_type": "stream",
     "text": [
      "[22/100] current valid score: 0.2064407814407814\n"
     ]
    },
    {
     "name": "stderr",
     "output_type": "stream",
     "text": [
      "[22/100] current loss: 0.06599564935133709:  23%|████████▌                            | 23/100 [00:13<00:47,  1.63it/s]"
     ]
    },
    {
     "name": "stdout",
     "output_type": "stream",
     "text": [
      "[23/100] current valid score: 0.2715549557654821\n"
     ]
    },
    {
     "name": "stderr",
     "output_type": "stream",
     "text": [
      "[23/100] current loss: 0.025680499711656958:  24%|████████▋                           | 24/100 [00:14<00:45,  1.66it/s]"
     ]
    },
    {
     "name": "stdout",
     "output_type": "stream",
     "text": [
      "[24/100] current valid score: 0.24994172494172495\n"
     ]
    },
    {
     "name": "stderr",
     "output_type": "stream",
     "text": [
      "[24/100] current loss: 0.02397162376380548:  25%|█████████▎                           | 25/100 [00:14<00:44,  1.69it/s]"
     ]
    },
    {
     "name": "stdout",
     "output_type": "stream",
     "text": [
      "[25/100] current valid score: 0.24049961476432066\n"
     ]
    },
    {
     "name": "stderr",
     "output_type": "stream",
     "text": [
      "[25/100] current loss: 0.020750738922658007:  26%|█████████▎                          | 26/100 [00:15<00:43,  1.71it/s]"
     ]
    },
    {
     "name": "stdout",
     "output_type": "stream",
     "text": [
      "[26/100] current valid score: 0.24751944914988397\n"
     ]
    },
    {
     "name": "stderr",
     "output_type": "stream",
     "text": [
      "[26/100] current loss: 0.01300724444350576:  27%|█████████▉                           | 27/100 [00:15<00:42,  1.74it/s]"
     ]
    },
    {
     "name": "stdout",
     "output_type": "stream",
     "text": [
      "[27/100] current valid score: 0.3962962962962962\n"
     ]
    },
    {
     "name": "stderr",
     "output_type": "stream",
     "text": [
      "[27/100] current loss: 0.007379097788314509:  28%|██████████                          | 28/100 [00:16<00:42,  1.68it/s]"
     ]
    },
    {
     "name": "stdout",
     "output_type": "stream",
     "text": [
      "[28/100] current valid score: 0.28257080610021784\n"
     ]
    },
    {
     "name": "stderr",
     "output_type": "stream",
     "text": [
      "[28/100] current loss: 0.0049435582193659575:  29%|██████████▏                        | 29/100 [00:17<00:42,  1.68it/s]"
     ]
    },
    {
     "name": "stdout",
     "output_type": "stream",
     "text": [
      "[29/100] current valid score: 0.35579489954489957\n"
     ]
    },
    {
     "name": "stderr",
     "output_type": "stream",
     "text": [
      "[29/100] current loss: 0.004280445688381427:  30%|██████████▊                         | 30/100 [00:17<00:41,  1.69it/s]"
     ]
    },
    {
     "name": "stdout",
     "output_type": "stream",
     "text": [
      "[30/100] current valid score: 0.34960317460317464\n"
     ]
    },
    {
     "name": "stderr",
     "output_type": "stream",
     "text": [
      "[30/100] current loss: 0.003689160010194391:  31%|███████████▏                        | 31/100 [00:18<00:40,  1.72it/s]"
     ]
    },
    {
     "name": "stdout",
     "output_type": "stream",
     "text": [
      "[31/100] current valid score: 0.310515873015873\n"
     ]
    },
    {
     "name": "stderr",
     "output_type": "stream",
     "text": [
      "[31/100] current loss: 0.0033127291022035164:  32%|███████████▏                       | 32/100 [00:18<00:39,  1.72it/s]"
     ]
    },
    {
     "name": "stdout",
     "output_type": "stream",
     "text": [
      "[32/100] current valid score: 0.310515873015873\n"
     ]
    },
    {
     "name": "stderr",
     "output_type": "stream",
     "text": [
      "[32/100] current loss: 0.00298455148571875:  33%|████████████▏                        | 33/100 [00:19<00:38,  1.73it/s]"
     ]
    },
    {
     "name": "stdout",
     "output_type": "stream",
     "text": [
      "[33/100] current valid score: 0.2773809523809524\n"
     ]
    },
    {
     "name": "stderr",
     "output_type": "stream",
     "text": [
      "[33/100] current loss: 0.002851909087077389:  34%|████████████▏                       | 34/100 [00:19<00:37,  1.74it/s]"
     ]
    },
    {
     "name": "stdout",
     "output_type": "stream",
     "text": [
      "[34/100] current valid score: 0.3001984126984127\n"
     ]
    },
    {
     "name": "stderr",
     "output_type": "stream",
     "text": [
      "[34/100] current loss: 0.002764698254262529:  35%|████████████▌                       | 35/100 [00:20<00:37,  1.73it/s]"
     ]
    },
    {
     "name": "stdout",
     "output_type": "stream",
     "text": [
      "[35/100] current valid score: 0.32162698412698415\n"
     ]
    },
    {
     "name": "stderr",
     "output_type": "stream",
     "text": [
      "[35/100] current loss: 0.002666095847157928:  36%|████████████▉                       | 36/100 [00:21<00:36,  1.73it/s]"
     ]
    },
    {
     "name": "stdout",
     "output_type": "stream",
     "text": [
      "[36/100] current valid score: 0.3001984126984127\n"
     ]
    },
    {
     "name": "stderr",
     "output_type": "stream",
     "text": [
      "[36/100] current loss: 0.0025603166834367967:  37%|████████████▉                      | 37/100 [00:21<00:35,  1.77it/s]"
     ]
    },
    {
     "name": "stdout",
     "output_type": "stream",
     "text": [
      "[37/100] current valid score: 0.310515873015873\n"
     ]
    },
    {
     "name": "stderr",
     "output_type": "stream",
     "text": [
      "[37/100] current loss: 0.0024483795997088517:  38%|█████████████▎                     | 38/100 [00:22<00:34,  1.77it/s]"
     ]
    },
    {
     "name": "stdout",
     "output_type": "stream",
     "text": [
      "[38/100] current valid score: 0.310515873015873\n"
     ]
    },
    {
     "name": "stderr",
     "output_type": "stream",
     "text": [
      "[38/100] current loss: 0.0023481939290839484:  39%|█████████████▋                     | 39/100 [00:22<00:34,  1.78it/s]"
     ]
    },
    {
     "name": "stdout",
     "output_type": "stream",
     "text": [
      "[39/100] current valid score: 0.32162698412698415\n"
     ]
    },
    {
     "name": "stderr",
     "output_type": "stream",
     "text": [
      "[39/100] current loss: 0.0022763555218291475:  40%|██████████████                     | 40/100 [00:23<00:33,  1.78it/s]"
     ]
    },
    {
     "name": "stdout",
     "output_type": "stream",
     "text": [
      "[40/100] current valid score: 0.3113095238095238\n"
     ]
    },
    {
     "name": "stderr",
     "output_type": "stream",
     "text": [
      "[40/100] current loss: 0.0021925852520436775:  41%|██████████████▎                    | 41/100 [00:23<00:33,  1.78it/s]"
     ]
    },
    {
     "name": "stdout",
     "output_type": "stream",
     "text": [
      "[41/100] current valid score: 0.32162698412698415\n"
     ]
    },
    {
     "name": "stderr",
     "output_type": "stream",
     "text": [
      "[41/100] current loss: 0.0021081066773674354:  42%|██████████████▋                    | 42/100 [00:24<00:32,  1.76it/s]"
     ]
    },
    {
     "name": "stdout",
     "output_type": "stream",
     "text": [
      "[42/100] current valid score: 0.32162698412698415\n"
     ]
    },
    {
     "name": "stderr",
     "output_type": "stream",
     "text": [
      "[42/100] current loss: 0.002042111478806511:  43%|███████████████▍                    | 43/100 [00:25<00:32,  1.74it/s]"
     ]
    },
    {
     "name": "stdout",
     "output_type": "stream",
     "text": [
      "[43/100] current valid score: 0.32162698412698415\n"
     ]
    },
    {
     "name": "stderr",
     "output_type": "stream",
     "text": [
      "[43/100] current loss: 0.0019498102033768242:  44%|███████████████▍                   | 44/100 [00:25<00:31,  1.76it/s]"
     ]
    },
    {
     "name": "stdout",
     "output_type": "stream",
     "text": [
      "[44/100] current valid score: 0.32162698412698415\n"
     ]
    },
    {
     "name": "stderr",
     "output_type": "stream",
     "text": [
      "[44/100] current loss: 0.001857941091908672:  45%|████████████████▏                   | 45/100 [00:26<00:31,  1.76it/s]"
     ]
    },
    {
     "name": "stdout",
     "output_type": "stream",
     "text": [
      "[45/100] current valid score: 0.32162698412698415\n"
     ]
    },
    {
     "name": "stderr",
     "output_type": "stream",
     "text": [
      "[45/100] current loss: 0.0017956787856613717:  46%|████████████████                   | 46/100 [00:26<00:30,  1.75it/s]"
     ]
    },
    {
     "name": "stdout",
     "output_type": "stream",
     "text": [
      "[46/100] current valid score: 0.32162698412698415\n"
     ]
    },
    {
     "name": "stderr",
     "output_type": "stream",
     "text": [
      "[46/100] current loss: 0.0016984856664770988:  47%|████████████████▍                  | 47/100 [00:27<00:30,  1.76it/s]"
     ]
    },
    {
     "name": "stdout",
     "output_type": "stream",
     "text": [
      "[47/100] current valid score: 0.3255952380952381\n"
     ]
    },
    {
     "name": "stderr",
     "output_type": "stream",
     "text": [
      "[47/100] current loss: 0.001618803009330257:  48%|█████████████████▎                  | 48/100 [00:27<00:29,  1.77it/s]"
     ]
    },
    {
     "name": "stdout",
     "output_type": "stream",
     "text": [
      "[48/100] current valid score: 0.3248677248677249\n"
     ]
    },
    {
     "name": "stderr",
     "output_type": "stream",
     "text": [
      "[48/100] current loss: 0.0015629230566867969:  49%|█████████████████▏                 | 49/100 [00:28<00:29,  1.70it/s]"
     ]
    },
    {
     "name": "stdout",
     "output_type": "stream",
     "text": [
      "[49/100] current valid score: 0.3255952380952381\n"
     ]
    },
    {
     "name": "stderr",
     "output_type": "stream",
     "text": [
      "[49/100] current loss: 0.0014723967155063056:  50%|█████████████████▌                 | 50/100 [00:29<00:28,  1.73it/s]"
     ]
    },
    {
     "name": "stdout",
     "output_type": "stream",
     "text": [
      "[50/100] current valid score: 0.3208994708994709\n"
     ]
    },
    {
     "name": "stderr",
     "output_type": "stream",
     "text": [
      "[50/100] current loss: 0.0014636425180284958:  51%|█████████████████▊                 | 51/100 [00:29<00:28,  1.74it/s]"
     ]
    },
    {
     "name": "stdout",
     "output_type": "stream",
     "text": [
      "[51/100] current valid score: 0.3363095238095238\n"
     ]
    },
    {
     "name": "stderr",
     "output_type": "stream",
     "text": [
      "[51/100] current loss: 0.0013978041526747913:  52%|██████████████████▏                | 52/100 [00:30<00:27,  1.75it/s]"
     ]
    },
    {
     "name": "stdout",
     "output_type": "stream",
     "text": [
      "[52/100] current valid score: 0.3972120472120472\n"
     ]
    },
    {
     "name": "stderr",
     "output_type": "stream",
     "text": [
      "[52/100] current loss: 0.0013479503643948857:  53%|██████████████████▌                | 53/100 [00:30<00:26,  1.77it/s]"
     ]
    },
    {
     "name": "stdout",
     "output_type": "stream",
     "text": [
      "[53/100] current valid score: 0.34742063492063496\n"
     ]
    },
    {
     "name": "stderr",
     "output_type": "stream",
     "text": [
      "[53/100] current loss: 0.0013422704097337838:  54%|██████████████████▉                | 54/100 [00:31<00:25,  1.77it/s]"
     ]
    },
    {
     "name": "stdout",
     "output_type": "stream",
     "text": [
      "[54/100] current valid score: 0.40820105820105823\n"
     ]
    },
    {
     "name": "stderr",
     "output_type": "stream",
     "text": [
      "[54/100] current loss: 0.0012785316316214035:  55%|███████████████████▎               | 55/100 [00:31<00:25,  1.77it/s]"
     ]
    },
    {
     "name": "stdout",
     "output_type": "stream",
     "text": [
      "[55/100] current valid score: 0.3335317460317461\n"
     ]
    },
    {
     "name": "stderr",
     "output_type": "stream",
     "text": [
      "[55/100] current loss: 0.0012271057254051774:  56%|███████████████████▌               | 56/100 [00:32<00:24,  1.76it/s]"
     ]
    },
    {
     "name": "stdout",
     "output_type": "stream",
     "text": [
      "[56/100] current valid score: 0.3248677248677249\n"
     ]
    },
    {
     "name": "stderr",
     "output_type": "stream",
     "text": [
      "[56/100] current loss: 0.0012016967014689755:  57%|███████████████████▉               | 57/100 [00:33<00:25,  1.71it/s]"
     ]
    },
    {
     "name": "stdout",
     "output_type": "stream",
     "text": [
      "[57/100] current valid score: 0.4121693121693122\n"
     ]
    },
    {
     "name": "stderr",
     "output_type": "stream",
     "text": [
      "[57/100] current loss: 0.0011706946917423389:  58%|████████████████████▎              | 58/100 [00:33<00:24,  1.74it/s]"
     ]
    },
    {
     "name": "stdout",
     "output_type": "stream",
     "text": [
      "[58/100] current valid score: 0.41289682539682543\n"
     ]
    },
    {
     "name": "stderr",
     "output_type": "stream",
     "text": [
      "[58/100] current loss: 0.0011383400003357632:  59%|████████████████████▋              | 59/100 [00:34<00:23,  1.76it/s]"
     ]
    },
    {
     "name": "stdout",
     "output_type": "stream",
     "text": [
      "[59/100] current valid score: 0.406547619047619\n"
     ]
    },
    {
     "name": "stderr",
     "output_type": "stream",
     "text": [
      "[59/100] current loss: 0.0011121172124777382:  60%|█████████████████████              | 60/100 [00:34<00:22,  1.77it/s]"
     ]
    },
    {
     "name": "stdout",
     "output_type": "stream",
     "text": [
      "[60/100] current valid score: 0.41051587301587306\n"
     ]
    },
    {
     "name": "stderr",
     "output_type": "stream",
     "text": [
      "[60/100] current loss: 0.0011105092424081593:  61%|█████████████████████▎             | 61/100 [00:35<00:21,  1.78it/s]"
     ]
    },
    {
     "name": "stdout",
     "output_type": "stream",
     "text": [
      "[61/100] current valid score: 0.4121693121693122\n"
     ]
    },
    {
     "name": "stderr",
     "output_type": "stream",
     "text": [
      "[61/100] current loss: 0.00105512096751027:  62%|██████████████████████▉              | 62/100 [00:35<00:21,  1.75it/s]"
     ]
    },
    {
     "name": "stdout",
     "output_type": "stream",
     "text": [
      "[62/100] current valid score: 0.4121693121693122\n"
     ]
    },
    {
     "name": "stderr",
     "output_type": "stream",
     "text": [
      "[62/100] current loss: 0.0010288665676868058:  63%|██████████████████████             | 63/100 [00:36<00:22,  1.66it/s]"
     ]
    },
    {
     "name": "stdout",
     "output_type": "stream",
     "text": [
      "[63/100] current valid score: 0.4121693121693122\n"
     ]
    },
    {
     "name": "stderr",
     "output_type": "stream",
     "text": [
      "[63/100] current loss: 0.0010033136960573312:  64%|██████████████████████▍            | 64/100 [00:37<00:21,  1.66it/s]"
     ]
    },
    {
     "name": "stdout",
     "output_type": "stream",
     "text": [
      "[64/100] current valid score: 0.4121693121693122\n"
     ]
    },
    {
     "name": "stderr",
     "output_type": "stream",
     "text": [
      "[64/100] current loss: 0.0009758154884344194:  65%|██████████████████████▊            | 65/100 [00:37<00:20,  1.67it/s]"
     ]
    },
    {
     "name": "stdout",
     "output_type": "stream",
     "text": [
      "[65/100] current valid score: 0.4121693121693122\n"
     ]
    },
    {
     "name": "stderr",
     "output_type": "stream",
     "text": [
      "[65/100] current loss: 0.0009588868077087208:  66%|███████████████████████            | 66/100 [00:38<00:20,  1.67it/s]"
     ]
    },
    {
     "name": "stdout",
     "output_type": "stream",
     "text": [
      "[66/100] current valid score: 0.4121693121693122\n"
     ]
    },
    {
     "name": "stderr",
     "output_type": "stream",
     "text": [
      "[66/100] current loss: 0.0009238535720037251:  67%|███████████████████████▍           | 67/100 [00:39<00:19,  1.66it/s]"
     ]
    },
    {
     "name": "stdout",
     "output_type": "stream",
     "text": [
      "[67/100] current valid score: 0.4121693121693122\n"
     ]
    },
    {
     "name": "stderr",
     "output_type": "stream",
     "text": [
      "[67/100] current loss: 0.0009054137560410229:  68%|███████████████████████▊           | 68/100 [00:39<00:19,  1.61it/s]"
     ]
    },
    {
     "name": "stdout",
     "output_type": "stream",
     "text": [
      "[68/100] current valid score: 0.4121693121693122\n"
     ]
    },
    {
     "name": "stderr",
     "output_type": "stream",
     "text": [
      "[68/100] current loss: 0.0008850606930692022:  69%|████████████████████████▏          | 69/100 [00:40<00:18,  1.67it/s]"
     ]
    },
    {
     "name": "stdout",
     "output_type": "stream",
     "text": [
      "[69/100] current valid score: 0.4121693121693122\n"
     ]
    },
    {
     "name": "stderr",
     "output_type": "stream",
     "text": [
      "[69/100] current loss: 0.0008573209548868784:  70%|████████████████████████▌          | 70/100 [00:40<00:17,  1.71it/s]"
     ]
    },
    {
     "name": "stdout",
     "output_type": "stream",
     "text": [
      "[70/100] current valid score: 0.41031746031746036\n"
     ]
    },
    {
     "name": "stderr",
     "output_type": "stream",
     "text": [
      "[70/100] current loss: 0.0008390304079748751:  71%|████████████████████████▊          | 71/100 [00:41<00:16,  1.74it/s]"
     ]
    },
    {
     "name": "stdout",
     "output_type": "stream",
     "text": [
      "[71/100] current valid score: 0.3964285714285715\n"
     ]
    },
    {
     "name": "stderr",
     "output_type": "stream",
     "text": [
      "[71/100] current loss: 0.000829186525226124:  72%|█████████████████████████▉          | 72/100 [00:41<00:16,  1.74it/s]"
     ]
    },
    {
     "name": "stdout",
     "output_type": "stream",
     "text": [
      "[72/100] current valid score: 0.41031746031746036\n"
     ]
    },
    {
     "name": "stderr",
     "output_type": "stream",
     "text": [
      "[72/100] current loss: 0.0008018999511936331:  73%|█████████████████████████▌         | 73/100 [00:42<00:15,  1.74it/s]"
     ]
    },
    {
     "name": "stdout",
     "output_type": "stream",
     "text": [
      "[73/100] current valid score: 0.40818070818070823\n"
     ]
    },
    {
     "name": "stderr",
     "output_type": "stream",
     "text": [
      "[73/100] current loss: 0.0007935649056623621:  74%|█████████████████████████▉         | 74/100 [00:43<00:15,  1.73it/s]"
     ]
    },
    {
     "name": "stdout",
     "output_type": "stream",
     "text": [
      "[74/100] current valid score: 0.40818070818070823\n"
     ]
    },
    {
     "name": "stderr",
     "output_type": "stream",
     "text": [
      "[74/100] current loss: 0.0007757636892601727:  75%|██████████████████████████▎        | 75/100 [00:43<00:14,  1.77it/s]"
     ]
    },
    {
     "name": "stdout",
     "output_type": "stream",
     "text": [
      "[75/100] current valid score: 0.41003256003256006\n"
     ]
    },
    {
     "name": "stderr",
     "output_type": "stream",
     "text": [
      "[75/100] current loss: 0.0007548224922966181:  76%|██████████████████████████▌        | 76/100 [00:44<00:13,  1.75it/s]"
     ]
    },
    {
     "name": "stdout",
     "output_type": "stream",
     "text": [
      "[76/100] current valid score: 0.40818070818070823\n"
     ]
    },
    {
     "name": "stderr",
     "output_type": "stream",
     "text": [
      "[76/100] current loss: 0.000738044735044241:  77%|███████████████████████████▋        | 77/100 [00:44<00:13,  1.76it/s]"
     ]
    },
    {
     "name": "stdout",
     "output_type": "stream",
     "text": [
      "[77/100] current valid score: 0.40818070818070823\n"
     ]
    },
    {
     "name": "stderr",
     "output_type": "stream",
     "text": [
      "[77/100] current loss: 0.0007250743494104079:  78%|███████████████████████████▎       | 78/100 [00:45<00:12,  1.79it/s]"
     ]
    },
    {
     "name": "stdout",
     "output_type": "stream",
     "text": [
      "[78/100] current valid score: 0.3964285714285715\n"
     ]
    },
    {
     "name": "stderr",
     "output_type": "stream",
     "text": [
      "[78/100] current loss: 0.0007163527671520303:  79%|███████████████████████████▋       | 79/100 [00:45<00:11,  1.75it/s]"
     ]
    },
    {
     "name": "stdout",
     "output_type": "stream",
     "text": [
      "[79/100] current valid score: 0.40818070818070823\n"
     ]
    },
    {
     "name": "stderr",
     "output_type": "stream",
     "text": [
      "[79/100] current loss: 0.0006885158609810883:  80%|████████████████████████████       | 80/100 [00:46<00:11,  1.76it/s]"
     ]
    },
    {
     "name": "stdout",
     "output_type": "stream",
     "text": [
      "[80/100] current valid score: 0.3964285714285715\n"
     ]
    },
    {
     "name": "stderr",
     "output_type": "stream",
     "text": [
      "[80/100] current loss: 0.000689541489431044:  81%|█████████████████████████████▏      | 81/100 [00:46<00:10,  1.79it/s]"
     ]
    },
    {
     "name": "stdout",
     "output_type": "stream",
     "text": [
      "[81/100] current valid score: 0.40818070818070823\n"
     ]
    },
    {
     "name": "stderr",
     "output_type": "stream",
     "text": [
      "[81/100] current loss: 0.0006705929517624824:  82%|████████████████████████████▋      | 82/100 [00:47<00:10,  1.78it/s]"
     ]
    },
    {
     "name": "stdout",
     "output_type": "stream",
     "text": [
      "[82/100] current valid score: 0.40705636955636954\n"
     ]
    },
    {
     "name": "stderr",
     "output_type": "stream",
     "text": [
      "[82/100] current loss: 0.0006573124357113024:  83%|█████████████████████████████      | 83/100 [00:48<00:09,  1.79it/s]"
     ]
    },
    {
     "name": "stdout",
     "output_type": "stream",
     "text": [
      "[83/100] current valid score: 0.40705636955636954\n"
     ]
    },
    {
     "name": "stderr",
     "output_type": "stream",
     "text": [
      "[83/100] current loss: 0.0006496917108088974:  84%|█████████████████████████████▍     | 84/100 [00:48<00:08,  1.81it/s]"
     ]
    },
    {
     "name": "stdout",
     "output_type": "stream",
     "text": [
      "[84/100] current valid score: 0.40705636955636954\n"
     ]
    },
    {
     "name": "stderr",
     "output_type": "stream",
     "text": [
      "[84/100] current loss: 0.0006336284256199511:  85%|█████████████████████████████▊     | 85/100 [00:49<00:08,  1.74it/s]"
     ]
    },
    {
     "name": "stdout",
     "output_type": "stream",
     "text": [
      "[85/100] current valid score: 0.3964285714285715\n"
     ]
    },
    {
     "name": "stderr",
     "output_type": "stream",
     "text": [
      "[85/100] current loss: 0.0006208249549495011:  86%|██████████████████████████████     | 86/100 [00:49<00:07,  1.75it/s]"
     ]
    },
    {
     "name": "stdout",
     "output_type": "stream",
     "text": [
      "[86/100] current valid score: 0.3953042328042328\n"
     ]
    },
    {
     "name": "stderr",
     "output_type": "stream",
     "text": [
      "[86/100] current loss: 0.0006166975415213322:  87%|██████████████████████████████▍    | 87/100 [00:50<00:07,  1.77it/s]"
     ]
    },
    {
     "name": "stdout",
     "output_type": "stream",
     "text": [
      "[87/100] current valid score: 0.3849002849002849\n"
     ]
    },
    {
     "name": "stderr",
     "output_type": "stream",
     "text": [
      "[87/100] current loss: 0.0006008622259265039:  88%|██████████████████████████████▊    | 88/100 [00:50<00:06,  1.79it/s]"
     ]
    },
    {
     "name": "stdout",
     "output_type": "stream",
     "text": [
      "[88/100] current valid score: 0.3953042328042328\n"
     ]
    },
    {
     "name": "stderr",
     "output_type": "stream",
     "text": [
      "[88/100] current loss: 0.0006064532922838277:  89%|███████████████████████████████▏   | 89/100 [00:51<00:06,  1.70it/s]"
     ]
    },
    {
     "name": "stdout",
     "output_type": "stream",
     "text": [
      "[89/100] current valid score: 0.3953042328042328\n"
     ]
    },
    {
     "name": "stderr",
     "output_type": "stream",
     "text": [
      "[89/100] current loss: 0.0005777782487978296:  90%|███████████████████████████████▌   | 90/100 [00:52<00:06,  1.60it/s]"
     ]
    },
    {
     "name": "stdout",
     "output_type": "stream",
     "text": [
      "[90/100] current valid score: 0.3953042328042328\n"
     ]
    },
    {
     "name": "stderr",
     "output_type": "stream",
     "text": [
      "[90/100] current loss: 0.0005625990537426821:  91%|███████████████████████████████▊   | 91/100 [00:52<00:05,  1.66it/s]"
     ]
    },
    {
     "name": "stdout",
     "output_type": "stream",
     "text": [
      "[91/100] current valid score: 0.3953042328042328\n"
     ]
    },
    {
     "name": "stderr",
     "output_type": "stream",
     "text": [
      "[91/100] current loss: 0.0005598171591395285:  92%|████████████████████████████████▏  | 92/100 [00:53<00:04,  1.64it/s]"
     ]
    },
    {
     "name": "stdout",
     "output_type": "stream",
     "text": [
      "[92/100] current valid score: 0.3849002849002849\n"
     ]
    },
    {
     "name": "stderr",
     "output_type": "stream",
     "text": [
      "[92/100] current loss: 0.0005550880583260603:  93%|████████████████████████████████▌  | 93/100 [00:54<00:04,  1.64it/s]"
     ]
    },
    {
     "name": "stdout",
     "output_type": "stream",
     "text": [
      "[93/100] current valid score: 0.3953042328042328\n"
     ]
    },
    {
     "name": "stderr",
     "output_type": "stream",
     "text": [
      "[93/100] current loss: 0.0005416941480726246:  94%|████████████████████████████████▉  | 94/100 [00:54<00:03,  1.61it/s]"
     ]
    },
    {
     "name": "stdout",
     "output_type": "stream",
     "text": [
      "[94/100] current valid score: 0.3953042328042328\n"
     ]
    },
    {
     "name": "stderr",
     "output_type": "stream",
     "text": [
      "[94/100] current loss: 0.0005294445266083973:  95%|█████████████████████████████████▎ | 95/100 [00:55<00:03,  1.57it/s]"
     ]
    },
    {
     "name": "stdout",
     "output_type": "stream",
     "text": [
      "[95/100] current valid score: 0.3953042328042328\n"
     ]
    },
    {
     "name": "stderr",
     "output_type": "stream",
     "text": [
      "[95/100] current loss: 0.0005155467897714153:  96%|█████████████████████████████████▌ | 96/100 [00:55<00:02,  1.60it/s]"
     ]
    },
    {
     "name": "stdout",
     "output_type": "stream",
     "text": [
      "[96/100] current valid score: 0.3953042328042328\n"
     ]
    },
    {
     "name": "stderr",
     "output_type": "stream",
     "text": [
      "[96/100] current loss: 0.0005048839072507572:  97%|█████████████████████████████████▉ | 97/100 [00:56<00:01,  1.60it/s]"
     ]
    },
    {
     "name": "stdout",
     "output_type": "stream",
     "text": [
      "[97/100] current valid score: 0.3953042328042328\n"
     ]
    },
    {
     "name": "stderr",
     "output_type": "stream",
     "text": [
      "[97/100] current loss: 0.0005005555893710958:  98%|██████████████████████████████████▎| 98/100 [00:57<00:01,  1.57it/s]"
     ]
    },
    {
     "name": "stdout",
     "output_type": "stream",
     "text": [
      "[98/100] current valid score: 0.3953042328042328\n"
     ]
    },
    {
     "name": "stderr",
     "output_type": "stream",
     "text": [
      "[98/100] current loss: 0.000488453730183646:  99%|███████████████████████████████████▋| 99/100 [00:57<00:00,  1.58it/s]"
     ]
    },
    {
     "name": "stdout",
     "output_type": "stream",
     "text": [
      "[99/100] current valid score: 0.3953042328042328\n"
     ]
    },
    {
     "name": "stderr",
     "output_type": "stream",
     "text": [
      "[99/100] current loss: 0.0004893214123823294: 100%|██████████████████████████████████| 100/100 [00:58<00:00,  1.71it/s]"
     ]
    },
    {
     "name": "stdout",
     "output_type": "stream",
     "text": [
      "[100/100] current valid score: 0.3953042328042328\n"
     ]
    },
    {
     "name": "stderr",
     "output_type": "stream",
     "text": [
      "\n"
     ]
    }
   ],
   "source": [
    "NUM_EPOCHS = 100\n",
    "\n",
    "loss_fn = torch.nn.CrossEntropyLoss(size_average=False)\n",
    "losses = []\n",
    "\n",
    "learning_rate = 3e-3\n",
    "optimizer = torch.optim.AdamW(net.parameters(), lr=learning_rate)\n",
    "ebar = tqdm(range(NUM_EPOCHS))\n",
    "\n",
    "for epoch_num in ebar:\n",
    "    running_loss = 0.0\n",
    "    iter_num = 0\n",
    "#     pbar = tqdm(enumerate(trainloader), total = len(trainloader))\n",
    "    pbar = enumerate(trainloader)\n",
    "    for iter_num, (X_batch, y_batch) in pbar:\n",
    "        iter_num +=1\n",
    "        # forward (подсчёт ответа с текущими весами)\n",
    "        y_pred = net(X_batch)\n",
    "        \n",
    "        # вычисляем loss'ы\n",
    "        loss = loss_fn(y_pred, y_batch)\n",
    "        running_loss += loss.item()\n",
    "                     \n",
    "        # зануляем градиенты\n",
    "        optimizer.zero_grad()\n",
    "\n",
    "        # backward (подсчёт новых градиентов)\n",
    "        loss.backward()\n",
    "\n",
    "        # обновляем веса\n",
    "        optimizer.step()\n",
    "        \n",
    "    line = '[{}/{}] current loss: {}'.format(epoch_num, NUM_EPOCHS, running_loss/len(trainset))\n",
    "    ebar.set_description(line)\n",
    "    \n",
    "    losses.append(running_loss/len(trainset))\n",
    "        \n",
    "    with torch.no_grad():\n",
    "        y_pred = torch.softmax(net(X_val_tensor), 1)\n",
    "        y = torch.argmax(y_pred, axis=1)\n",
    "        line = '[{}/{}] current valid score: {}'.format(epoch_num+1, NUM_EPOCHS, f1_score(y_val_tensor, y, average='macro'))\n",
    "        print(line)\n",
    "#         ebar.set_description(line)"
   ]
  },
  {
   "cell_type": "code",
   "execution_count": null,
   "id": "6fc111cc",
   "metadata": {},
   "outputs": [],
   "source": [
    "fig, axs = plt.subplots(1,1,figsize=(20,8))\n",
    "plt.plot(np.arange(NUM_EPOCHS), losses)\n",
    "plt.show()"
   ]
  },
  {
   "cell_type": "code",
   "execution_count": null,
   "id": "30ed3ef3",
   "metadata": {},
   "outputs": [],
   "source": [
    "for i in range(len(np.unique(y_val_tensor))):\n",
    "    idx = np.argwhere(y_val_tensor==i)[0]\n",
    "    y_pred = torch.sigmoid(net(X_val_tensor[idx]))\n",
    "#     print(torch.sum(y_pred,axis=1))\n",
    "#     print(X_val_tensor.shape, idx.shape, y_val_tensor.shape)\n",
    "    y = torch.argmax(y_pred, axis=1)\n",
    "#     print(y_pred)\n",
    "    print(np.unique(Y)[i], len(y[y==i])/len(idx))"
   ]
  },
  {
   "cell_type": "code",
   "execution_count": 266,
   "id": "206e71a3",
   "metadata": {},
   "outputs": [
    {
     "name": "stdout",
     "output_type": "stream",
     "text": [
      "0.9093150715513585\n",
      "0.7409394506625\n"
     ]
    }
   ],
   "source": [
    "with torch.no_grad():\n",
    "    y_pred = torch.softmax(net(X_val_tensor), 1)\n",
    "    y = torch.argmax(y_pred, axis=1)\n",
    "#     print(net(X_val_tensor).shape)\n",
    "    print(roc_auc_score(y_val_tensor, y_pred, multi_class='ovo'))\n",
    "    print(f1_score(y_val_tensor, y, average='macro'))"
   ]
  },
  {
   "cell_type": "markdown",
   "id": "f2aebf94",
   "metadata": {},
   "source": []
  },
  {
   "cell_type": "code",
   "execution_count": null,
   "id": "5d0cba8d",
   "metadata": {},
   "outputs": [],
   "source": []
  },
  {
   "cell_type": "code",
   "execution_count": null,
   "id": "4b8e7c48",
   "metadata": {},
   "outputs": [],
   "source": []
  },
  {
   "cell_type": "code",
   "execution_count": null,
   "id": "061b5f26",
   "metadata": {},
   "outputs": [],
   "source": []
  }
 ],
 "metadata": {
  "kernelspec": {
   "display_name": "Python 3",
   "language": "python",
   "name": "python3"
  },
  "language_info": {
   "codemirror_mode": {
    "name": "ipython",
    "version": 3
   },
   "file_extension": ".py",
   "mimetype": "text/x-python",
   "name": "python",
   "nbconvert_exporter": "python",
   "pygments_lexer": "ipython3",
   "version": "3.8.3"
  }
 },
 "nbformat": 4,
 "nbformat_minor": 5
}
