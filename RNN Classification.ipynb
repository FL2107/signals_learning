{
 "cells": [
  {
   "cell_type": "markdown",
   "id": "c05d3395",
   "metadata": {},
   "source": [
    "# Мультиклассификация с помощью RNN"
   ]
  },
  {
   "cell_type": "code",
   "execution_count": 9,
   "id": "6610d9fe",
   "metadata": {},
   "outputs": [],
   "source": [
    "import matplotlib.pyplot as plt\n",
    "import numpy as np\n",
    "import pandas as pd\n",
    "from tqdm import tqdm\n",
    "plt.style.use('seaborn')\n",
    "\n",
    "import torch\n",
    "import torch.nn as nn\n",
    "from torch.utils.data import Dataset, DataLoader, TensorDataset\n",
    "from torch.utils.tensorboard import SummaryWriter\n",
    "from pathlib import Path\n",
    "from skimage import transform\n",
    "from sklearn.model_selection import train_test_split\n",
    "from sklearn.metrics import roc_auc_score, f1_score\n",
    "from read_data import *\n",
    "from read_data import good_cols\n",
    "%matplotlib inline"
   ]
  },
  {
   "cell_type": "code",
   "execution_count": 10,
   "id": "e3521bde",
   "metadata": {},
   "outputs": [],
   "source": [
    "class SignalDataset(Dataset):\n",
    "    def __init__(self, data_X, data_Y):\n",
    "        \"\"\"\n",
    "        Args:\n",
    "            csv_file (string): Path to the csv file with annotations.\n",
    "            root_dir (string): Directory with all the images.\n",
    "            transform (callable, optional): Optional transform to be applied\n",
    "                on a sample.\n",
    "        \"\"\"\n",
    "        self.X = data_X\n",
    "        self.Y = data_Y\n",
    "\n",
    "    def __len__(self):\n",
    "        return len(self.X)\n",
    "\n",
    "    def __getitem__(self, idx):\n",
    "        input_data = self.X[idx]\n",
    "        label = self.Y[idx]\n",
    "        \n",
    "        return input_data, label"
   ]
  },
  {
   "cell_type": "code",
   "execution_count": 4,
   "id": "96f06350",
   "metadata": {},
   "outputs": [
    {
     "name": "stderr",
     "output_type": "stream",
     "text": [
      "100%|████████████████████████████████████████████████████████████████████████████████████| 9/9 [00:23<00:00,  2.64s/it]\n"
     ]
    }
   ],
   "source": [
    "all_df = get_df()"
   ]
  },
  {
   "cell_type": "markdown",
   "id": "2c44cb2e",
   "metadata": {},
   "source": [
    "### Выбираем длину"
   ]
  },
  {
   "cell_type": "code",
   "execution_count": 60,
   "id": "f0852a3a",
   "metadata": {},
   "outputs": [
    {
     "data": {
      "text/plain": [
       "(64, 32)"
      ]
     },
     "execution_count": 60,
     "metadata": {},
     "output_type": "execute_result"
    }
   ],
   "source": [
    "TARGET_LEN = 20000\n",
    "activities = sep_by_len(all_df, TARGET_LEN)\n",
    "activities.shape"
   ]
  },
  {
   "cell_type": "code",
   "execution_count": 205,
   "id": "30ad6cc6",
   "metadata": {},
   "outputs": [
    {
     "name": "stderr",
     "output_type": "stream",
     "text": [
      "100%|██████████████████████████████████████████████████████████████████████████████████| 64/64 [00:03<00:00, 20.52it/s]\n"
     ]
    },
    {
     "data": {
      "text/html": [
       "<div>\n",
       "<style scoped>\n",
       "    .dataframe tbody tr th:only-of-type {\n",
       "        vertical-align: middle;\n",
       "    }\n",
       "\n",
       "    .dataframe tbody tr th {\n",
       "        vertical-align: top;\n",
       "    }\n",
       "\n",
       "    .dataframe thead th {\n",
       "        text-align: right;\n",
       "    }\n",
       "</style>\n",
       "<table border=\"1\" class=\"dataframe\">\n",
       "  <thead>\n",
       "    <tr style=\"text-align: right;\">\n",
       "      <th></th>\n",
       "      <th>activityID</th>\n",
       "      <th>heart rate</th>\n",
       "      <th>temperature hand</th>\n",
       "      <th>3Da_x scale_16 hand</th>\n",
       "      <th>3Da_y scale_16 hand</th>\n",
       "      <th>3Da_z scale_16 hand</th>\n",
       "      <th>3Dg_x hand</th>\n",
       "      <th>3Dg_y hand</th>\n",
       "      <th>3Dg_z hand</th>\n",
       "      <th>3Dm_x hand</th>\n",
       "      <th>...</th>\n",
       "      <th>temperature ankle</th>\n",
       "      <th>3Da_x scale_16 ankle</th>\n",
       "      <th>3Da_y scale_16 ankle</th>\n",
       "      <th>3Da_z scale_16 ankle</th>\n",
       "      <th>3Dg_x ankle</th>\n",
       "      <th>3Dg_y ankle</th>\n",
       "      <th>3Dg_z ankle</th>\n",
       "      <th>3Dm_x ankle</th>\n",
       "      <th>3Dm_y ankle</th>\n",
       "      <th>3Dm_z ankle</th>\n",
       "    </tr>\n",
       "  </thead>\n",
       "  <tbody>\n",
       "    <tr>\n",
       "      <th>504</th>\n",
       "      <td>3</td>\n",
       "      <td>[104.0, 104.0, 104.0, 104.0, 104.0, 104.0, 104...</td>\n",
       "      <td>[33.0625, 33.0625, 33.0625, 33.0625, 33.0625, ...</td>\n",
       "      <td>[-8.56019, -8.52722, -8.52374, -8.49557, -8.44...</td>\n",
       "      <td>[4.49675, 4.57099, 4.49612, 4.45554, 4.34378, ...</td>\n",
       "      <td>[1.70561, 1.5519, 1.66767, 1.39881, 1.6693, 1....</td>\n",
       "      <td>[-0.0194474, 0.0325799, -0.00250761, -0.025882...</td>\n",
       "      <td>[0.0503358, 0.0574126, 0.0551736, 0.0308723, 0...</td>\n",
       "      <td>[0.0057868, 0.0167219, -0.0113833, -0.0283495,...</td>\n",
       "      <td>[29.7819, 29.4122, 29.8991, 29.7864, 29.2767, ...</td>\n",
       "      <td>...</td>\n",
       "      <td>[33.875, 33.875, 33.875, 33.875, 33.875, 33.87...</td>\n",
       "      <td>[9.47476, 9.46926, 9.54611, 9.55001, 9.51078, ...</td>\n",
       "      <td>[0.571616, 0.573222, 0.534137, 0.647079, 0.723...</td>\n",
       "      <td>[-3.04832, -3.24133, -3.16312, -3.04801, -3.12...</td>\n",
       "      <td>[-0.00728005, 0.0217171, 0.00404677, -0.028358...</td>\n",
       "      <td>[-0.0243788, 0.00302756, -0.0180928, -0.017168...</td>\n",
       "      <td>[-0.0226631, -0.0223298, -0.00603188, -0.02658...</td>\n",
       "      <td>[-5.29849, -6.08204, -5.57461, -5.18128, -4.79...</td>\n",
       "      <td>[-0.193791, 0.358587, 0.720773, 0.444925, 0.42...</td>\n",
       "      <td>[27.7706, 27.1999, 27.6268, 28.054, 28.4809, 2...</td>\n",
       "    </tr>\n",
       "  </tbody>\n",
       "</table>\n",
       "<p>1 rows × 32 columns</p>\n",
       "</div>"
      ],
      "text/plain": [
       "    activityID                                         heart rate  \\\n",
       "504          3  [104.0, 104.0, 104.0, 104.0, 104.0, 104.0, 104...   \n",
       "\n",
       "                                      temperature hand  \\\n",
       "504  [33.0625, 33.0625, 33.0625, 33.0625, 33.0625, ...   \n",
       "\n",
       "                                   3Da_x scale_16 hand  \\\n",
       "504  [-8.56019, -8.52722, -8.52374, -8.49557, -8.44...   \n",
       "\n",
       "                                   3Da_y scale_16 hand  \\\n",
       "504  [4.49675, 4.57099, 4.49612, 4.45554, 4.34378, ...   \n",
       "\n",
       "                                   3Da_z scale_16 hand  \\\n",
       "504  [1.70561, 1.5519, 1.66767, 1.39881, 1.6693, 1....   \n",
       "\n",
       "                                            3Dg_x hand  \\\n",
       "504  [-0.0194474, 0.0325799, -0.00250761, -0.025882...   \n",
       "\n",
       "                                            3Dg_y hand  \\\n",
       "504  [0.0503358, 0.0574126, 0.0551736, 0.0308723, 0...   \n",
       "\n",
       "                                            3Dg_z hand  \\\n",
       "504  [0.0057868, 0.0167219, -0.0113833, -0.0283495,...   \n",
       "\n",
       "                                            3Dm_x hand  ...  \\\n",
       "504  [29.7819, 29.4122, 29.8991, 29.7864, 29.2767, ...  ...   \n",
       "\n",
       "                                     temperature ankle  \\\n",
       "504  [33.875, 33.875, 33.875, 33.875, 33.875, 33.87...   \n",
       "\n",
       "                                  3Da_x scale_16 ankle  \\\n",
       "504  [9.47476, 9.46926, 9.54611, 9.55001, 9.51078, ...   \n",
       "\n",
       "                                  3Da_y scale_16 ankle  \\\n",
       "504  [0.571616, 0.573222, 0.534137, 0.647079, 0.723...   \n",
       "\n",
       "                                  3Da_z scale_16 ankle  \\\n",
       "504  [-3.04832, -3.24133, -3.16312, -3.04801, -3.12...   \n",
       "\n",
       "                                           3Dg_x ankle  \\\n",
       "504  [-0.00728005, 0.0217171, 0.00404677, -0.028358...   \n",
       "\n",
       "                                           3Dg_y ankle  \\\n",
       "504  [-0.0243788, 0.00302756, -0.0180928, -0.017168...   \n",
       "\n",
       "                                           3Dg_z ankle  \\\n",
       "504  [-0.0226631, -0.0223298, -0.00603188, -0.02658...   \n",
       "\n",
       "                                           3Dm_x ankle  \\\n",
       "504  [-5.29849, -6.08204, -5.57461, -5.18128, -4.79...   \n",
       "\n",
       "                                           3Dm_y ankle  \\\n",
       "504  [-0.193791, 0.358587, 0.720773, 0.444925, 0.42...   \n",
       "\n",
       "                                           3Dm_z ankle  \n",
       "504  [27.7706, 27.1999, 27.6268, 28.054, 28.4809, 2...  \n",
       "\n",
       "[1 rows x 32 columns]"
      ]
     },
     "execution_count": 205,
     "metadata": {},
     "output_type": "execute_result"
    }
   ],
   "source": [
    "CUT_LEN = 1000\n",
    "cut_df = cut_act(activities, CUT_LEN, count=20, random_start=True)\n",
    "cut_df.sample()"
   ]
  },
  {
   "cell_type": "markdown",
   "id": "f64b33c1",
   "metadata": {},
   "source": [
    "### Получаем признаки"
   ]
  },
  {
   "cell_type": "code",
   "execution_count": 206,
   "id": "e7cba46c",
   "metadata": {},
   "outputs": [
    {
     "data": {
      "text/plain": [
       "((1280, 31), (1280,))"
      ]
     },
     "execution_count": 206,
     "metadata": {},
     "output_type": "execute_result"
    }
   ],
   "source": [
    "X = cut_df.iloc[:, 1:].values\n",
    "\n",
    "Y = cut_df.iloc[:, 0] # целевая переменная\n",
    "X.shape, Y.shape"
   ]
  },
  {
   "cell_type": "code",
   "execution_count": 213,
   "id": "155691c9",
   "metadata": {},
   "outputs": [
    {
     "data": {
      "text/plain": [
       "array([0, 1, 2, 3, 4, 5, 6, 7, 8])"
      ]
     },
     "execution_count": 213,
     "metadata": {},
     "output_type": "execute_result"
    }
   ],
   "source": [
    "y_targ = y_encode(Y)\n",
    "np.unique(y_targ)"
   ]
  },
  {
   "cell_type": "markdown",
   "id": "a2eaa75a",
   "metadata": {},
   "source": [
    "### Нормализация"
   ]
  },
  {
   "cell_type": "code",
   "execution_count": 207,
   "id": "6f228789",
   "metadata": {},
   "outputs": [],
   "source": [
    "def normalize_dif_len(X_data) -> pd.DataFrame: # Исправить\n",
    "    arr = []\n",
    "    got_lenghts = False\n",
    "    for col in X_data.T:\n",
    "        \n",
    "        colflat = [] \n",
    "        if not got_lenghts:\n",
    "            lengths = []\n",
    "        for traj_arr in col:\n",
    "            colflat += list(traj_arr)\n",
    "            if not got_lenghts:\n",
    "                lengths.append(len(traj_arr))\n",
    "        \n",
    "        if not got_lenghts:\n",
    "            got_lenghts = True\n",
    "            \n",
    "        col_arr = np.array(colflat, dtype=np.float64)\n",
    "        \n",
    "        x_mean = np.mean(col_arr)\n",
    "        x_var = np.var(col_arr)\n",
    "        col_arr -= x_mean\n",
    "        if x_var:\n",
    "            col_arr /= x_var\n",
    "        else:\n",
    "            col_arr *= 0\n",
    "        \n",
    "        col_arr_reshaped = []\n",
    "        start = 0\n",
    "        for i in range(len(lengths)):\n",
    "            traj_arr = col_arr[start:start+lengths[i]]\n",
    "            start += lengths[i]\n",
    "            col_arr_reshaped.append(traj_arr)\n",
    "            \n",
    "        arr.append(col_arr_reshaped)\n",
    "        \n",
    "        \n",
    "    return np.array(arr, dtype=object).T\n",
    "\n"
   ]
  },
  {
   "cell_type": "code",
   "execution_count": 208,
   "id": "fdb40140",
   "metadata": {},
   "outputs": [
    {
     "data": {
      "text/plain": [
       "(1000, 1280, 31)"
      ]
     },
     "execution_count": 208,
     "metadata": {},
     "output_type": "execute_result"
    }
   ],
   "source": [
    "X_norm = normalize_dif_len(X)\n",
    "X_norm.shape"
   ]
  },
  {
   "cell_type": "code",
   "execution_count": 209,
   "id": "32a5a4f6",
   "metadata": {},
   "outputs": [
    {
     "data": {
      "text/plain": [
       "array([-0.004165141556342869, -0.7177268628374053, 0.2751444118686525,\n",
       "       0.02720269465827064, 0.1314875650915503, -0.012524980443593002,\n",
       "       -0.09343176093259686, -0.013727740003888714, -0.05848210853965814,\n",
       "       0.05410598974382151, -0.09042271358378914, -1.76970079238292,\n",
       "       0.23301616041989476, -0.32563557604663895, 0.41647239345882353,\n",
       "       0.057571002737908765, -0.1581183909416413, 0.02658180362502283,\n",
       "       0.12066559180450681, 0.11457235360467159, -0.11131945878276521,\n",
       "       -2.567445359109842, -0.27997769762991054, -0.15001811376429652,\n",
       "       -0.3552646842352143, 0.022483634413529414, 0.1319710558550384,\n",
       "       0.006496999418262529, 0.04335423180289937, 0.09473450078201626,\n",
       "       -0.06461929803735657], dtype=object)"
      ]
     },
     "execution_count": 209,
     "metadata": {},
     "output_type": "execute_result"
    }
   ],
   "source": [
    "X_norm[2,3]"
   ]
  },
  {
   "cell_type": "markdown",
   "id": "7b2b6b85",
   "metadata": {},
   "source": [
    "### Приводим к одной длине"
   ]
  },
  {
   "cell_type": "code",
   "execution_count": 168,
   "id": "20179846",
   "metadata": {},
   "outputs": [],
   "source": [
    "def get_equal_len(X, need_len=-1, fill_with=0): # Доделать\n",
    "    '''\n",
    "    By default sets all signals to len of signal with maximum length, putting fill_with to the end of signal\n",
    "    If you know precise len you need, it can be changed, signals with bigger lenght would be cutted\n",
    "    '''\n",
    "    if need_len == -1:\n",
    "        max_len = -1\n",
    "        for sig_arr in X.T[0]:\n",
    "            max_len = max(max_len, len(sig_arr))\n",
    "        \n",
    "        X_eq = []    \n",
    "        for sig in X:\n",
    "            sig_arr = np.array(list(sig), dtype=np.float64)\n",
    "#             print(sig_arr.shape, max_len)\n",
    "            z = np.zeros((sig_arr.shape[0], max_len-sig_arr.shape[1]), dtype=np.float64)\n",
    "            new_arr = np.concatenate((sig_arr,z), axis=1)\n",
    "#             print(new_arr.shape, max_len)\n",
    "            X_eq.append(new_arr)\n",
    "        return np.array(X_eq, dtype = np.float64)\n",
    "        \n",
    "    else: # Пока не сделано\n",
    "        pass"
   ]
  },
  {
   "cell_type": "code",
   "execution_count": 176,
   "id": "e26549d7",
   "metadata": {},
   "outputs": [
    {
     "data": {
      "text/plain": [
       "(64, 37744, 31)"
      ]
     },
     "execution_count": 176,
     "metadata": {},
     "output_type": "execute_result"
    }
   ],
   "source": [
    "X_eq = np.transpose(get_equal_len(X_norm), axes = [0,2,1])\n",
    "X_eq.shape"
   ]
  },
  {
   "cell_type": "markdown",
   "id": "32e240d7",
   "metadata": {},
   "source": [
    "Вариант для малой длины"
   ]
  },
  {
   "cell_type": "code",
   "execution_count": 219,
   "id": "b4243798",
   "metadata": {},
   "outputs": [
    {
     "data": {
      "text/plain": [
       "(1280, 1000, 31)"
      ]
     },
     "execution_count": 219,
     "metadata": {},
     "output_type": "execute_result"
    }
   ],
   "source": [
    "X_eq = np.transpose(np.array(X_norm,dtype=np.float64), axes = [1,0,2])\n",
    "X_eq.shape"
   ]
  },
  {
   "cell_type": "code",
   "execution_count": 220,
   "id": "dfd02c86",
   "metadata": {},
   "outputs": [
    {
     "data": {
      "text/plain": [
       "(torch.Size([1024, 1000, 31]),\n",
       " torch.Size([1024]),\n",
       " array([0, 1, 2, 3, 4, 5, 6, 7, 8], dtype=int64),\n",
       " array([0, 1, 2, 3, 4, 5, 6, 7, 8], dtype=int64))"
      ]
     },
     "execution_count": 220,
     "metadata": {},
     "output_type": "execute_result"
    }
   ],
   "source": [
    "X_train_tensor, X_val_tensor, y_train_tensor, y_val_tensor = \\\n",
    "    train_test_split(torch.FloatTensor(X_eq), torch.LongTensor(y_targ), random_state=42, test_size = 0.2)\n",
    "X_train_tensor.shape, y_train_tensor.shape, np.unique(y_train_tensor), np.unique(y_val_tensor)"
   ]
  },
  {
   "cell_type": "code",
   "execution_count": 221,
   "id": "cd2e8c44",
   "metadata": {},
   "outputs": [
    {
     "data": {
      "text/plain": [
       "1024"
      ]
     },
     "execution_count": 221,
     "metadata": {},
     "output_type": "execute_result"
    }
   ],
   "source": [
    "BATCH_SIZE = 64\n",
    "\n",
    "trainset = SignalDataset(X_train_tensor, y_train_tensor)\n",
    "trainloader = torch.utils.data.DataLoader(trainset, batch_size=BATCH_SIZE,\n",
    "                                          shuffle=True, num_workers=0)\n",
    "\n",
    "testset = SignalDataset(X_val_tensor, y_val_tensor)\n",
    "testloader = torch.utils.data.DataLoader(testset, batch_size=BATCH_SIZE,\n",
    "                                         shuffle=False, num_workers=0)\n",
    "len(trainset)"
   ]
  },
  {
   "cell_type": "markdown",
   "id": "247e2bf2",
   "metadata": {},
   "source": [
    "## Подготовка модели"
   ]
  },
  {
   "cell_type": "code",
   "execution_count": 222,
   "id": "1e2958f4",
   "metadata": {},
   "outputs": [],
   "source": [
    "activation = nn.LeakyReLU\n",
    "\n",
    "class RNN(nn.Module):\n",
    "    def __init__(self, input_size, hidden_dim, num_layers, num_classes, seq_len):\n",
    "        super(RNN, self).__init__()\n",
    "        self.hidden_dim = hidden_dim\n",
    "        self.num_layers = num_layers\n",
    "        self.rnn = nn.LSTM(input_size, hidden_dim, num_layers, batch_first=True)\n",
    "        self.fc = nn.Linear(hidden_dim,num_classes)\n",
    "#         self.rnn = nn.RNN(input_size = 31, hidden_size = 128, num_layers=1, batch_first = True, bidirectional = False, dropout=0)\n",
    "    \n",
    "    def forward(self, x):\n",
    "        h0 = torch.zeros(self.num_layers, x.size(0), self.hidden_dim)\n",
    "        c0 = torch.zeros(self.num_layers, x.size(0), self.hidden_dim)\n",
    "        \n",
    "        out, _ = self.rnn(x, (h0, c0))\n",
    "#         out = out.reshape(out.shape[0], -1) # Если хотим выход через последний слой\n",
    "        out = self.fc(out[:,-1,:]) # Если хотим видеть в выходе все слои\n",
    "        return out\n",
    "    \n",
    "input_size = 31\n",
    "hidden_dim = 128\n",
    "num_layers = 1\n",
    "num_classes = len(np.unique(y_targ))\n",
    "seq_len = X_signal.shape[1]\n",
    "\n",
    "net = RNN(input_size, hidden_dim, num_layers, num_classes, seq_len)"
   ]
  },
  {
   "cell_type": "markdown",
   "id": "31351d83",
   "metadata": {},
   "source": [
    "## Обучение"
   ]
  },
  {
   "cell_type": "code",
   "execution_count": 223,
   "id": "3554020a",
   "metadata": {},
   "outputs": [
    {
     "name": "stderr",
     "output_type": "stream",
     "text": [
      "C:\\Users\\kitro\\anaconda3\\lib\\site-packages\\torch\\nn\\_reduction.py:42: UserWarning: size_average and reduce args will be deprecated, please use reduction='sum' instead.\n",
      "  warnings.warn(warning.format(ret))\n",
      "[1/10] current loss: 1.9516414925456047:  10%|████▏                                     | 1/10 [01:05<09:49, 65.53s/it]"
     ]
    },
    {
     "name": "stdout",
     "output_type": "stream",
     "text": [
      "[1/10] current valid score: 0.44596879039665116\n"
     ]
    },
    {
     "name": "stderr",
     "output_type": "stream",
     "text": [
      "[2/10] current loss: 1.3005515187978745:  20%|████████▍                                 | 2/10 [02:26<09:21, 70.21s/it]"
     ]
    },
    {
     "name": "stdout",
     "output_type": "stream",
     "text": [
      "[2/10] current valid score: 0.6055724449232467\n"
     ]
    },
    {
     "name": "stderr",
     "output_type": "stream",
     "text": [
      "[3/10] current loss: 0.9724844060838223:  30%|████████████▌                             | 3/10 [03:51<08:41, 74.46s/it]"
     ]
    },
    {
     "name": "stdout",
     "output_type": "stream",
     "text": [
      "[3/10] current valid score: 0.6361275716173143\n"
     ]
    },
    {
     "name": "stderr",
     "output_type": "stream",
     "text": [
      "[4/10] current loss: 0.797106571495533:  40%|█████████████████▏                         | 4/10 [05:05<07:26, 74.48s/it]"
     ]
    },
    {
     "name": "stdout",
     "output_type": "stream",
     "text": [
      "[4/10] current valid score: 0.7642189707754521\n"
     ]
    },
    {
     "name": "stderr",
     "output_type": "stream",
     "text": [
      "[5/10] current loss: 0.6732963509857655:  50%|█████████████████████                     | 5/10 [06:12<06:01, 72.25s/it]"
     ]
    },
    {
     "name": "stdout",
     "output_type": "stream",
     "text": [
      "[5/10] current valid score: 0.7901294688359365\n"
     ]
    },
    {
     "name": "stderr",
     "output_type": "stream",
     "text": [
      "[6/10] current loss: 1.0100587848573923:  60%|█████████████████████████▏                | 6/10 [07:19<04:42, 70.52s/it]"
     ]
    },
    {
     "name": "stdout",
     "output_type": "stream",
     "text": [
      "[6/10] current valid score: 0.6197124304267162\n"
     ]
    },
    {
     "name": "stderr",
     "output_type": "stream",
     "text": [
      "[7/10] current loss: 0.7526366896927357:  70%|█████████████████████████████▍            | 7/10 [08:24<03:26, 68.87s/it]"
     ]
    },
    {
     "name": "stdout",
     "output_type": "stream",
     "text": [
      "[7/10] current valid score: 0.7407592596271841\n"
     ]
    },
    {
     "name": "stderr",
     "output_type": "stream",
     "text": [
      "[8/10] current loss: 0.5855241362005472:  80%|█████████████████████████████████▌        | 8/10 [09:28<02:15, 67.66s/it]"
     ]
    },
    {
     "name": "stdout",
     "output_type": "stream",
     "text": [
      "[8/10] current valid score: 0.823652254497811\n"
     ]
    },
    {
     "name": "stderr",
     "output_type": "stream",
     "text": [
      "[9/10] current loss: 0.4778214171528816:  90%|█████████████████████████████████████▊    | 9/10 [10:33<01:06, 66.58s/it]"
     ]
    },
    {
     "name": "stdout",
     "output_type": "stream",
     "text": [
      "[9/10] current valid score: 0.8857830361344217\n"
     ]
    },
    {
     "name": "stderr",
     "output_type": "stream",
     "text": [
      "[10/10] current loss: 0.3896242827177048: 100%|████████████████████████████████████████| 10/10 [11:35<00:00, 69.51s/it]"
     ]
    },
    {
     "name": "stdout",
     "output_type": "stream",
     "text": [
      "[10/10] current valid score: 0.8887995327793162\n"
     ]
    },
    {
     "name": "stderr",
     "output_type": "stream",
     "text": [
      "\n"
     ]
    }
   ],
   "source": [
    "NUM_EPOCHS = 10\n",
    "\n",
    "loss_fn = torch.nn.CrossEntropyLoss(size_average=False)\n",
    "losses = []\n",
    "\n",
    "learning_rate = 3e-3\n",
    "optimizer = torch.optim.AdamW(net.parameters(), lr=learning_rate)\n",
    "ebar = tqdm(range(NUM_EPOCHS))\n",
    "\n",
    "for epoch_num in ebar:\n",
    "    running_loss = 0.0\n",
    "    iter_num = 0\n",
    "#     pbar = tqdm(enumerate(trainloader), total = len(trainloader))\n",
    "    pbar = enumerate(trainloader)\n",
    "    for iter_num, (X_batch, y_batch) in pbar:\n",
    "        iter_num +=1\n",
    "        \n",
    "        y_pred = net(X_batch)\n",
    "        \n",
    "        loss = loss_fn(y_pred, y_batch)\n",
    "        running_loss += loss.item()\n",
    "                     \n",
    "        optimizer.zero_grad()\n",
    "\n",
    "        loss.backward()\n",
    "\n",
    "        optimizer.step()\n",
    "        \n",
    "    line = '[{}/{}] current loss: {}'.format(epoch_num+1, NUM_EPOCHS, running_loss/len(trainset))\n",
    "    ebar.set_description(line)\n",
    "    \n",
    "    losses.append(running_loss/len(trainset))\n",
    "        \n",
    "    with torch.no_grad():\n",
    "        y_pred = torch.softmax(net(X_val_tensor), 1)\n",
    "        y = torch.argmax(y_pred, axis=1)\n",
    "        line = '[{}/{}] current valid score: {}'.format(epoch_num+1, NUM_EPOCHS, f1_score(y_val_tensor, y, average='macro'))\n",
    "        print(line)\n",
    "#         ebar.set_description(line)"
   ]
  },
  {
   "cell_type": "code",
   "execution_count": 224,
   "id": "4ceb2e0c",
   "metadata": {},
   "outputs": [
    {
     "data": {
      "image/png": "[encoded data removed]",
      "text/plain": [
       "<Figure size 1440x576 with 1 Axes>"
      ]
     },
     "metadata": {
      "needs_background": "light"
     },
     "output_type": "display_data"
    }
   ],
   "source": [
    "fig, axs = plt.subplots(1,1,figsize=(20,8))\n",
    "plt.plot(np.arange(NUM_EPOCHS), losses)\n",
    "plt.show()"
   ]
  },
  {
   "cell_type": "markdown",
   "id": "187b2c2f",
   "metadata": {},
   "source": [
    "### Оценка точности"
   ]
  },
  {
   "cell_type": "code",
   "execution_count": 225,
   "id": "c7c255ba",
   "metadata": {},
   "outputs": [
    {
     "name": "stdout",
     "output_type": "stream",
     "text": [
      "1 0.9615384615384616\n",
      "2 0.6333333333333333\n",
      "3 0.8048780487804879\n",
      "4 1.0\n",
      "5 1.0\n",
      "6 0.92\n",
      "7 0.8787878787878788\n",
      "16 0.9393939393939394\n",
      "17 0.8461538461538461\n"
     ]
    }
   ],
   "source": [
    "for i in range(len(np.unique(y_val_tensor))):\n",
    "    idx = np.argwhere(y_val_tensor==i)[0]\n",
    "    y_pred = torch.sigmoid(net(X_val_tensor[idx]))\n",
    "    y = torch.argmax(y_pred, axis=1)\n",
    "    print(np.unique(Y)[i], len(y[y==i])/len(idx))"
   ]
  },
  {
   "cell_type": "code",
   "execution_count": 226,
   "id": "6c3fb025",
   "metadata": {},
   "outputs": [
    {
     "name": "stdout",
     "output_type": "stream",
     "text": [
      "0.9853338073446051\n",
      "0.8887995327793162\n"
     ]
    }
   ],
   "source": [
    "with torch.no_grad():\n",
    "    y_pred = torch.softmax(net(X_val_tensor), 1)\n",
    "    y = torch.argmax(y_pred, axis=1)\n",
    "#     print(net(X_val_tensor).shape)\n",
    "    print(roc_auc_score(y_val_tensor, y_pred, multi_class='ovo'))\n",
    "    print(f1_score(y_val_tensor, y, average='macro'))"
   ]
  },
  {
   "cell_type": "code",
   "execution_count": null,
   "id": "07f7383d",
   "metadata": {},
   "outputs": [],
   "source": []
  },
  {
   "cell_type": "code",
   "execution_count": null,
   "id": "1c5b92cf",
   "metadata": {},
   "outputs": [],
   "source": []
  },
  {
   "cell_type": "code",
   "execution_count": null,
   "id": "c2d10298",
   "metadata": {},
   "outputs": [],
   "source": []
  }
 ],
 "metadata": {
  "kernelspec": {
   "display_name": "Python 3",
   "language": "python",
   "name": "python3"
  },
  "language_info": {
   "codemirror_mode": {
    "name": "ipython",
    "version": 3
   },
   "file_extension": ".py",
   "mimetype": "text/x-python",
   "name": "python",
   "nbconvert_exporter": "python",
   "pygments_lexer": "ipython3",
   "version": "3.8.3"
  }
 },
 "nbformat": 4,
 "nbformat_minor": 5
}
