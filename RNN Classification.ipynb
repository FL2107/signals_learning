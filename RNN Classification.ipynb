{
 "cells": [
  {
   "cell_type": "markdown",
   "id": "d6b37f97",
   "metadata": {},
   "source": [
    "# Мультиклассификация с помощью RNN"
   ]
  },
  {
   "cell_type": "code",
   "execution_count": 9,
   "id": "d56000b9",
   "metadata": {},
   "outputs": [],
   "source": [
    "import matplotlib.pyplot as plt\n",
    "import numpy as np\n",
    "import pandas as pd\n",
    "from tqdm import tqdm\n",
    "plt.style.use('seaborn')\n",
    "\n",
    "import torch\n",
    "import torch.nn as nn\n",
    "from torch.utils.data import Dataset, DataLoader, TensorDataset\n",
    "from torch.utils.tensorboard import SummaryWriter\n",
    "from pathlib import Path\n",
    "from skimage import transform\n",
    "from sklearn.model_selection import train_test_split\n",
    "from sklearn.metrics import roc_auc_score, f1_score\n",
    "from read_data import *\n",
    "from read_data import good_cols\n",
    "%matplotlib inline"
   ]
  },
  {
   "cell_type": "code",
   "execution_count": 10,
   "id": "214eb453",
   "metadata": {},
   "outputs": [],
   "source": [
    "class SignalDataset(Dataset):\n",
    "    def __init__(self, data_X, data_Y):\n",
    "        \"\"\"\n",
    "        Args:\n",
    "            csv_file (string): Path to the csv file with annotations.\n",
    "            root_dir (string): Directory with all the images.\n",
    "            transform (callable, optional): Optional transform to be applied\n",
    "                on a sample.\n",
    "        \"\"\"\n",
    "        self.X = data_X\n",
    "        self.Y = data_Y\n",
    "\n",
    "    def __len__(self):\n",
    "        return len(self.X)\n",
    "\n",
    "    def __getitem__(self, idx):\n",
    "        input_data = self.X[idx]\n",
    "        label = self.Y[idx]\n",
    "        \n",
    "        return input_data, label"
   ]
  },
  {
   "cell_type": "code",
   "execution_count": 4,
   "id": "9ef49daa",
   "metadata": {},
   "outputs": [
    {
     "name": "stderr",
     "output_type": "stream",
     "text": [
      "100%|████████████████████████████████████████████████████████████████████████████████████| 9/9 [00:23<00:00,  2.64s/it]\n"
     ]
    }
   ],
   "source": [
    "all_df = get_df()"
   ]
  },
  {
   "cell_type": "markdown",
   "id": "39ee6fb0",
   "metadata": {},
   "source": [
    "### Выбираем длину"
   ]
  },
  {
   "cell_type": "code",
   "execution_count": 60,
   "id": "3fce8d8c",
   "metadata": {},
   "outputs": [
    {
     "data": {
      "text/plain": [
       "(64, 32)"
      ]
     },
     "execution_count": 60,
     "metadata": {},
     "output_type": "execute_result"
    }
   ],
   "source": [
    "TARGET_LEN = 20000\n",
    "activities = sep_by_len(all_df, TARGET_LEN)\n",
    "activities.shape"
   ]
  },
  {
   "cell_type": "markdown",
   "id": "64b6c379",
   "metadata": {},
   "source": [
    "### Получаем признаки"
   ]
  },
  {
   "cell_type": "code",
   "execution_count": 80,
   "id": "93843819",
   "metadata": {},
   "outputs": [
    {
     "data": {
      "text/plain": [
       "((64, 31), (64,))"
      ]
     },
     "execution_count": 80,
     "metadata": {},
     "output_type": "execute_result"
    }
   ],
   "source": [
    "X = activities.iloc[:, 1:].values\n",
    "\n",
    "Y = activities.iloc[:, 0] # целевая переменная\n",
    "X.shape, Y.shape"
   ]
  },
  {
   "cell_type": "markdown",
   "id": "f4b3c566",
   "metadata": {},
   "source": [
    "### Нормализация"
   ]
  },
  {
   "cell_type": "code",
   "execution_count": 136,
   "id": "0b7cf72d",
   "metadata": {},
   "outputs": [],
   "source": [
    "def normalize_arr(X_data) -> pd.DataFrame: # Исправить\n",
    "    arr = []\n",
    "    got_lenghts = False\n",
    "    for col in X_data.T:\n",
    "        \n",
    "        colflat = [] \n",
    "        if not got_lenghts:\n",
    "            lengths = []\n",
    "        for traj_arr in col:\n",
    "            colflat += list(traj_arr)\n",
    "            if not got_lenghts:\n",
    "                lengths.append(len(traj_arr))\n",
    "        \n",
    "        if not got_lenghts:\n",
    "            got_lenghts = True\n",
    "            \n",
    "        col_arr = np.array(colflat, dtype=np.float64)\n",
    "        \n",
    "        x_mean = np.mean(col_arr)\n",
    "        x_var = np.var(col_arr)\n",
    "        col_arr -= x_mean\n",
    "        if x_var:\n",
    "            col_arr /= x_var\n",
    "        else:\n",
    "            col_arr *= 0\n",
    "        \n",
    "        col_arr_reshaped = []\n",
    "        start = 0\n",
    "        for i in range(len(lengths)):\n",
    "            traj_arr = col_arr[start:start+lengths[i]]\n",
    "            start += lengths[i]\n",
    "            col_arr_reshaped.append(traj_arr)\n",
    "            \n",
    "        arr.append(col_arr_reshaped)\n",
    "        \n",
    "        \n",
    "    return np.array(arr, dtype=object).T\n",
    "\n"
   ]
  },
  {
   "cell_type": "code",
   "execution_count": 137,
   "id": "21e3561c",
   "metadata": {},
   "outputs": [
    {
     "data": {
      "text/plain": [
       "(64, 31)"
      ]
     },
     "execution_count": 137,
     "metadata": {},
     "output_type": "execute_result"
    }
   ],
   "source": [
    "X_norm = normalize_arr(X)\n",
    "X_norm.shape"
   ]
  },
  {
   "cell_type": "code",
   "execution_count": 140,
   "id": "127b5aac",
   "metadata": {},
   "outputs": [
    {
     "data": {
      "text/plain": [
       "array([0.12545959, 0.12286868, 0.119462  , ..., 0.07156634, 0.09025997,\n",
       "       0.10563938])"
      ]
     },
     "execution_count": 140,
     "metadata": {},
     "output_type": "execute_result"
    }
   ],
   "source": [
    "X_norm[2,3]"
   ]
  },
  {
   "cell_type": "markdown",
   "id": "6e362933",
   "metadata": {},
   "source": [
    "### Приводим к одной длине"
   ]
  },
  {
   "cell_type": "code",
   "execution_count": 168,
   "id": "4d397a8c",
   "metadata": {},
   "outputs": [],
   "source": [
    "def get_equal_len(X, need_len=-1, fill_with=0): # Доделать\n",
    "    '''\n",
    "    By default sets all signals to len of signal with maximum length, putting fill_with to the end of signal\n",
    "    If you know precise len you need, it can be changed, signals with bigger lenght would be cutted\n",
    "    '''\n",
    "    if need_len == -1:\n",
    "        max_len = -1\n",
    "        for sig_arr in X.T[0]:\n",
    "            max_len = max(max_len, len(sig_arr))\n",
    "        \n",
    "        X_eq = []    \n",
    "        for sig in X:\n",
    "            sig_arr = np.array(list(sig), dtype=np.float64)\n",
    "#             print(sig_arr.shape, max_len)\n",
    "            z = np.zeros((sig_arr.shape[0], max_len-sig_arr.shape[1]), dtype=np.float64)\n",
    "            new_arr = np.concatenate((sig_arr,z), axis=1)\n",
    "#             print(new_arr.shape, max_len)\n",
    "            X_eq.append(new_arr)\n",
    "        return np.array(X_eq, dtype = np.float64)\n",
    "        \n",
    "    else: # Пока не сделано\n",
    "        pass"
   ]
  },
  {
   "cell_type": "code",
   "execution_count": 176,
   "id": "a642e6c1",
   "metadata": {},
   "outputs": [
    {
     "data": {
      "text/plain": [
       "(64, 37744, 31)"
      ]
     },
     "execution_count": 176,
     "metadata": {},
     "output_type": "execute_result"
    }
   ],
   "source": [
    "X_eq = np.transpose(get_equal_len(X_norm), axes = [0,2,1])\n",
    "X_eq.shape"
   ]
  },
  {
   "cell_type": "code",
   "execution_count": 177,
   "id": "3e0bc333",
   "metadata": {},
   "outputs": [
    {
     "data": {
      "text/plain": [
       "array([0, 1, 2, 3, 4, 5, 6, 7, 8])"
      ]
     },
     "execution_count": 177,
     "metadata": {},
     "output_type": "execute_result"
    }
   ],
   "source": [
    "y_targ = y_encode(Y)\n",
    "np.unique(y_targ)"
   ]
  },
  {
   "cell_type": "code",
   "execution_count": 178,
   "id": "3e9a4c9c",
   "metadata": {},
   "outputs": [
    {
     "data": {
      "text/plain": [
       "(torch.Size([44, 37744, 31]),\n",
       " torch.Size([44]),\n",
       " array([0, 1, 2, 3, 4, 5, 6, 7, 8], dtype=int64),\n",
       " array([0, 2, 3, 4, 5, 7, 8], dtype=int64))"
      ]
     },
     "execution_count": 178,
     "metadata": {},
     "output_type": "execute_result"
    }
   ],
   "source": [
    "X_train_tensor, X_val_tensor, y_train_tensor, y_val_tensor = \\\n",
    "    train_test_split(torch.FloatTensor(X_eq), torch.LongTensor(y_targ), random_state=42, test_size = 0.3)\n",
    "X_train_tensor.shape, y_train_tensor.shape, np.unique(y_train_tensor), np.unique(y_val_tensor)"
   ]
  },
  {
   "cell_type": "code",
   "execution_count": 188,
   "id": "19e09753",
   "metadata": {},
   "outputs": [
    {
     "data": {
      "text/plain": [
       "44"
      ]
     },
     "execution_count": 188,
     "metadata": {},
     "output_type": "execute_result"
    }
   ],
   "source": [
    "BATCH_SIZE = 8\n",
    "\n",
    "trainset = SignalDataset(X_train_tensor, y_train_tensor)\n",
    "trainloader = torch.utils.data.DataLoader(trainset, batch_size=BATCH_SIZE,\n",
    "                                          shuffle=True, num_workers=0)\n",
    "\n",
    "testset = SignalDataset(X_val_tensor, y_val_tensor)\n",
    "testloader = torch.utils.data.DataLoader(testset, batch_size=BATCH_SIZE,\n",
    "                                         shuffle=False, num_workers=0)\n",
    "len(trainset)"
   ]
  },
  {
   "cell_type": "markdown",
   "id": "ae3f70e6",
   "metadata": {},
   "source": [
    "## Подготовка модели"
   ]
  },
  {
   "cell_type": "code",
   "execution_count": 195,
   "id": "5427a3bd",
   "metadata": {},
   "outputs": [],
   "source": [
    "activation = nn.LeakyReLU\n",
    "\n",
    "class RNN(nn.Module):\n",
    "    def __init__(self, input_size, hidden_dim, num_layers, num_classes, seq_len):\n",
    "        super(RNN, self).__init__()\n",
    "        self.hidden_dim = hidden_dim\n",
    "        self.num_layers = num_layers\n",
    "        self.rnn = nn.GRU(input_size, hidden_dim, num_layers, batch_first=True)\n",
    "        self.fc = nn.Linear(hidden_dim,num_classes)\n",
    "#         self.rnn = nn.RNN(input_size = 31, hidden_size = 128, num_layers=1, batch_first = True, bidirectional = False, dropout=0)\n",
    "    \n",
    "    def forward(self, x):\n",
    "        h0 = torch.zeros(self.num_layers, x.size(0), self.hidden_dim)\n",
    "        \n",
    "        out, _ = self.rnn(x, h0)\n",
    "#         out = out.reshape(out.shape[0], -1)\n",
    "        out = self.fc(out[:,-1,:])\n",
    "        return out\n",
    "    \n",
    "input_size = 31\n",
    "hidden_dim = 64\n",
    "num_layers = 1\n",
    "num_classes = len(np.unique(y_targ))\n",
    "seq_len = X_signal.shape[1]\n",
    "\n",
    "net = RNN(input_size, hidden_dim, num_layers, num_classes, seq_len)"
   ]
  },
  {
   "cell_type": "markdown",
   "id": "32231cad",
   "metadata": {},
   "source": [
    "## Обучение"
   ]
  },
  {
   "cell_type": "code",
   "execution_count": null,
   "id": "e4ae3338",
   "metadata": {},
   "outputs": [
    {
     "name": "stderr",
     "output_type": "stream",
     "text": [
      "  0%|                                                                                           | 0/10 [00:00<?, ?it/s]"
     ]
    }
   ],
   "source": [
    "NUM_EPOCHS = 10\n",
    "\n",
    "loss_fn = torch.nn.CrossEntropyLoss(size_average=False)\n",
    "losses = []\n",
    "\n",
    "learning_rate = 3e-3\n",
    "optimizer = torch.optim.AdamW(net.parameters(), lr=learning_rate)\n",
    "ebar = tqdm(range(NUM_EPOCHS))\n",
    "\n",
    "for epoch_num in ebar:\n",
    "    running_loss = 0.0\n",
    "    iter_num = 0\n",
    "#     pbar = tqdm(enumerate(trainloader), total = len(trainloader))\n",
    "    pbar = enumerate(trainloader)\n",
    "    for iter_num, (X_batch, y_batch) in pbar:\n",
    "        iter_num +=1\n",
    "        \n",
    "        y_pred = net(X_batch)\n",
    "        \n",
    "        loss = loss_fn(y_pred, y_batch)\n",
    "        running_loss += loss.item()\n",
    "                     \n",
    "        optimizer.zero_grad()\n",
    "\n",
    "        loss.backward()\n",
    "\n",
    "        optimizer.step()\n",
    "        \n",
    "    line = '[{}/{}] current loss: {}'.format(epoch_num+1, NUM_EPOCHS, running_loss/len(trainset))\n",
    "    ebar.set_description(line)\n",
    "    \n",
    "    losses.append(running_loss/len(trainset))\n",
    "        \n",
    "    with torch.no_grad():\n",
    "        y_pred = torch.softmax(net(X_val_tensor), 1)\n",
    "        y = torch.argmax(y_pred, axis=1)\n",
    "        line = '[{}/{}] current valid score: {}'.format(epoch_num+1, NUM_EPOCHS, f1_score(y_val_tensor, y, average='macro'))\n",
    "        print(line)\n",
    "#         ebar.set_description(line)"
   ]
  },
  {
   "cell_type": "code",
   "execution_count": 184,
   "id": "0f2cfc49",
   "metadata": {},
   "outputs": [
    {
     "data": {
      "image/png": "[encoded data removed]",
      "text/plain": [
       "<Figure size 1440x576 with 1 Axes>"
      ]
     },
     "metadata": {
      "needs_background": "light"
     },
     "output_type": "display_data"
    }
   ],
   "source": [
    "fig, axs = plt.subplots(1,1,figsize=(20,8))\n",
    "plt.plot(np.arange(NUM_EPOCHS), losses)\n",
    "plt.show()"
   ]
  },
  {
   "cell_type": "markdown",
   "id": "73ae2c0e",
   "metadata": {},
   "source": [
    "### Оценка точности"
   ]
  },
  {
   "cell_type": "code",
   "execution_count": 185,
   "id": "6479e5d7",
   "metadata": {},
   "outputs": [
    {
     "name": "stdout",
     "output_type": "stream",
     "text": [
      "1 0.0\n"
     ]
    },
    {
     "ename": "ZeroDivisionError",
     "evalue": "division by zero",
     "output_type": "error",
     "traceback": [
      "\u001b[1;31m---------------------------------------------------------------------------\u001b[0m",
      "\u001b[1;31mZeroDivisionError\u001b[0m                         Traceback (most recent call last)",
      "\u001b[1;32m<ipython-input-185-fa29ee52507d>\u001b[0m in \u001b[0;36m<module>\u001b[1;34m\u001b[0m\n\u001b[0;32m      3\u001b[0m     \u001b[0my_pred\u001b[0m \u001b[1;33m=\u001b[0m \u001b[0mtorch\u001b[0m\u001b[1;33m.\u001b[0m\u001b[0msigmoid\u001b[0m\u001b[1;33m(\u001b[0m\u001b[0mnet\u001b[0m\u001b[1;33m(\u001b[0m\u001b[0mX_val_tensor\u001b[0m\u001b[1;33m[\u001b[0m\u001b[0midx\u001b[0m\u001b[1;33m]\u001b[0m\u001b[1;33m)\u001b[0m\u001b[1;33m)\u001b[0m\u001b[1;33m\u001b[0m\u001b[1;33m\u001b[0m\u001b[0m\n\u001b[0;32m      4\u001b[0m     \u001b[0my\u001b[0m \u001b[1;33m=\u001b[0m \u001b[0mtorch\u001b[0m\u001b[1;33m.\u001b[0m\u001b[0margmax\u001b[0m\u001b[1;33m(\u001b[0m\u001b[0my_pred\u001b[0m\u001b[1;33m,\u001b[0m \u001b[0maxis\u001b[0m\u001b[1;33m=\u001b[0m\u001b[1;36m1\u001b[0m\u001b[1;33m)\u001b[0m\u001b[1;33m\u001b[0m\u001b[1;33m\u001b[0m\u001b[0m\n\u001b[1;32m----> 5\u001b[1;33m     \u001b[0mprint\u001b[0m\u001b[1;33m(\u001b[0m\u001b[0mnp\u001b[0m\u001b[1;33m.\u001b[0m\u001b[0munique\u001b[0m\u001b[1;33m(\u001b[0m\u001b[0mY\u001b[0m\u001b[1;33m)\u001b[0m\u001b[1;33m[\u001b[0m\u001b[0mi\u001b[0m\u001b[1;33m]\u001b[0m\u001b[1;33m,\u001b[0m \u001b[0mlen\u001b[0m\u001b[1;33m(\u001b[0m\u001b[0my\u001b[0m\u001b[1;33m[\u001b[0m\u001b[0my\u001b[0m\u001b[1;33m==\u001b[0m\u001b[0mi\u001b[0m\u001b[1;33m]\u001b[0m\u001b[1;33m)\u001b[0m\u001b[1;33m/\u001b[0m\u001b[0mlen\u001b[0m\u001b[1;33m(\u001b[0m\u001b[0midx\u001b[0m\u001b[1;33m)\u001b[0m\u001b[1;33m)\u001b[0m\u001b[1;33m\u001b[0m\u001b[1;33m\u001b[0m\u001b[0m\n\u001b[0m",
      "\u001b[1;31mZeroDivisionError\u001b[0m: division by zero"
     ]
    }
   ],
   "source": [
    "for i in range(len(np.unique(y_val_tensor))):\n",
    "    idx = np.argwhere(y_val_tensor==i)[0]\n",
    "    y_pred = torch.sigmoid(net(X_val_tensor[idx]))\n",
    "    y = torch.argmax(y_pred, axis=1)\n",
    "    print(np.unique(Y)[i], len(y[y==i])/len(idx))"
   ]
  },
  {
   "cell_type": "code",
   "execution_count": 53,
   "id": "46ed5a84",
   "metadata": {},
   "outputs": [
    {
     "name": "stdout",
     "output_type": "stream",
     "text": [
      "0.8227129516242885\n",
      "0.5559134995575673\n"
     ]
    }
   ],
   "source": [
    "with torch.no_grad():\n",
    "    y_pred = torch.softmax(net(X_val_tensor), 1)\n",
    "    y = torch.argmax(y_pred, axis=1)\n",
    "#     print(net(X_val_tensor).shape)\n",
    "    print(roc_auc_score(y_val_tensor, y_pred, multi_class='ovo'))\n",
    "    print(f1_score(y_val_tensor, y, average='macro'))"
   ]
  },
  {
   "cell_type": "code",
   "execution_count": null,
   "id": "b22371d2",
   "metadata": {},
   "outputs": [],
   "source": []
  },
  {
   "cell_type": "code",
   "execution_count": null,
   "id": "3fb35abf",
   "metadata": {},
   "outputs": [],
   "source": []
  },
  {
   "cell_type": "code",
   "execution_count": null,
   "id": "4d7fabf4",
   "metadata": {},
   "outputs": [],
   "source": []
  }
 ],
 "metadata": {
  "kernelspec": {
   "display_name": "Python 3",
   "language": "python",
   "name": "python3"
  },
  "language_info": {
   "codemirror_mode": {
    "name": "ipython",
    "version": 3
   },
   "file_extension": ".py",
   "mimetype": "text/x-python",
   "name": "python",
   "nbconvert_exporter": "python",
   "pygments_lexer": "ipython3",
   "version": "3.8.3"
  }
 },
 "nbformat": 4,
 "nbformat_minor": 5
}
