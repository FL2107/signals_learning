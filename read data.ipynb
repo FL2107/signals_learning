{
 "cells": [
  {
   "cell_type": "markdown",
   "id": "2a02deab",
   "metadata": {},
   "source": [
    "# Определение активности субъекта"
   ]
  },
  {
   "cell_type": "markdown",
   "id": "55dd6368",
   "metadata": {},
   "source": [
    "## Чтение данных с одного субъекта"
   ]
  },
  {
   "cell_type": "code",
   "execution_count": 1,
   "id": "317c587a",
   "metadata": {},
   "outputs": [],
   "source": [
    "import pandas as pd\n",
    "import matplotlib.pyplot as plt\n",
    "import numpy as np\n",
    "from tqdm import tqdm\n",
    "# from skimage import transform"
   ]
  },
  {
   "cell_type": "code",
   "execution_count": 2,
   "id": "c133c95f",
   "metadata": {},
   "outputs": [],
   "source": [
    "col_names = ['timestamp', 'activityID', 'heart rate', 'temperature hand',\\\n",
    "             '3Da_x scale_16 hand', '3Da_y scale_16 hand', '3Da_z scale_16 hand', \\\n",
    "             '3Da_x scale_6 hand', '3Da_y scale_6 hand', '3Da_z scale_6 hand', \\\n",
    "             '3Dg_x hand', '3Dg_y hand', '3Dg_z hand', '3Dm_x hand', '3Dm_y hand', '3Dm_z hand', \\\n",
    "             'orientation_0 hand', 'orientation_1 hand', 'orientation_2 hand', 'orientation_3 hand', \n",
    "             'temperature chest', '3Da_x scale_16 chest', '3Da_y scale_16 chest', '3Da_z scale_16 chest', \\\n",
    "             '3Da_x scale_6 chest', '3Da_y scale_6 chest', '3Da_z scale_6 chest', \\\n",
    "             '3Dg_x chest', '3Dg_y chest', '3Dg_z chest', '3Dm_x chest', '3Dm_y chest', '3Dm_z chest', \\\n",
    "             'orientation_0 chest', 'orientation_1 chest', 'orientation_2 chest', 'orientation_3 chest',\n",
    "             'temperature ankle', '3Da_x scale_16 ankle', '3Da_y scale_16 ankle', '3Da_z scale_16 ankle', \\\n",
    "             '3Da_x scale_6 ankle', '3Da_y scale_6 ankle', '3Da_z scale_6 ankle', \\\n",
    "             '3Dg_x ankle', '3Dg_y ankle', '3Dg_z ankle', '3Dm_x ankle', '3Dm_y ankle', '3Dm_z ankle', \\\n",
    "             'orientation_0 ankle', 'orientation_1 ankle', 'orientation_2 ankle', 'orientation_3 ankle']"
   ]
  },
  {
   "cell_type": "code",
   "execution_count": 3,
   "id": "acd54002",
   "metadata": {},
   "outputs": [],
   "source": [
    "good_cols = ['activityID', 'heart rate', 'temperature hand',\\\n",
    "             '3Da_x scale_16 hand', '3Da_y scale_16 hand', '3Da_z scale_16 hand', \\\n",
    "             '3Dg_x hand', '3Dg_y hand', '3Dg_z hand', '3Dm_x hand', '3Dm_y hand', '3Dm_z hand', \\\n",
    "             'temperature chest', '3Da_x scale_16 chest', '3Da_y scale_16 chest', '3Da_z scale_16 chest', \\\n",
    "             '3Dg_x chest', '3Dg_y chest', '3Dg_z chest', '3Dm_x chest', '3Dm_y chest', '3Dm_z chest', \\\n",
    "             'temperature ankle', '3Da_x scale_16 ankle', '3Da_y scale_16 ankle', '3Da_z scale_16 ankle', \\\n",
    "             '3Dg_x ankle', '3Dg_y ankle', '3Dg_z ankle', '3Dm_x ankle', '3Dm_y ankle', '3Dm_z ankle']"
   ]
  },
  {
   "cell_type": "code",
   "execution_count": 4,
   "id": "f273e2c0",
   "metadata": {},
   "outputs": [],
   "source": [
    "def get_good_data(fname, delete_zero_activity = True):\n",
    "    data = pd.read_csv(fname, names = col_names, sep = ' ')\n",
    "    data_gc = data[good_cols]\n",
    "    if delete_zero_activity:\n",
    "        data_gc = data_gc[(data_gc.activityID != 0)]\n",
    "        \n",
    "    return data_gc"
   ]
  },
  {
   "cell_type": "code",
   "execution_count": 5,
   "id": "91051a19",
   "metadata": {},
   "outputs": [],
   "source": [
    "subj_fname = 'PAMAP2_Dataset/Protocol/subject101.dat'\n",
    "df = get_good_data(subj_fname)"
   ]
  },
  {
   "cell_type": "code",
   "execution_count": 6,
   "id": "87a1e3a0",
   "metadata": {},
   "outputs": [
    {
     "data": {
      "text/html": [
       "<div>\n",
       "<style scoped>\n",
       "    .dataframe tbody tr th:only-of-type {\n",
       "        vertical-align: middle;\n",
       "    }\n",
       "\n",
       "    .dataframe tbody tr th {\n",
       "        vertical-align: top;\n",
       "    }\n",
       "\n",
       "    .dataframe thead th {\n",
       "        text-align: right;\n",
       "    }\n",
       "</style>\n",
       "<table border=\"1\" class=\"dataframe\">\n",
       "  <thead>\n",
       "    <tr style=\"text-align: right;\">\n",
       "      <th></th>\n",
       "      <th>activityID</th>\n",
       "      <th>heart rate</th>\n",
       "      <th>temperature hand</th>\n",
       "      <th>3Da_x scale_16 hand</th>\n",
       "      <th>3Da_y scale_16 hand</th>\n",
       "      <th>3Da_z scale_16 hand</th>\n",
       "      <th>3Dg_x hand</th>\n",
       "      <th>3Dg_y hand</th>\n",
       "      <th>3Dg_z hand</th>\n",
       "      <th>3Dm_x hand</th>\n",
       "      <th>...</th>\n",
       "      <th>temperature ankle</th>\n",
       "      <th>3Da_x scale_16 ankle</th>\n",
       "      <th>3Da_y scale_16 ankle</th>\n",
       "      <th>3Da_z scale_16 ankle</th>\n",
       "      <th>3Dg_x ankle</th>\n",
       "      <th>3Dg_y ankle</th>\n",
       "      <th>3Dg_z ankle</th>\n",
       "      <th>3Dm_x ankle</th>\n",
       "      <th>3Dm_y ankle</th>\n",
       "      <th>3Dm_z ankle</th>\n",
       "    </tr>\n",
       "  </thead>\n",
       "  <tbody>\n",
       "    <tr>\n",
       "      <th>187363</th>\n",
       "      <td>12</td>\n",
       "      <td>NaN</td>\n",
       "      <td>33.8125</td>\n",
       "      <td>-18.0909</td>\n",
       "      <td>3.28924</td>\n",
       "      <td>-1.66602</td>\n",
       "      <td>-3.09525</td>\n",
       "      <td>2.10417</td>\n",
       "      <td>4.34945</td>\n",
       "      <td>54.2716</td>\n",
       "      <td>...</td>\n",
       "      <td>34.9375</td>\n",
       "      <td>11.4464</td>\n",
       "      <td>-2.80516</td>\n",
       "      <td>-0.190104</td>\n",
       "      <td>-0.098531</td>\n",
       "      <td>-0.419308</td>\n",
       "      <td>-1.22948</td>\n",
       "      <td>-40.1482</td>\n",
       "      <td>9.47885</td>\n",
       "      <td>53.1066</td>\n",
       "    </tr>\n",
       "  </tbody>\n",
       "</table>\n",
       "<p>1 rows × 32 columns</p>\n",
       "</div>"
      ],
      "text/plain": [
       "        activityID  heart rate  temperature hand  3Da_x scale_16 hand  \\\n",
       "187363          12         NaN           33.8125             -18.0909   \n",
       "\n",
       "        3Da_y scale_16 hand  3Da_z scale_16 hand  3Dg_x hand  3Dg_y hand  \\\n",
       "187363              3.28924             -1.66602    -3.09525     2.10417   \n",
       "\n",
       "        3Dg_z hand  3Dm_x hand  ...  temperature ankle  3Da_x scale_16 ankle  \\\n",
       "187363     4.34945     54.2716  ...            34.9375               11.4464   \n",
       "\n",
       "        3Da_y scale_16 ankle  3Da_z scale_16 ankle  3Dg_x ankle  3Dg_y ankle  \\\n",
       "187363              -2.80516             -0.190104    -0.098531    -0.419308   \n",
       "\n",
       "        3Dg_z ankle  3Dm_x ankle  3Dm_y ankle  3Dm_z ankle  \n",
       "187363     -1.22948     -40.1482      9.47885      53.1066  \n",
       "\n",
       "[1 rows x 32 columns]"
      ]
     },
     "execution_count": 6,
     "metadata": {},
     "output_type": "execute_result"
    }
   ],
   "source": [
    "df.sample()"
   ]
  },
  {
   "cell_type": "markdown",
   "id": "93a8ebd2",
   "metadata": {},
   "source": [
    "### Выделяем активности"
   ]
  },
  {
   "cell_type": "code",
   "execution_count": 7,
   "id": "4aabbc29",
   "metadata": {},
   "outputs": [],
   "source": [
    "def data_fill_na(data):\n",
    "    data_nonans = data.interpolate(axis = 0, method='linear')\n",
    "    data_nonans = data_nonans.fillna(axis = 0, method='bfill')\n",
    "    data_nonans = data_nonans.fillna(axis = 0, method='ffill')\n",
    "    return data_nonans"
   ]
  },
  {
   "cell_type": "code",
   "execution_count": 8,
   "id": "62e71baa",
   "metadata": {},
   "outputs": [],
   "source": [
    "def get_activity(data, activityID, with_fill = True):\n",
    "    data_act = data[(data.activityID == activityID)]\n",
    "    data_act.pop('activityID')\n",
    "    if with_fill:\n",
    "        data_act = data_fill_na(data_act)\n",
    "    return np.array(data_act).T"
   ]
  },
  {
   "cell_type": "code",
   "execution_count": 9,
   "id": "8a686df3",
   "metadata": {},
   "outputs": [
    {
     "data": {
      "text/plain": [
       "21265"
      ]
     },
     "execution_count": 9,
     "metadata": {},
     "output_type": "execute_result"
    }
   ],
   "source": [
    "len(get_activity(df, 5)[0])"
   ]
  },
  {
   "cell_type": "markdown",
   "id": "b7209992",
   "metadata": {},
   "source": [
    "### Собираем один DataFrame"
   ]
  },
  {
   "cell_type": "code",
   "execution_count": 10,
   "id": "c2891117",
   "metadata": {},
   "outputs": [],
   "source": [
    "def get_df():\n",
    "    adf = pd.DataFrame(columns=good_cols, dtype = object)\n",
    "\n",
    "    for i in tqdm(range(1,10)):\n",
    "        subj_fname = f'PAMAP2_Dataset/Protocol/subject10{i}.dat'\n",
    "        subj_df = get_good_data(subj_fname)\n",
    "        df_arr = []\n",
    "        uniq_act = df['activityID'].unique().tolist()\n",
    "        for act in uniq_act:\n",
    "            arr = []\n",
    "            arr.append(act)\n",
    "            arr += list(get_activity(subj_df, act))\n",
    "            if len(arr[1]):\n",
    "                df_arr.append(arr)\n",
    "\n",
    "        add = pd.DataFrame(data = np.array(df_arr, dtype = object), dtype = object, columns=good_cols)\n",
    "        adf = pd.concat([adf,add])\n",
    "    \n",
    "    adf.index = pd.Int64Index(list(range(len(adf))))\n",
    "    return adf"
   ]
  },
  {
   "cell_type": "code",
   "execution_count": 11,
   "id": "e576e1e1",
   "metadata": {},
   "outputs": [
    {
     "name": "stderr",
     "output_type": "stream",
     "text": [
      "100%|████████████████████████████████████████████████████████████████████████████████████| 9/9 [00:27<00:00,  3.02s/it]\n"
     ]
    },
    {
     "data": {
      "text/html": [
       "<div>\n",
       "<style scoped>\n",
       "    .dataframe tbody tr th:only-of-type {\n",
       "        vertical-align: middle;\n",
       "    }\n",
       "\n",
       "    .dataframe tbody tr th {\n",
       "        vertical-align: top;\n",
       "    }\n",
       "\n",
       "    .dataframe thead th {\n",
       "        text-align: right;\n",
       "    }\n",
       "</style>\n",
       "<table border=\"1\" class=\"dataframe\">\n",
       "  <thead>\n",
       "    <tr style=\"text-align: right;\">\n",
       "      <th></th>\n",
       "      <th>activityID</th>\n",
       "      <th>heart rate</th>\n",
       "      <th>temperature hand</th>\n",
       "      <th>3Da_x scale_16 hand</th>\n",
       "      <th>3Da_y scale_16 hand</th>\n",
       "      <th>3Da_z scale_16 hand</th>\n",
       "      <th>3Dg_x hand</th>\n",
       "      <th>3Dg_y hand</th>\n",
       "      <th>3Dg_z hand</th>\n",
       "      <th>3Dm_x hand</th>\n",
       "      <th>...</th>\n",
       "      <th>temperature ankle</th>\n",
       "      <th>3Da_x scale_16 ankle</th>\n",
       "      <th>3Da_y scale_16 ankle</th>\n",
       "      <th>3Da_z scale_16 ankle</th>\n",
       "      <th>3Dg_x ankle</th>\n",
       "      <th>3Dg_y ankle</th>\n",
       "      <th>3Dg_z ankle</th>\n",
       "      <th>3Dm_x ankle</th>\n",
       "      <th>3Dm_y ankle</th>\n",
       "      <th>3Dm_z ankle</th>\n",
       "    </tr>\n",
       "  </thead>\n",
       "  <tbody>\n",
       "    <tr>\n",
       "      <th>83</th>\n",
       "      <td>12</td>\n",
       "      <td>[95.0, 95.0, 95.0, 95.0, 95.0, 95.0, 95.0, 95....</td>\n",
       "      <td>[34.375, 34.375, 34.375, 34.375, 34.375, 34.37...</td>\n",
       "      <td>[-9.57112, -9.68663, -9.46283, -9.49661, -9.53...</td>\n",
       "      <td>[-1.68575, -1.79903, -1.83939, -1.83809, -1.76...</td>\n",
       "      <td>[1.05703, 1.0172, 0.943713, 1.05866, 0.903824,...</td>\n",
       "      <td>[-0.0138066, -0.00408345, -0.0367714, -0.03786...</td>\n",
       "      <td>[0.0332071, -0.00593475, 0.0217486, -0.0167512...</td>\n",
       "      <td>[-0.01224, -0.012541, -0.018759, -0.0191805, 0...</td>\n",
       "      <td>[40.0712, 40.8207, 41.2038, 41.0672, 41.1921, ...</td>\n",
       "      <td>...</td>\n",
       "      <td>[34.3125, 34.3125, 34.3125, 34.3125, 34.3125, ...</td>\n",
       "      <td>[9.59919, 9.67683, 9.60288, 9.67923, 9.60469, ...</td>\n",
       "      <td>[-0.269223, -0.156434, -0.194249, -0.119107, -...</td>\n",
       "      <td>[-2.46298, -2.3857, -2.34764, -2.30873, -2.269...</td>\n",
       "      <td>[0.0142413, -0.035898, -0.0187516, -0.00029558...</td>\n",
       "      <td>[0.00970597, 0.011012, 0.0390591, 0.00420348, ...</td>\n",
       "      <td>[-0.0301642, -0.00192537, 0.0172885, 0.011496,...</td>\n",
       "      <td>[-29.8306, -29.3119, -29.2017, -30.0841, -29.5...</td>\n",
       "      <td>[5.29258, 4.7509, 5.64704, 4.91732, 5.0214, 4....</td>\n",
       "      <td>[-11.0422, -11.3234, -11.1822, -11.61, -11.324...</td>\n",
       "    </tr>\n",
       "  </tbody>\n",
       "</table>\n",
       "<p>1 rows × 32 columns</p>\n",
       "</div>"
      ],
      "text/plain": [
       "   activityID                                         heart rate  \\\n",
       "83         12  [95.0, 95.0, 95.0, 95.0, 95.0, 95.0, 95.0, 95....   \n",
       "\n",
       "                                     temperature hand  \\\n",
       "83  [34.375, 34.375, 34.375, 34.375, 34.375, 34.37...   \n",
       "\n",
       "                                  3Da_x scale_16 hand  \\\n",
       "83  [-9.57112, -9.68663, -9.46283, -9.49661, -9.53...   \n",
       "\n",
       "                                  3Da_y scale_16 hand  \\\n",
       "83  [-1.68575, -1.79903, -1.83939, -1.83809, -1.76...   \n",
       "\n",
       "                                  3Da_z scale_16 hand  \\\n",
       "83  [1.05703, 1.0172, 0.943713, 1.05866, 0.903824,...   \n",
       "\n",
       "                                           3Dg_x hand  \\\n",
       "83  [-0.0138066, -0.00408345, -0.0367714, -0.03786...   \n",
       "\n",
       "                                           3Dg_y hand  \\\n",
       "83  [0.0332071, -0.00593475, 0.0217486, -0.0167512...   \n",
       "\n",
       "                                           3Dg_z hand  \\\n",
       "83  [-0.01224, -0.012541, -0.018759, -0.0191805, 0...   \n",
       "\n",
       "                                           3Dm_x hand  ...  \\\n",
       "83  [40.0712, 40.8207, 41.2038, 41.0672, 41.1921, ...  ...   \n",
       "\n",
       "                                    temperature ankle  \\\n",
       "83  [34.3125, 34.3125, 34.3125, 34.3125, 34.3125, ...   \n",
       "\n",
       "                                 3Da_x scale_16 ankle  \\\n",
       "83  [9.59919, 9.67683, 9.60288, 9.67923, 9.60469, ...   \n",
       "\n",
       "                                 3Da_y scale_16 ankle  \\\n",
       "83  [-0.269223, -0.156434, -0.194249, -0.119107, -...   \n",
       "\n",
       "                                 3Da_z scale_16 ankle  \\\n",
       "83  [-2.46298, -2.3857, -2.34764, -2.30873, -2.269...   \n",
       "\n",
       "                                          3Dg_x ankle  \\\n",
       "83  [0.0142413, -0.035898, -0.0187516, -0.00029558...   \n",
       "\n",
       "                                          3Dg_y ankle  \\\n",
       "83  [0.00970597, 0.011012, 0.0390591, 0.00420348, ...   \n",
       "\n",
       "                                          3Dg_z ankle  \\\n",
       "83  [-0.0301642, -0.00192537, 0.0172885, 0.011496,...   \n",
       "\n",
       "                                          3Dm_x ankle  \\\n",
       "83  [-29.8306, -29.3119, -29.2017, -30.0841, -29.5...   \n",
       "\n",
       "                                          3Dm_y ankle  \\\n",
       "83  [5.29258, 4.7509, 5.64704, 4.91732, 5.0214, 4....   \n",
       "\n",
       "                                          3Dm_z ankle  \n",
       "83  [-11.0422, -11.3234, -11.1822, -11.61, -11.324...  \n",
       "\n",
       "[1 rows x 32 columns]"
      ]
     },
     "execution_count": 11,
     "metadata": {},
     "output_type": "execute_result"
    }
   ],
   "source": [
    "all_df = get_df()\n",
    "all_df.sample()"
   ]
  },
  {
   "cell_type": "markdown",
   "id": "0d07f78b",
   "metadata": {},
   "source": [
    "Сохранение не работает..."
   ]
  },
  {
   "cell_type": "code",
   "execution_count": 95,
   "id": "d4c5b92d",
   "metadata": {},
   "outputs": [],
   "source": [
    "adf.to_csv(\"PAMAP2_Dataset/protocol_all_subj.csv\", index_label='Index', )"
   ]
  },
  {
   "cell_type": "code",
   "execution_count": 96,
   "id": "80479d52",
   "metadata": {},
   "outputs": [],
   "source": [
    "all_df = pd.read_csv(\"PAMAP2_Dataset/protocol_all_subj.csv\", index_col='Index')"
   ]
  },
  {
   "cell_type": "markdown",
   "id": "d1488857",
   "metadata": {},
   "source": [
    "### Смотрим на длину активностей"
   ]
  },
  {
   "cell_type": "code",
   "execution_count": 12,
   "id": "c9e900b4",
   "metadata": {},
   "outputs": [],
   "source": [
    "def sep_by_len(df, min_act_len, ret_min_len = False) -> (pd.DataFrame, np.ndarray):\n",
    "    uniq_act = df['activityID'].unique().tolist()\n",
    "    min_len = np.zeros((len(uniq_act)), dtype = np.int64) - 1\n",
    "    chosen = []\n",
    "\n",
    "    for i in range(len(df)):\n",
    "        p = df.iloc[i]\n",
    "        if len(p['heart rate']) >= min_act_len:\n",
    "            chosen.append(i)\n",
    "            if min_len[uniq_act.index(p['activityID'])] == -1:\n",
    "                min_len[uniq_act.index(p['activityID'])] = len(p['heart rate'])\n",
    "            else:\n",
    "                min_len[uniq_act.index(p['activityID'])] = min(min_len[uniq_act.index(p['activityID'])], len(p['heart rate']))\n",
    "    \n",
    "    if ret_min_len:\n",
    "        return min_len\n",
    "    else:\n",
    "        return df.iloc[(chosen)] "
   ]
  },
  {
   "cell_type": "markdown",
   "id": "4d606524",
   "metadata": {},
   "source": [
    "Минимальные длины"
   ]
  },
  {
   "cell_type": "code",
   "execution_count": 13,
   "id": "0052f808",
   "metadata": {},
   "outputs": [
    {
     "data": {
      "text/plain": [
       "array([22044, 12282, 20533, 23573, 20037, 10389,  9655, 22253, 20265,\n",
       "       20486,     1,   256], dtype=int64)"
      ]
     },
     "execution_count": 13,
     "metadata": {},
     "output_type": "execute_result"
    }
   ],
   "source": [
    "lens = sep_by_len(all_df, 0, ret_min_len=True)\n",
    "lens"
   ]
  },
  {
   "cell_type": "markdown",
   "id": "3f97a23f",
   "metadata": {},
   "source": [
    "Выбираем активности с 20000+ длиной"
   ]
  },
  {
   "cell_type": "code",
   "execution_count": 14,
   "id": "00a20cdd",
   "metadata": {},
   "outputs": [
    {
     "data": {
      "text/html": [
       "<div>\n",
       "<style scoped>\n",
       "    .dataframe tbody tr th:only-of-type {\n",
       "        vertical-align: middle;\n",
       "    }\n",
       "\n",
       "    .dataframe tbody tr th {\n",
       "        vertical-align: top;\n",
       "    }\n",
       "\n",
       "    .dataframe thead th {\n",
       "        text-align: right;\n",
       "    }\n",
       "</style>\n",
       "<table border=\"1\" class=\"dataframe\">\n",
       "  <thead>\n",
       "    <tr style=\"text-align: right;\">\n",
       "      <th></th>\n",
       "      <th>activityID</th>\n",
       "      <th>heart rate</th>\n",
       "      <th>temperature hand</th>\n",
       "      <th>3Da_x scale_16 hand</th>\n",
       "      <th>3Da_y scale_16 hand</th>\n",
       "      <th>3Da_z scale_16 hand</th>\n",
       "      <th>3Dg_x hand</th>\n",
       "      <th>3Dg_y hand</th>\n",
       "      <th>3Dg_z hand</th>\n",
       "      <th>3Dm_x hand</th>\n",
       "      <th>...</th>\n",
       "      <th>temperature ankle</th>\n",
       "      <th>3Da_x scale_16 ankle</th>\n",
       "      <th>3Da_y scale_16 ankle</th>\n",
       "      <th>3Da_z scale_16 ankle</th>\n",
       "      <th>3Dg_x ankle</th>\n",
       "      <th>3Dg_y ankle</th>\n",
       "      <th>3Dg_z ankle</th>\n",
       "      <th>3Dm_x ankle</th>\n",
       "      <th>3Dm_y ankle</th>\n",
       "      <th>3Dm_z ankle</th>\n",
       "    </tr>\n",
       "  </thead>\n",
       "  <tbody>\n",
       "    <tr>\n",
       "      <th>count</th>\n",
       "      <td>64</td>\n",
       "      <td>64</td>\n",
       "      <td>64</td>\n",
       "      <td>64</td>\n",
       "      <td>64</td>\n",
       "      <td>64</td>\n",
       "      <td>64</td>\n",
       "      <td>64</td>\n",
       "      <td>64</td>\n",
       "      <td>64</td>\n",
       "      <td>...</td>\n",
       "      <td>64</td>\n",
       "      <td>64</td>\n",
       "      <td>64</td>\n",
       "      <td>64</td>\n",
       "      <td>64</td>\n",
       "      <td>64</td>\n",
       "      <td>64</td>\n",
       "      <td>64</td>\n",
       "      <td>64</td>\n",
       "      <td>64</td>\n",
       "    </tr>\n",
       "    <tr>\n",
       "      <th>unique</th>\n",
       "      <td>9</td>\n",
       "      <td>64</td>\n",
       "      <td>64</td>\n",
       "      <td>64</td>\n",
       "      <td>64</td>\n",
       "      <td>64</td>\n",
       "      <td>64</td>\n",
       "      <td>64</td>\n",
       "      <td>64</td>\n",
       "      <td>64</td>\n",
       "      <td>...</td>\n",
       "      <td>64</td>\n",
       "      <td>64</td>\n",
       "      <td>64</td>\n",
       "      <td>64</td>\n",
       "      <td>64</td>\n",
       "      <td>64</td>\n",
       "      <td>64</td>\n",
       "      <td>64</td>\n",
       "      <td>64</td>\n",
       "      <td>64</td>\n",
       "    </tr>\n",
       "    <tr>\n",
       "      <th>top</th>\n",
       "      <td>1</td>\n",
       "      <td>[100.0, 100.0, 100.0, 100.0, 100.0, 100.0, 100...</td>\n",
       "      <td>[30.375, 30.375, 30.375, 30.375, 30.375, 30.37...</td>\n",
       "      <td>[2.2153, 2.29196, 2.2909, 2.218, 2.30106, 2.07...</td>\n",
       "      <td>[8.27915, 7.67288, 7.1424, 7.14365, 7.25857, 7...</td>\n",
       "      <td>[5.58753, 5.74467, 5.82342, 5.8993, 6.09259, 6...</td>\n",
       "      <td>[-0.00475004, -0.17171, -0.238241, -0.192912, ...</td>\n",
       "      <td>[0.0375788, 0.0254788, 0.0112136, 0.0190534, -...</td>\n",
       "      <td>[-0.011145, -0.00953821, 0.000830722, 0.013374...</td>\n",
       "      <td>[8.932, 9.583, 9.05516, 9.92698, 9.15626, 8.60...</td>\n",
       "      <td>...</td>\n",
       "      <td>[30.75, 30.75, 30.75, 30.75, 30.75, 30.75, 30....</td>\n",
       "      <td>[9.73855, 9.69762, 9.69633, 9.6637, 9.77578, 9...</td>\n",
       "      <td>[-1.84761, -1.88438, -1.92203, -1.84714, -1.88...</td>\n",
       "      <td>[0.0951561, -0.0208042, -0.0591734, 0.0943855,...</td>\n",
       "      <td>[0.00290826, 0.020882, -0.0353922, -0.0325136,...</td>\n",
       "      <td>[-0.0277138, 0.000944724, -0.0524217, -0.01884...</td>\n",
       "      <td>[0.00175228, 0.00600704, -0.00488214, 0.026949...</td>\n",
       "      <td>[-61.1081, -60.8916, -60.3407, -60.7646, -60.2...</td>\n",
       "      <td>[-36.8636, -36.3197, -35.7842, -37.1028, -37.1...</td>\n",
       "      <td>[-58.3696, -58.3656, -58.6119, -57.8799, -57.8...</td>\n",
       "    </tr>\n",
       "    <tr>\n",
       "      <th>freq</th>\n",
       "      <td>8</td>\n",
       "      <td>1</td>\n",
       "      <td>1</td>\n",
       "      <td>1</td>\n",
       "      <td>1</td>\n",
       "      <td>1</td>\n",
       "      <td>1</td>\n",
       "      <td>1</td>\n",
       "      <td>1</td>\n",
       "      <td>1</td>\n",
       "      <td>...</td>\n",
       "      <td>1</td>\n",
       "      <td>1</td>\n",
       "      <td>1</td>\n",
       "      <td>1</td>\n",
       "      <td>1</td>\n",
       "      <td>1</td>\n",
       "      <td>1</td>\n",
       "      <td>1</td>\n",
       "      <td>1</td>\n",
       "      <td>1</td>\n",
       "    </tr>\n",
       "  </tbody>\n",
       "</table>\n",
       "<p>4 rows × 32 columns</p>\n",
       "</div>"
      ],
      "text/plain": [
       "        activityID                                         heart rate  \\\n",
       "count           64                                                 64   \n",
       "unique           9                                                 64   \n",
       "top              1  [100.0, 100.0, 100.0, 100.0, 100.0, 100.0, 100...   \n",
       "freq             8                                                  1   \n",
       "\n",
       "                                         temperature hand  \\\n",
       "count                                                  64   \n",
       "unique                                                 64   \n",
       "top     [30.375, 30.375, 30.375, 30.375, 30.375, 30.37...   \n",
       "freq                                                    1   \n",
       "\n",
       "                                      3Da_x scale_16 hand  \\\n",
       "count                                                  64   \n",
       "unique                                                 64   \n",
       "top     [2.2153, 2.29196, 2.2909, 2.218, 2.30106, 2.07...   \n",
       "freq                                                    1   \n",
       "\n",
       "                                      3Da_y scale_16 hand  \\\n",
       "count                                                  64   \n",
       "unique                                                 64   \n",
       "top     [8.27915, 7.67288, 7.1424, 7.14365, 7.25857, 7...   \n",
       "freq                                                    1   \n",
       "\n",
       "                                      3Da_z scale_16 hand  \\\n",
       "count                                                  64   \n",
       "unique                                                 64   \n",
       "top     [5.58753, 5.74467, 5.82342, 5.8993, 6.09259, 6...   \n",
       "freq                                                    1   \n",
       "\n",
       "                                               3Dg_x hand  \\\n",
       "count                                                  64   \n",
       "unique                                                 64   \n",
       "top     [-0.00475004, -0.17171, -0.238241, -0.192912, ...   \n",
       "freq                                                    1   \n",
       "\n",
       "                                               3Dg_y hand  \\\n",
       "count                                                  64   \n",
       "unique                                                 64   \n",
       "top     [0.0375788, 0.0254788, 0.0112136, 0.0190534, -...   \n",
       "freq                                                    1   \n",
       "\n",
       "                                               3Dg_z hand  \\\n",
       "count                                                  64   \n",
       "unique                                                 64   \n",
       "top     [-0.011145, -0.00953821, 0.000830722, 0.013374...   \n",
       "freq                                                    1   \n",
       "\n",
       "                                               3Dm_x hand  ...  \\\n",
       "count                                                  64  ...   \n",
       "unique                                                 64  ...   \n",
       "top     [8.932, 9.583, 9.05516, 9.92698, 9.15626, 8.60...  ...   \n",
       "freq                                                    1  ...   \n",
       "\n",
       "                                        temperature ankle  \\\n",
       "count                                                  64   \n",
       "unique                                                 64   \n",
       "top     [30.75, 30.75, 30.75, 30.75, 30.75, 30.75, 30....   \n",
       "freq                                                    1   \n",
       "\n",
       "                                     3Da_x scale_16 ankle  \\\n",
       "count                                                  64   \n",
       "unique                                                 64   \n",
       "top     [9.73855, 9.69762, 9.69633, 9.6637, 9.77578, 9...   \n",
       "freq                                                    1   \n",
       "\n",
       "                                     3Da_y scale_16 ankle  \\\n",
       "count                                                  64   \n",
       "unique                                                 64   \n",
       "top     [-1.84761, -1.88438, -1.92203, -1.84714, -1.88...   \n",
       "freq                                                    1   \n",
       "\n",
       "                                     3Da_z scale_16 ankle  \\\n",
       "count                                                  64   \n",
       "unique                                                 64   \n",
       "top     [0.0951561, -0.0208042, -0.0591734, 0.0943855,...   \n",
       "freq                                                    1   \n",
       "\n",
       "                                              3Dg_x ankle  \\\n",
       "count                                                  64   \n",
       "unique                                                 64   \n",
       "top     [0.00290826, 0.020882, -0.0353922, -0.0325136,...   \n",
       "freq                                                    1   \n",
       "\n",
       "                                              3Dg_y ankle  \\\n",
       "count                                                  64   \n",
       "unique                                                 64   \n",
       "top     [-0.0277138, 0.000944724, -0.0524217, -0.01884...   \n",
       "freq                                                    1   \n",
       "\n",
       "                                              3Dg_z ankle  \\\n",
       "count                                                  64   \n",
       "unique                                                 64   \n",
       "top     [0.00175228, 0.00600704, -0.00488214, 0.026949...   \n",
       "freq                                                    1   \n",
       "\n",
       "                                              3Dm_x ankle  \\\n",
       "count                                                  64   \n",
       "unique                                                 64   \n",
       "top     [-61.1081, -60.8916, -60.3407, -60.7646, -60.2...   \n",
       "freq                                                    1   \n",
       "\n",
       "                                              3Dm_y ankle  \\\n",
       "count                                                  64   \n",
       "unique                                                 64   \n",
       "top     [-36.8636, -36.3197, -35.7842, -37.1028, -37.1...   \n",
       "freq                                                    1   \n",
       "\n",
       "                                              3Dm_z ankle  \n",
       "count                                                  64  \n",
       "unique                                                 64  \n",
       "top     [-58.3696, -58.3656, -58.6119, -57.8799, -57.8...  \n",
       "freq                                                    1  \n",
       "\n",
       "[4 rows x 32 columns]"
      ]
     },
     "execution_count": 14,
     "metadata": {},
     "output_type": "execute_result"
    }
   ],
   "source": [
    "activities = sep_by_len(all_df, 20000)\n",
    "activities.describe()"
   ]
  },
  {
   "cell_type": "code",
   "execution_count": 15,
   "id": "890f73b0",
   "metadata": {},
   "outputs": [],
   "source": [
    "def cut_act(df, cut_len, count=-1, random_start = False) -> pd.DataFrame:\n",
    "    '''\n",
    "    Consideres that cut_len is le to the lenght of all activities\n",
    "    count is maximum number of cutted signals from one activity (-1 is default for maximum number)\n",
    "    random start works with due regard for count\n",
    "    '''\n",
    "    tdf = pd.DataFrame(columns=good_cols, dtype = object)\n",
    "    for i in range(len(df)):\n",
    "        l = len(df.iloc[i]['heart rate'])\n",
    "        start = np.random.randint(0, l-count*(l//count)+1) if random_start else 0\n",
    "        el = np.array(df.iloc[i], dtype = object)\n",
    "#         print(el[1], '\\n')\n",
    "        for j in range(start, l-cut_len, cut_len):\n",
    "            if j//cut_len == count:\n",
    "                break\n",
    "            new_el = [el[0]]\n",
    "            for k in range(1, len(el)):\n",
    "                new_el.append(el[k][j:j+cut_len])\n",
    "            tdf = tdf.append(pd.DataFrame([new_el], columns=good_cols))\n",
    "#             pd.DataFrame.append()\n",
    "#             print(tdf, '\\n')\n",
    "    \n",
    "    tdf.index = pd.Int64Index(list(range(len(tdf))))\n",
    "    return tdf"
   ]
  },
  {
   "cell_type": "code",
   "execution_count": 16,
   "id": "6fef8859",
   "metadata": {},
   "outputs": [
    {
     "data": {
      "text/plain": [
       "20000"
      ]
     },
     "execution_count": 16,
     "metadata": {},
     "output_type": "execute_result"
    }
   ],
   "source": [
    "cut_df = cut_act(activities, 20000)\n",
    "len(cut_df.iloc[0][1])"
   ]
  },
  {
   "cell_type": "code",
   "execution_count": 81,
   "id": "a5729e34",
   "metadata": {},
   "outputs": [
    {
     "name": "stdout",
     "output_type": "stream",
     "text": [
      "[1, 2, 3, 17, 16, 4, 7, 6, 5, 1, 2, 3, 17, 16, 4, 7, 6, 1, 2, 3, 17, 16, 4, 1, 2, 3, 17, 16, 4, 7, 6, 1, 2, 3, 17, 16, 4, 7, 6, 5, 1, 2, 3, 17, 16, 4, 7, 6, 5, 1, 3, 17, 16, 4, 7, 6, 1, 2, 3, 17, 16, 4, 7, 6]\n"
     ]
    },
    {
     "ename": "ValueError",
     "evalue": "could not broadcast input array from shape (1,1,64) into shape (64,1,20000)",
     "output_type": "error",
     "traceback": [
      "\u001b[1;31m---------------------------------------------------------------------------\u001b[0m",
      "\u001b[1;31mValueError\u001b[0m                                Traceback (most recent call last)",
      "\u001b[1;32m<ipython-input-81-13a1d95ba33c>\u001b[0m in \u001b[0;36m<module>\u001b[1;34m\u001b[0m\n\u001b[1;32m----> 1\u001b[1;33m \u001b[0mn_df\u001b[0m \u001b[1;33m=\u001b[0m \u001b[0mnormalize_df\u001b[0m\u001b[1;33m(\u001b[0m\u001b[0mcut_df\u001b[0m\u001b[1;33m)\u001b[0m\u001b[1;33m\u001b[0m\u001b[1;33m\u001b[0m\u001b[0m\n\u001b[0m\u001b[0;32m      2\u001b[0m \u001b[0mn_df\u001b[0m\u001b[1;33m.\u001b[0m\u001b[0msample\u001b[0m\u001b[1;33m(\u001b[0m\u001b[1;33m)\u001b[0m\u001b[1;33m\u001b[0m\u001b[1;33m\u001b[0m\u001b[0m\n",
      "\u001b[1;32m<ipython-input-80-050615881ab4>\u001b[0m in \u001b[0;36mnormalize_df\u001b[1;34m(df)\u001b[0m\n\u001b[0;32m     18\u001b[0m     \u001b[0mact\u001b[0m \u001b[1;33m=\u001b[0m \u001b[0mlist\u001b[0m\u001b[1;33m(\u001b[0m\u001b[0mdf\u001b[0m\u001b[1;33m[\u001b[0m\u001b[1;34m'activityID'\u001b[0m\u001b[1;33m]\u001b[0m\u001b[1;33m.\u001b[0m\u001b[0mvalues\u001b[0m\u001b[1;33m)\u001b[0m\u001b[1;33m\u001b[0m\u001b[1;33m\u001b[0m\u001b[0m\n\u001b[0;32m     19\u001b[0m     \u001b[0mprint\u001b[0m\u001b[1;33m(\u001b[0m\u001b[0mact\u001b[0m\u001b[1;33m)\u001b[0m\u001b[1;33m\u001b[0m\u001b[1;33m\u001b[0m\u001b[0m\n\u001b[1;32m---> 20\u001b[1;33m     \u001b[0mnp\u001b[0m\u001b[1;33m.\u001b[0m\u001b[0minsert\u001b[0m\u001b[1;33m(\u001b[0m\u001b[0marr\u001b[0m\u001b[1;33m,\u001b[0m \u001b[1;36m0\u001b[0m\u001b[1;33m,\u001b[0m \u001b[0mact\u001b[0m\u001b[1;33m,\u001b[0m \u001b[0maxis\u001b[0m\u001b[1;33m=\u001b[0m\u001b[1;36m1\u001b[0m\u001b[1;33m)\u001b[0m\u001b[1;33m\u001b[0m\u001b[1;33m\u001b[0m\u001b[0m\n\u001b[0m\u001b[0;32m     21\u001b[0m     \u001b[0mprint\u001b[0m\u001b[1;33m(\u001b[0m\u001b[0marr\u001b[0m\u001b[1;33m.\u001b[0m\u001b[0mshape\u001b[0m\u001b[1;33m)\u001b[0m\u001b[1;33m\u001b[0m\u001b[1;33m\u001b[0m\u001b[0m\n\u001b[0;32m     22\u001b[0m \u001b[1;31m#     return pd.DataFrame(np.array(arr, dtype=object).T, columns=df.columns)\u001b[0m\u001b[1;33m\u001b[0m\u001b[1;33m\u001b[0m\u001b[1;33m\u001b[0m\u001b[0m\n",
      "\u001b[1;32m<__array_function__ internals>\u001b[0m in \u001b[0;36minsert\u001b[1;34m(*args, **kwargs)\u001b[0m\n",
      "\u001b[1;32m~\\anaconda3\\lib\\site-packages\\numpy\\lib\\function_base.py\u001b[0m in \u001b[0;36minsert\u001b[1;34m(arr, obj, values, axis)\u001b[0m\n\u001b[0;32m   4722\u001b[0m         \u001b[0mnew\u001b[0m\u001b[1;33m[\u001b[0m\u001b[0mtuple\u001b[0m\u001b[1;33m(\u001b[0m\u001b[0mslobj\u001b[0m\u001b[1;33m)\u001b[0m\u001b[1;33m]\u001b[0m \u001b[1;33m=\u001b[0m \u001b[0marr\u001b[0m\u001b[1;33m[\u001b[0m\u001b[0mtuple\u001b[0m\u001b[1;33m(\u001b[0m\u001b[0mslobj\u001b[0m\u001b[1;33m)\u001b[0m\u001b[1;33m]\u001b[0m\u001b[1;33m\u001b[0m\u001b[1;33m\u001b[0m\u001b[0m\n\u001b[0;32m   4723\u001b[0m         \u001b[0mslobj\u001b[0m\u001b[1;33m[\u001b[0m\u001b[0maxis\u001b[0m\u001b[1;33m]\u001b[0m \u001b[1;33m=\u001b[0m \u001b[0mslice\u001b[0m\u001b[1;33m(\u001b[0m\u001b[0mindex\u001b[0m\u001b[1;33m,\u001b[0m \u001b[0mindex\u001b[0m\u001b[1;33m+\u001b[0m\u001b[0mnumnew\u001b[0m\u001b[1;33m)\u001b[0m\u001b[1;33m\u001b[0m\u001b[1;33m\u001b[0m\u001b[0m\n\u001b[1;32m-> 4724\u001b[1;33m         \u001b[0mnew\u001b[0m\u001b[1;33m[\u001b[0m\u001b[0mtuple\u001b[0m\u001b[1;33m(\u001b[0m\u001b[0mslobj\u001b[0m\u001b[1;33m)\u001b[0m\u001b[1;33m]\u001b[0m \u001b[1;33m=\u001b[0m \u001b[0mvalues\u001b[0m\u001b[1;33m\u001b[0m\u001b[1;33m\u001b[0m\u001b[0m\n\u001b[0m\u001b[0;32m   4725\u001b[0m         \u001b[0mslobj\u001b[0m\u001b[1;33m[\u001b[0m\u001b[0maxis\u001b[0m\u001b[1;33m]\u001b[0m \u001b[1;33m=\u001b[0m \u001b[0mslice\u001b[0m\u001b[1;33m(\u001b[0m\u001b[0mindex\u001b[0m\u001b[1;33m+\u001b[0m\u001b[0mnumnew\u001b[0m\u001b[1;33m,\u001b[0m \u001b[1;32mNone\u001b[0m\u001b[1;33m)\u001b[0m\u001b[1;33m\u001b[0m\u001b[1;33m\u001b[0m\u001b[0m\n\u001b[0;32m   4726\u001b[0m         \u001b[0mslobj2\u001b[0m \u001b[1;33m=\u001b[0m \u001b[1;33m[\u001b[0m\u001b[0mslice\u001b[0m\u001b[1;33m(\u001b[0m\u001b[1;32mNone\u001b[0m\u001b[1;33m)\u001b[0m\u001b[1;33m]\u001b[0m \u001b[1;33m*\u001b[0m \u001b[0mndim\u001b[0m\u001b[1;33m\u001b[0m\u001b[1;33m\u001b[0m\u001b[0m\n",
      "\u001b[1;31mValueError\u001b[0m: could not broadcast input array from shape (1,1,64) into shape (64,1,20000)"
     ]
    }
   ],
   "source": [
    "n_df = normalize_df(cut_df)\n",
    "n_df.sample()"
   ]
  },
  {
   "cell_type": "code",
   "execution_count": null,
   "id": "1b8cf074",
   "metadata": {},
   "outputs": [],
   "source": []
  },
  {
   "cell_type": "code",
   "execution_count": null,
   "id": "fc4e3fc2",
   "metadata": {},
   "outputs": [],
   "source": []
  }
 ],
 "metadata": {
  "kernelspec": {
   "display_name": "Python 3",
   "language": "python",
   "name": "python3"
  },
  "language_info": {
   "codemirror_mode": {
    "name": "ipython",
    "version": 3
   },
   "file_extension": ".py",
   "mimetype": "text/x-python",
   "name": "python",
   "nbconvert_exporter": "python",
   "pygments_lexer": "ipython3",
   "version": "3.8.3"
  }
 },
 "nbformat": 4,
 "nbformat_minor": 5
}
